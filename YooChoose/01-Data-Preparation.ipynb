{
 "cells": [
  {
   "cell_type": "code",
   "execution_count": 1,
   "metadata": {},
   "outputs": [],
   "source": [
    "import numpy as np\n",
    "import pandas as pd\n",
    "import datetime as dt"
   ]
  },
  {
   "cell_type": "code",
   "execution_count": 2,
   "metadata": {},
   "outputs": [],
   "source": [
    "import matplotlib.pyplot as plt\n",
    "import seaborn as sns\n",
    "%matplotlib inline"
   ]
  },
  {
   "cell_type": "code",
   "execution_count": 3,
   "metadata": {},
   "outputs": [],
   "source": [
    "# !mkdir ../data/processed"
   ]
  },
  {
   "cell_type": "code",
   "execution_count": 4,
   "metadata": {},
   "outputs": [],
   "source": [
    "PATH_TO_ORIGINAL_DATA = '../data/'\n",
    "PATH_TO_PROCESSED_DATA = '../data/processed/'"
   ]
  },
  {
   "cell_type": "markdown",
   "metadata": {},
   "source": [
    "### Reading clicks dataset"
   ]
  },
  {
   "cell_type": "code",
   "execution_count": 5,
   "metadata": {},
   "outputs": [
    {
     "name": "stdout",
     "output_type": "stream",
     "text": [
      "CPU times: user 25.2 s, sys: 2.36 s, total: 27.5 s\n",
      "Wall time: 27.5 s\n"
     ]
    }
   ],
   "source": [
    "%%time\n",
    "df_clicks = pd.read_csv(PATH_TO_ORIGINAL_DATA + 'yoochoose-clicks.dat', sep=',', header=None,\n",
    "                  dtype={0:np.int32, 1:str, 2:np.int64, 3:str})"
   ]
  },
  {
   "cell_type": "code",
   "execution_count": 6,
   "metadata": {},
   "outputs": [],
   "source": [
    "# !cat ../data/dataset-README.txt"
   ]
  },
  {
   "cell_type": "code",
   "execution_count": 7,
   "metadata": {},
   "outputs": [],
   "source": [
    "# data.iloc[:,3].unique()"
   ]
  },
  {
   "cell_type": "code",
   "execution_count": 8,
   "metadata": {},
   "outputs": [
    {
     "data": {
      "text/plain": [
       "0             16337653\n",
       "S             10769610\n",
       "1              1671754\n",
       "2              1292249\n",
       "3               789713\n",
       "                ...   \n",
       "2089134695           1\n",
       "2089287155           1\n",
       "2088962151           1\n",
       "2089759631           1\n",
       "2089251022           1\n",
       "Name: 3, Length: 339, dtype: int64"
      ]
     },
     "execution_count": 8,
     "metadata": {},
     "output_type": "execute_result"
    }
   ],
   "source": [
    "df_clicks.iloc[:,3].value_counts()"
   ]
  },
  {
   "cell_type": "code",
   "execution_count": 9,
   "metadata": {},
   "outputs": [
    {
     "data": {
      "text/plain": [
       "339"
      ]
     },
     "execution_count": 9,
     "metadata": {},
     "output_type": "execute_result"
    }
   ],
   "source": [
    "len(df_clicks.iloc[:,3].unique())"
   ]
  },
  {
   "cell_type": "markdown",
   "metadata": {},
   "source": [
    "### Function to convert the category type to a manageable level"
   ]
  },
  {
   "cell_type": "code",
   "execution_count": 10,
   "metadata": {},
   "outputs": [],
   "source": [
    "def assign_cat(x):\n",
    "    if x == \"S\":\n",
    "        return \"PROMOTION\"\n",
    "    elif np.int(x) == 0:\n",
    "        return \"NONE\"\n",
    "    elif np.int(x) < 13:\n",
    "        return \"CATEGORY\"\n",
    "    else:\n",
    "        return \"BRAND\""
   ]
  },
  {
   "cell_type": "code",
   "execution_count": 11,
   "metadata": {},
   "outputs": [
    {
     "name": "stdout",
     "output_type": "stream",
     "text": [
      "CPU times: user 14.8 s, sys: 44 ms, total: 14.8 s\n",
      "Wall time: 14.8 s\n"
     ]
    }
   ],
   "source": [
    "%%time\n",
    "df_clicks[\"Item_Type\"] = df_clicks.iloc[:,3].map(assign_cat)"
   ]
  },
  {
   "cell_type": "code",
   "execution_count": 12,
   "metadata": {},
   "outputs": [
    {
     "data": {
      "text/plain": [
       "array(['NONE', 'PROMOTION', 'CATEGORY', 'BRAND'], dtype=object)"
      ]
     },
     "execution_count": 12,
     "metadata": {},
     "output_type": "execute_result"
    }
   ],
   "source": [
    "df_clicks.Item_Type.unique()"
   ]
  },
  {
   "cell_type": "code",
   "execution_count": 13,
   "metadata": {},
   "outputs": [
    {
     "data": {
      "text/plain": [
       "NONE         16337653\n",
       "PROMOTION    10769610\n",
       "CATEGORY      5820377\n",
       "BRAND           76304\n",
       "Name: Item_Type, dtype: int64"
      ]
     },
     "execution_count": 13,
     "metadata": {},
     "output_type": "execute_result"
    }
   ],
   "source": [
    "df_clicks.Item_Type.value_counts()"
   ]
  },
  {
   "cell_type": "code",
   "execution_count": 14,
   "metadata": {},
   "outputs": [],
   "source": [
    "df_clicks.columns =  [\"SessionId\", \"TimeStr\", \"ItemId\", \"Item_Type_Code\", \"ItemType\"]"
   ]
  },
  {
   "cell_type": "code",
   "execution_count": 15,
   "metadata": {},
   "outputs": [
    {
     "name": "stdout",
     "output_type": "stream",
     "text": [
      "CPU times: user 2.62 s, sys: 492 ms, total: 3.11 s\n",
      "Wall time: 3.1 s\n"
     ]
    }
   ],
   "source": [
    "%%time\n",
    "df_clicks.drop([\"Item_Type_Code\"], inplace=True, axis=1)"
   ]
  },
  {
   "cell_type": "code",
   "execution_count": 16,
   "metadata": {},
   "outputs": [
    {
     "data": {
      "text/html": [
       "<div>\n",
       "<style scoped>\n",
       "    .dataframe tbody tr th:only-of-type {\n",
       "        vertical-align: middle;\n",
       "    }\n",
       "\n",
       "    .dataframe tbody tr th {\n",
       "        vertical-align: top;\n",
       "    }\n",
       "\n",
       "    .dataframe thead th {\n",
       "        text-align: right;\n",
       "    }\n",
       "</style>\n",
       "<table border=\"1\" class=\"dataframe\">\n",
       "  <thead>\n",
       "    <tr style=\"text-align: right;\">\n",
       "      <th></th>\n",
       "      <th>SessionId</th>\n",
       "      <th>TimeStr</th>\n",
       "      <th>ItemId</th>\n",
       "      <th>ItemType</th>\n",
       "    </tr>\n",
       "  </thead>\n",
       "  <tbody>\n",
       "    <tr>\n",
       "      <td>0</td>\n",
       "      <td>1</td>\n",
       "      <td>2014-04-07T10:51:09.277Z</td>\n",
       "      <td>214536502</td>\n",
       "      <td>NONE</td>\n",
       "    </tr>\n",
       "    <tr>\n",
       "      <td>1</td>\n",
       "      <td>1</td>\n",
       "      <td>2014-04-07T10:54:09.868Z</td>\n",
       "      <td>214536500</td>\n",
       "      <td>NONE</td>\n",
       "    </tr>\n",
       "    <tr>\n",
       "      <td>2</td>\n",
       "      <td>1</td>\n",
       "      <td>2014-04-07T10:54:46.998Z</td>\n",
       "      <td>214536506</td>\n",
       "      <td>NONE</td>\n",
       "    </tr>\n",
       "    <tr>\n",
       "      <td>3</td>\n",
       "      <td>1</td>\n",
       "      <td>2014-04-07T10:57:00.306Z</td>\n",
       "      <td>214577561</td>\n",
       "      <td>NONE</td>\n",
       "    </tr>\n",
       "    <tr>\n",
       "      <td>4</td>\n",
       "      <td>2</td>\n",
       "      <td>2014-04-07T13:56:37.614Z</td>\n",
       "      <td>214662742</td>\n",
       "      <td>NONE</td>\n",
       "    </tr>\n",
       "  </tbody>\n",
       "</table>\n",
       "</div>"
      ],
      "text/plain": [
       "   SessionId                   TimeStr     ItemId ItemType\n",
       "0          1  2014-04-07T10:51:09.277Z  214536502     NONE\n",
       "1          1  2014-04-07T10:54:09.868Z  214536500     NONE\n",
       "2          1  2014-04-07T10:54:46.998Z  214536506     NONE\n",
       "3          1  2014-04-07T10:57:00.306Z  214577561     NONE\n",
       "4          2  2014-04-07T13:56:37.614Z  214662742     NONE"
      ]
     },
     "execution_count": 16,
     "metadata": {},
     "output_type": "execute_result"
    }
   ],
   "source": [
    "df_clicks.head()"
   ]
  },
  {
   "cell_type": "markdown",
   "metadata": {},
   "source": [
    "### Finding number of unique sessions, number of unique items"
   ]
  },
  {
   "cell_type": "code",
   "execution_count": 18,
   "metadata": {},
   "outputs": [
    {
     "name": "stdout",
     "output_type": "stream",
     "text": [
      "Number of unique sessions: 9249729\n"
     ]
    }
   ],
   "source": [
    "print(\"Number of unique sessions:\", len(df_clicks.SessionId.unique()))"
   ]
  },
  {
   "cell_type": "code",
   "execution_count": 19,
   "metadata": {},
   "outputs": [],
   "source": [
    "df_clicks_by_session = df_clicks.groupby([\"SessionId\"])"
   ]
  },
  {
   "cell_type": "code",
   "execution_count": 20,
   "metadata": {},
   "outputs": [
    {
     "name": "stdout",
     "output_type": "stream",
     "text": [
      "CPU times: user 2.08 s, sys: 220 ms, total: 2.3 s\n",
      "Wall time: 2.29 s\n"
     ]
    }
   ],
   "source": [
    "%%time\n",
    "df_clicks_sessionCount = df_clicks_by_session[\"ItemId\"].count()"
   ]
  },
  {
   "cell_type": "code",
   "execution_count": 21,
   "metadata": {},
   "outputs": [
    {
     "name": "stdout",
     "output_type": "stream",
     "text": [
      "CPU times: user 192 ms, sys: 0 ns, total: 192 ms\n",
      "Wall time: 189 ms\n"
     ]
    },
    {
     "data": {
      "text/plain": [
       "<matplotlib.axes._subplots.AxesSubplot at 0x7fc664cd1b90>"
      ]
     },
     "execution_count": 21,
     "metadata": {},
     "output_type": "execute_result"
    },
    {
     "data": {
      "image/png": "[encoded data removed]",
      "text/plain": [
       "<Figure size 432x288 with 1 Axes>"
      ]
     },
     "metadata": {
      "needs_background": "light"
     },
     "output_type": "display_data"
    }
   ],
   "source": [
    "%%time\n",
    "sns.distplot(df_clicks_sessionCount, kde=False, bins=20)"
   ]
  },
  {
   "cell_type": "code",
   "execution_count": 22,
   "metadata": {},
   "outputs": [
    {
     "name": "stdout",
     "output_type": "stream",
     "text": [
      "CPU times: user 236 ms, sys: 0 ns, total: 236 ms\n",
      "Wall time: 235 ms\n"
     ]
    },
    {
     "data": {
      "text/plain": [
       "<matplotlib.axes._subplots.AxesSubplot at 0x7fc67f0de510>"
      ]
     },
     "execution_count": 22,
     "metadata": {},
     "output_type": "execute_result"
    },
    {
     "data": {
      "image/png": "[encoded data removed]",
      "text/plain": [
       "<Figure size 432x288 with 1 Axes>"
      ]
     },
     "metadata": {
      "needs_background": "light"
     },
     "output_type": "display_data"
    }
   ],
   "source": [
    "%%time\n",
    "sns.distplot(df_clicks_sessionCount[df_clicks_sessionCount<20], kde=False, bins=20)"
   ]
  },
  {
   "cell_type": "markdown",
   "metadata": {},
   "source": [
    "### Reading buy dataset"
   ]
  },
  {
   "cell_type": "code",
   "execution_count": 23,
   "metadata": {},
   "outputs": [
    {
     "name": "stdout",
     "output_type": "stream",
     "text": [
      "CPU times: user 1.03 s, sys: 48 ms, total: 1.08 s\n",
      "Wall time: 1.07 s\n"
     ]
    }
   ],
   "source": [
    "%%time\n",
    "df_buys = pd.read_csv(PATH_TO_ORIGINAL_DATA + 'yoochoose-buys.dat', sep=',', header=None,\n",
    "                  dtype={0:np.int32, 1:str, 2:np.int64, 3:np.int64, 4:np.int64})"
   ]
  },
  {
   "cell_type": "code",
   "execution_count": 24,
   "metadata": {},
   "outputs": [],
   "source": [
    "df_buys.columns = [\"SessionId\", \"TimeStr\", \"ItemId\", \"Price\", \"Quantity\"]"
   ]
  },
  {
   "cell_type": "code",
   "execution_count": 25,
   "metadata": {},
   "outputs": [],
   "source": [
    "df_buys.drop([\"TimeStr\"], inplace=True, axis=1)"
   ]
  },
  {
   "cell_type": "code",
   "execution_count": 26,
   "metadata": {},
   "outputs": [],
   "source": [
    "df_buys[\"Action\"] = \"BUY\""
   ]
  },
  {
   "cell_type": "code",
   "execution_count": 27,
   "metadata": {},
   "outputs": [
    {
     "data": {
      "text/html": [
       "<div>\n",
       "<style scoped>\n",
       "    .dataframe tbody tr th:only-of-type {\n",
       "        vertical-align: middle;\n",
       "    }\n",
       "\n",
       "    .dataframe tbody tr th {\n",
       "        vertical-align: top;\n",
       "    }\n",
       "\n",
       "    .dataframe thead th {\n",
       "        text-align: right;\n",
       "    }\n",
       "</style>\n",
       "<table border=\"1\" class=\"dataframe\">\n",
       "  <thead>\n",
       "    <tr style=\"text-align: right;\">\n",
       "      <th></th>\n",
       "      <th>SessionId</th>\n",
       "      <th>ItemId</th>\n",
       "      <th>Price</th>\n",
       "      <th>Quantity</th>\n",
       "      <th>Action</th>\n",
       "    </tr>\n",
       "  </thead>\n",
       "  <tbody>\n",
       "    <tr>\n",
       "      <td>0</td>\n",
       "      <td>420374</td>\n",
       "      <td>214537888</td>\n",
       "      <td>12462</td>\n",
       "      <td>1</td>\n",
       "      <td>BUY</td>\n",
       "    </tr>\n",
       "    <tr>\n",
       "      <td>1</td>\n",
       "      <td>420374</td>\n",
       "      <td>214537850</td>\n",
       "      <td>10471</td>\n",
       "      <td>1</td>\n",
       "      <td>BUY</td>\n",
       "    </tr>\n",
       "    <tr>\n",
       "      <td>2</td>\n",
       "      <td>281626</td>\n",
       "      <td>214535653</td>\n",
       "      <td>1883</td>\n",
       "      <td>1</td>\n",
       "      <td>BUY</td>\n",
       "    </tr>\n",
       "    <tr>\n",
       "      <td>3</td>\n",
       "      <td>420368</td>\n",
       "      <td>214530572</td>\n",
       "      <td>6073</td>\n",
       "      <td>1</td>\n",
       "      <td>BUY</td>\n",
       "    </tr>\n",
       "    <tr>\n",
       "      <td>4</td>\n",
       "      <td>420368</td>\n",
       "      <td>214835025</td>\n",
       "      <td>2617</td>\n",
       "      <td>1</td>\n",
       "      <td>BUY</td>\n",
       "    </tr>\n",
       "  </tbody>\n",
       "</table>\n",
       "</div>"
      ],
      "text/plain": [
       "   SessionId     ItemId  Price  Quantity Action\n",
       "0     420374  214537888  12462         1    BUY\n",
       "1     420374  214537850  10471         1    BUY\n",
       "2     281626  214535653   1883         1    BUY\n",
       "3     420368  214530572   6073         1    BUY\n",
       "4     420368  214835025   2617         1    BUY"
      ]
     },
     "execution_count": 27,
     "metadata": {},
     "output_type": "execute_result"
    }
   ],
   "source": [
    "df_buys.head()"
   ]
  },
  {
   "cell_type": "code",
   "execution_count": 28,
   "metadata": {},
   "outputs": [
    {
     "name": "stdout",
     "output_type": "stream",
     "text": [
      "CPU times: user 13.6 s, sys: 2.16 s, total: 15.8 s\n",
      "Wall time: 15.8 s\n"
     ]
    }
   ],
   "source": [
    "%%time\n",
    "df = pd.merge(left=df_clicks, right=df_buys, how=\"left\", on=[\"SessionId\", \"ItemId\"])"
   ]
  },
  {
   "cell_type": "code",
   "execution_count": 29,
   "metadata": {},
   "outputs": [
    {
     "data": {
      "text/plain": [
       "((33234442, 7), (33003944, 4), (1150753, 5))"
      ]
     },
     "execution_count": 29,
     "metadata": {},
     "output_type": "execute_result"
    }
   ],
   "source": [
    "df.shape, df_clicks.shape, df_buys.shape"
   ]
  },
  {
   "cell_type": "code",
   "execution_count": 30,
   "metadata": {},
   "outputs": [],
   "source": [
    "ItemId = 214821371\n",
    "SessionId = 11"
   ]
  },
  {
   "cell_type": "code",
   "execution_count": 31,
   "metadata": {},
   "outputs": [],
   "source": [
    "query = \"ItemId==@ItemId & SessionId==@SessionId\""
   ]
  },
  {
   "cell_type": "code",
   "execution_count": 32,
   "metadata": {},
   "outputs": [
    {
     "data": {
      "text/html": [
       "<div>\n",
       "<style scoped>\n",
       "    .dataframe tbody tr th:only-of-type {\n",
       "        vertical-align: middle;\n",
       "    }\n",
       "\n",
       "    .dataframe tbody tr th {\n",
       "        vertical-align: top;\n",
       "    }\n",
       "\n",
       "    .dataframe thead th {\n",
       "        text-align: right;\n",
       "    }\n",
       "</style>\n",
       "<table border=\"1\" class=\"dataframe\">\n",
       "  <thead>\n",
       "    <tr style=\"text-align: right;\">\n",
       "      <th></th>\n",
       "      <th>SessionId</th>\n",
       "      <th>TimeStr</th>\n",
       "      <th>ItemId</th>\n",
       "      <th>ItemType</th>\n",
       "      <th>Price</th>\n",
       "      <th>Quantity</th>\n",
       "      <th>Action</th>\n",
       "    </tr>\n",
       "  </thead>\n",
       "  <tbody>\n",
       "    <tr>\n",
       "      <td>26</td>\n",
       "      <td>11</td>\n",
       "      <td>2014-04-03T10:45:29.873Z</td>\n",
       "      <td>214821371</td>\n",
       "      <td>NONE</td>\n",
       "      <td>1046.0</td>\n",
       "      <td>1.0</td>\n",
       "      <td>BUY</td>\n",
       "    </tr>\n",
       "    <tr>\n",
       "      <td>27</td>\n",
       "      <td>11</td>\n",
       "      <td>2014-04-03T10:45:29.873Z</td>\n",
       "      <td>214821371</td>\n",
       "      <td>NONE</td>\n",
       "      <td>1046.0</td>\n",
       "      <td>1.0</td>\n",
       "      <td>BUY</td>\n",
       "    </tr>\n",
       "    <tr>\n",
       "      <td>28</td>\n",
       "      <td>11</td>\n",
       "      <td>2014-04-03T10:46:12.162Z</td>\n",
       "      <td>214821371</td>\n",
       "      <td>NONE</td>\n",
       "      <td>1046.0</td>\n",
       "      <td>1.0</td>\n",
       "      <td>BUY</td>\n",
       "    </tr>\n",
       "    <tr>\n",
       "      <td>29</td>\n",
       "      <td>11</td>\n",
       "      <td>2014-04-03T10:46:12.162Z</td>\n",
       "      <td>214821371</td>\n",
       "      <td>NONE</td>\n",
       "      <td>1046.0</td>\n",
       "      <td>1.0</td>\n",
       "      <td>BUY</td>\n",
       "    </tr>\n",
       "    <tr>\n",
       "      <td>30</td>\n",
       "      <td>11</td>\n",
       "      <td>2014-04-03T10:46:57.355Z</td>\n",
       "      <td>214821371</td>\n",
       "      <td>NONE</td>\n",
       "      <td>1046.0</td>\n",
       "      <td>1.0</td>\n",
       "      <td>BUY</td>\n",
       "    </tr>\n",
       "    <tr>\n",
       "      <td>31</td>\n",
       "      <td>11</td>\n",
       "      <td>2014-04-03T10:46:57.355Z</td>\n",
       "      <td>214821371</td>\n",
       "      <td>NONE</td>\n",
       "      <td>1046.0</td>\n",
       "      <td>1.0</td>\n",
       "      <td>BUY</td>\n",
       "    </tr>\n",
       "  </tbody>\n",
       "</table>\n",
       "</div>"
      ],
      "text/plain": [
       "    SessionId                   TimeStr     ItemId ItemType   Price  Quantity  \\\n",
       "26         11  2014-04-03T10:45:29.873Z  214821371     NONE  1046.0       1.0   \n",
       "27         11  2014-04-03T10:45:29.873Z  214821371     NONE  1046.0       1.0   \n",
       "28         11  2014-04-03T10:46:12.162Z  214821371     NONE  1046.0       1.0   \n",
       "29         11  2014-04-03T10:46:12.162Z  214821371     NONE  1046.0       1.0   \n",
       "30         11  2014-04-03T10:46:57.355Z  214821371     NONE  1046.0       1.0   \n",
       "31         11  2014-04-03T10:46:57.355Z  214821371     NONE  1046.0       1.0   \n",
       "\n",
       "   Action  \n",
       "26    BUY  \n",
       "27    BUY  \n",
       "28    BUY  \n",
       "29    BUY  \n",
       "30    BUY  \n",
       "31    BUY  "
      ]
     },
     "execution_count": 32,
     "metadata": {},
     "output_type": "execute_result"
    }
   ],
   "source": [
    "df.query(query)"
   ]
  },
  {
   "cell_type": "code",
   "execution_count": 33,
   "metadata": {},
   "outputs": [
    {
     "data": {
      "text/html": [
       "<div>\n",
       "<style scoped>\n",
       "    .dataframe tbody tr th:only-of-type {\n",
       "        vertical-align: middle;\n",
       "    }\n",
       "\n",
       "    .dataframe tbody tr th {\n",
       "        vertical-align: top;\n",
       "    }\n",
       "\n",
       "    .dataframe thead th {\n",
       "        text-align: right;\n",
       "    }\n",
       "</style>\n",
       "<table border=\"1\" class=\"dataframe\">\n",
       "  <thead>\n",
       "    <tr style=\"text-align: right;\">\n",
       "      <th></th>\n",
       "      <th>SessionId</th>\n",
       "      <th>ItemId</th>\n",
       "      <th>Price</th>\n",
       "      <th>Quantity</th>\n",
       "      <th>Action</th>\n",
       "    </tr>\n",
       "  </thead>\n",
       "  <tbody>\n",
       "    <tr>\n",
       "      <td>10</td>\n",
       "      <td>11</td>\n",
       "      <td>214821371</td>\n",
       "      <td>1046</td>\n",
       "      <td>1</td>\n",
       "      <td>BUY</td>\n",
       "    </tr>\n",
       "    <tr>\n",
       "      <td>11</td>\n",
       "      <td>11</td>\n",
       "      <td>214821371</td>\n",
       "      <td>1046</td>\n",
       "      <td>1</td>\n",
       "      <td>BUY</td>\n",
       "    </tr>\n",
       "  </tbody>\n",
       "</table>\n",
       "</div>"
      ],
      "text/plain": [
       "    SessionId     ItemId  Price  Quantity Action\n",
       "10         11  214821371   1046         1    BUY\n",
       "11         11  214821371   1046         1    BUY"
      ]
     },
     "execution_count": 33,
     "metadata": {},
     "output_type": "execute_result"
    }
   ],
   "source": [
    "df_buys.query(query)"
   ]
  },
  {
   "cell_type": "code",
   "execution_count": 34,
   "metadata": {},
   "outputs": [
    {
     "data": {
      "text/html": [
       "<div>\n",
       "<style scoped>\n",
       "    .dataframe tbody tr th:only-of-type {\n",
       "        vertical-align: middle;\n",
       "    }\n",
       "\n",
       "    .dataframe tbody tr th {\n",
       "        vertical-align: top;\n",
       "    }\n",
       "\n",
       "    .dataframe thead th {\n",
       "        text-align: right;\n",
       "    }\n",
       "</style>\n",
       "<table border=\"1\" class=\"dataframe\">\n",
       "  <thead>\n",
       "    <tr style=\"text-align: right;\">\n",
       "      <th></th>\n",
       "      <th>SessionId</th>\n",
       "      <th>TimeStr</th>\n",
       "      <th>ItemId</th>\n",
       "      <th>ItemType</th>\n",
       "    </tr>\n",
       "  </thead>\n",
       "  <tbody>\n",
       "    <tr>\n",
       "      <td>26</td>\n",
       "      <td>11</td>\n",
       "      <td>2014-04-03T10:45:29.873Z</td>\n",
       "      <td>214821371</td>\n",
       "      <td>NONE</td>\n",
       "    </tr>\n",
       "    <tr>\n",
       "      <td>27</td>\n",
       "      <td>11</td>\n",
       "      <td>2014-04-03T10:46:12.162Z</td>\n",
       "      <td>214821371</td>\n",
       "      <td>NONE</td>\n",
       "    </tr>\n",
       "    <tr>\n",
       "      <td>28</td>\n",
       "      <td>11</td>\n",
       "      <td>2014-04-03T10:46:57.355Z</td>\n",
       "      <td>214821371</td>\n",
       "      <td>NONE</td>\n",
       "    </tr>\n",
       "  </tbody>\n",
       "</table>\n",
       "</div>"
      ],
      "text/plain": [
       "    SessionId                   TimeStr     ItemId ItemType\n",
       "26         11  2014-04-03T10:45:29.873Z  214821371     NONE\n",
       "27         11  2014-04-03T10:46:12.162Z  214821371     NONE\n",
       "28         11  2014-04-03T10:46:57.355Z  214821371     NONE"
      ]
     },
     "execution_count": 34,
     "metadata": {},
     "output_type": "execute_result"
    }
   ],
   "source": [
    "df_clicks.query(query)"
   ]
  },
  {
   "cell_type": "markdown",
   "metadata": {},
   "source": [
    "### Drop the duplicate rows"
   ]
  },
  {
   "cell_type": "code",
   "execution_count": 35,
   "metadata": {},
   "outputs": [],
   "source": [
    "df.drop_duplicates(inplace=True)"
   ]
  },
  {
   "cell_type": "markdown",
   "metadata": {},
   "source": [
    "### Refined data\n",
    "\n",
    "Remove sessions of length less than a specific threshold and remove items that don't occur more than a specific threshold"
   ]
  },
  {
   "cell_type": "code",
   "execution_count": 88,
   "metadata": {},
   "outputs": [],
   "source": [
    "SESSION_THRESHOLD = 20\n",
    "ITEM_THRESHOLD = 1000"
   ]
  },
  {
   "cell_type": "code",
   "execution_count": 89,
   "metadata": {},
   "outputs": [],
   "source": [
    "session_lengths = df.groupby([\"SessionId\"]).size()"
   ]
  },
  {
   "cell_type": "code",
   "execution_count": 90,
   "metadata": {},
   "outputs": [],
   "source": [
    "session_lengths_w_threshold = (session_lengths[session_lengths>SESSION_THRESHOLD])"
   ]
  },
  {
   "cell_type": "code",
   "execution_count": 91,
   "metadata": {},
   "outputs": [
    {
     "data": {
      "text/plain": [
       "69701"
      ]
     },
     "execution_count": 91,
     "metadata": {},
     "output_type": "execute_result"
    }
   ],
   "source": [
    "len(session_lengths_w_threshold)"
   ]
  },
  {
   "cell_type": "code",
   "execution_count": 92,
   "metadata": {},
   "outputs": [],
   "source": [
    "session_lengths_w_threshold = session_lengths_w_threshold.reset_index()"
   ]
  },
  {
   "cell_type": "code",
   "execution_count": 93,
   "metadata": {},
   "outputs": [
    {
     "name": "stdout",
     "output_type": "stream",
     "text": [
      "CPU times: user 2.47 s, sys: 400 ms, total: 2.87 s\n",
      "Wall time: 2.87 s\n"
     ]
    }
   ],
   "source": [
    "%%time\n",
    "df_with_session_threshold = df[df.SessionId.isin(session_lengths_w_threshold.SessionId)]"
   ]
  },
  {
   "cell_type": "code",
   "execution_count": 94,
   "metadata": {},
   "outputs": [
    {
     "data": {
      "text/html": [
       "<div>\n",
       "<style scoped>\n",
       "    .dataframe tbody tr th:only-of-type {\n",
       "        vertical-align: middle;\n",
       "    }\n",
       "\n",
       "    .dataframe tbody tr th {\n",
       "        vertical-align: top;\n",
       "    }\n",
       "\n",
       "    .dataframe thead th {\n",
       "        text-align: right;\n",
       "    }\n",
       "</style>\n",
       "<table border=\"1\" class=\"dataframe\">\n",
       "  <thead>\n",
       "    <tr style=\"text-align: right;\">\n",
       "      <th></th>\n",
       "      <th>SessionId</th>\n",
       "      <th>TimeStr</th>\n",
       "      <th>ItemId</th>\n",
       "      <th>ItemType</th>\n",
       "      <th>Price</th>\n",
       "      <th>Quantity</th>\n",
       "      <th>Action</th>\n",
       "    </tr>\n",
       "  </thead>\n",
       "  <tbody>\n",
       "    <tr>\n",
       "      <td>281</td>\n",
       "      <td>87</td>\n",
       "      <td>2014-04-07T06:19:08.914Z</td>\n",
       "      <td>214652220</td>\n",
       "      <td>NONE</td>\n",
       "      <td>1465.0</td>\n",
       "      <td>1.0</td>\n",
       "      <td>BUY</td>\n",
       "    </tr>\n",
       "    <tr>\n",
       "      <td>282</td>\n",
       "      <td>87</td>\n",
       "      <td>2014-04-07T06:19:20.979Z</td>\n",
       "      <td>214840483</td>\n",
       "      <td>NONE</td>\n",
       "      <td>1674.0</td>\n",
       "      <td>1.0</td>\n",
       "      <td>BUY</td>\n",
       "    </tr>\n",
       "    <tr>\n",
       "      <td>283</td>\n",
       "      <td>87</td>\n",
       "      <td>2014-04-07T06:19:28.762Z</td>\n",
       "      <td>214840483</td>\n",
       "      <td>NONE</td>\n",
       "      <td>1674.0</td>\n",
       "      <td>1.0</td>\n",
       "      <td>BUY</td>\n",
       "    </tr>\n",
       "    <tr>\n",
       "      <td>284</td>\n",
       "      <td>87</td>\n",
       "      <td>2014-04-07T06:26:01.516Z</td>\n",
       "      <td>214717286</td>\n",
       "      <td>NONE</td>\n",
       "      <td>NaN</td>\n",
       "      <td>NaN</td>\n",
       "      <td>NaN</td>\n",
       "    </tr>\n",
       "    <tr>\n",
       "      <td>285</td>\n",
       "      <td>87</td>\n",
       "      <td>2014-04-07T06:26:15.176Z</td>\n",
       "      <td>214558807</td>\n",
       "      <td>NONE</td>\n",
       "      <td>NaN</td>\n",
       "      <td>NaN</td>\n",
       "      <td>NaN</td>\n",
       "    </tr>\n",
       "  </tbody>\n",
       "</table>\n",
       "</div>"
      ],
      "text/plain": [
       "     SessionId                   TimeStr     ItemId ItemType   Price  \\\n",
       "281         87  2014-04-07T06:19:08.914Z  214652220     NONE  1465.0   \n",
       "282         87  2014-04-07T06:19:20.979Z  214840483     NONE  1674.0   \n",
       "283         87  2014-04-07T06:19:28.762Z  214840483     NONE  1674.0   \n",
       "284         87  2014-04-07T06:26:01.516Z  214717286     NONE     NaN   \n",
       "285         87  2014-04-07T06:26:15.176Z  214558807     NONE     NaN   \n",
       "\n",
       "     Quantity Action  \n",
       "281       1.0    BUY  \n",
       "282       1.0    BUY  \n",
       "283       1.0    BUY  \n",
       "284       NaN    NaN  \n",
       "285       NaN    NaN  "
      ]
     },
     "execution_count": 94,
     "metadata": {},
     "output_type": "execute_result"
    }
   ],
   "source": [
    "df_with_session_threshold.head()"
   ]
  },
  {
   "cell_type": "code",
   "execution_count": 95,
   "metadata": {},
   "outputs": [
    {
     "data": {
      "text/plain": [
       "(2152501, 7)"
      ]
     },
     "execution_count": 95,
     "metadata": {},
     "output_type": "execute_result"
    }
   ],
   "source": [
    "df_with_session_threshold.shape"
   ]
  },
  {
   "cell_type": "code",
   "execution_count": 96,
   "metadata": {},
   "outputs": [
    {
     "data": {
      "text/plain": [
       "5131"
      ]
     },
     "execution_count": 96,
     "metadata": {},
     "output_type": "execute_result"
    }
   ],
   "source": [
    "item_lengths = df.groupby([\"ItemId\"]).size()\n",
    "item_lengths_w_threshold = item_lengths[item_lengths>ITEM_THRESHOLD]\n",
    "len(item_lengths_w_threshold)"
   ]
  },
  {
   "cell_type": "code",
   "execution_count": 97,
   "metadata": {},
   "outputs": [],
   "source": [
    "item_lengths_w_threshold = item_lengths_w_threshold.reset_index()"
   ]
  },
  {
   "cell_type": "code",
   "execution_count": 98,
   "metadata": {},
   "outputs": [],
   "source": [
    "df_with_session_item_threshold = df_with_session_threshold[df_with_session_threshold.ItemId.isin(item_lengths_w_threshold.ItemId)]"
   ]
  },
  {
   "cell_type": "code",
   "execution_count": 99,
   "metadata": {},
   "outputs": [
    {
     "data": {
      "text/plain": [
       "(1622164, 7)"
      ]
     },
     "execution_count": 99,
     "metadata": {},
     "output_type": "execute_result"
    }
   ],
   "source": [
    "df_with_session_item_threshold.shape"
   ]
  },
  {
   "cell_type": "code",
   "execution_count": 100,
   "metadata": {},
   "outputs": [
    {
     "data": {
      "text/plain": [
       "42144"
      ]
     },
     "execution_count": 100,
     "metadata": {},
     "output_type": "execute_result"
    }
   ],
   "source": [
    "session_lengths_2 = df_with_session_item_threshold.groupby([\"SessionId\"]).size()\n",
    "session_lengths_2_w_threshold = (session_lengths_2[session_lengths_2 > SESSION_THRESHOLD])\n",
    "len(session_lengths_2_w_threshold)"
   ]
  },
  {
   "cell_type": "code",
   "execution_count": 101,
   "metadata": {},
   "outputs": [],
   "source": [
    "session_lengths_2_w_threshold = session_lengths_2_w_threshold.reset_index()"
   ]
  },
  {
   "cell_type": "code",
   "execution_count": 102,
   "metadata": {},
   "outputs": [
    {
     "name": "stdout",
     "output_type": "stream",
     "text": [
      "CPU times: user 164 ms, sys: 4 ms, total: 168 ms\n",
      "Wall time: 165 ms\n"
     ]
    }
   ],
   "source": [
    "%%time\n",
    "df_final = df_with_session_item_threshold[df_with_session_item_threshold.SessionId.isin(session_lengths_2_w_threshold.SessionId)]"
   ]
  },
  {
   "cell_type": "code",
   "execution_count": 103,
   "metadata": {},
   "outputs": [
    {
     "data": {
      "text/plain": [
       "(1252811, 7)"
      ]
     },
     "execution_count": 103,
     "metadata": {},
     "output_type": "execute_result"
    }
   ],
   "source": [
    "df_final.shape"
   ]
  },
  {
   "cell_type": "code",
   "execution_count": 104,
   "metadata": {},
   "outputs": [
    {
     "name": "stderr",
     "output_type": "stream",
     "text": [
      "/home/ubuntu/anaconda3/lib/python3.7/site-packages/pandas/core/generic.py:6287: SettingWithCopyWarning: \n",
      "A value is trying to be set on a copy of a slice from a DataFrame\n",
      "\n",
      "See the caveats in the documentation: http://pandas.pydata.org/pandas-docs/stable/user_guide/indexing.html#returning-a-view-versus-a-copy\n",
      "  self._update_inplace(new_data)\n"
     ]
    }
   ],
   "source": [
    "df_final.Action.fillna(value=\"CLICK\", inplace=True)"
   ]
  },
  {
   "cell_type": "code",
   "execution_count": 105,
   "metadata": {},
   "outputs": [],
   "source": [
    "df_final.Quantity.fillna(value=0.0, inplace=True)"
   ]
  },
  {
   "cell_type": "code",
   "execution_count": 106,
   "metadata": {},
   "outputs": [],
   "source": [
    "df_final.Price.fillna(value=0.0, inplace=True)"
   ]
  },
  {
   "cell_type": "code",
   "execution_count": 107,
   "metadata": {},
   "outputs": [
    {
     "data": {
      "text/html": [
       "<div>\n",
       "<style scoped>\n",
       "    .dataframe tbody tr th:only-of-type {\n",
       "        vertical-align: middle;\n",
       "    }\n",
       "\n",
       "    .dataframe tbody tr th {\n",
       "        vertical-align: top;\n",
       "    }\n",
       "\n",
       "    .dataframe thead th {\n",
       "        text-align: right;\n",
       "    }\n",
       "</style>\n",
       "<table border=\"1\" class=\"dataframe\">\n",
       "  <thead>\n",
       "    <tr style=\"text-align: right;\">\n",
       "      <th></th>\n",
       "      <th>SessionId</th>\n",
       "      <th>TimeStr</th>\n",
       "      <th>ItemId</th>\n",
       "      <th>ItemType</th>\n",
       "      <th>Price</th>\n",
       "      <th>Quantity</th>\n",
       "      <th>Action</th>\n",
       "    </tr>\n",
       "  </thead>\n",
       "  <tbody>\n",
       "    <tr>\n",
       "      <td>282</td>\n",
       "      <td>87</td>\n",
       "      <td>2014-04-07T06:19:20.979Z</td>\n",
       "      <td>214840483</td>\n",
       "      <td>NONE</td>\n",
       "      <td>1674.0</td>\n",
       "      <td>1.0</td>\n",
       "      <td>BUY</td>\n",
       "    </tr>\n",
       "    <tr>\n",
       "      <td>283</td>\n",
       "      <td>87</td>\n",
       "      <td>2014-04-07T06:19:28.762Z</td>\n",
       "      <td>214840483</td>\n",
       "      <td>NONE</td>\n",
       "      <td>1674.0</td>\n",
       "      <td>1.0</td>\n",
       "      <td>BUY</td>\n",
       "    </tr>\n",
       "    <tr>\n",
       "      <td>284</td>\n",
       "      <td>87</td>\n",
       "      <td>2014-04-07T06:26:01.516Z</td>\n",
       "      <td>214717286</td>\n",
       "      <td>NONE</td>\n",
       "      <td>0.0</td>\n",
       "      <td>0.0</td>\n",
       "      <td>CLICK</td>\n",
       "    </tr>\n",
       "    <tr>\n",
       "      <td>285</td>\n",
       "      <td>87</td>\n",
       "      <td>2014-04-07T06:26:15.176Z</td>\n",
       "      <td>214558807</td>\n",
       "      <td>NONE</td>\n",
       "      <td>0.0</td>\n",
       "      <td>0.0</td>\n",
       "      <td>CLICK</td>\n",
       "    </tr>\n",
       "    <tr>\n",
       "      <td>286</td>\n",
       "      <td>87</td>\n",
       "      <td>2014-04-07T06:26:32.159Z</td>\n",
       "      <td>214821300</td>\n",
       "      <td>NONE</td>\n",
       "      <td>0.0</td>\n",
       "      <td>0.0</td>\n",
       "      <td>CLICK</td>\n",
       "    </tr>\n",
       "  </tbody>\n",
       "</table>\n",
       "</div>"
      ],
      "text/plain": [
       "     SessionId                   TimeStr     ItemId ItemType   Price  \\\n",
       "282         87  2014-04-07T06:19:20.979Z  214840483     NONE  1674.0   \n",
       "283         87  2014-04-07T06:19:28.762Z  214840483     NONE  1674.0   \n",
       "284         87  2014-04-07T06:26:01.516Z  214717286     NONE     0.0   \n",
       "285         87  2014-04-07T06:26:15.176Z  214558807     NONE     0.0   \n",
       "286         87  2014-04-07T06:26:32.159Z  214821300     NONE     0.0   \n",
       "\n",
       "     Quantity Action  \n",
       "282       1.0    BUY  \n",
       "283       1.0    BUY  \n",
       "284       0.0  CLICK  \n",
       "285       0.0  CLICK  \n",
       "286       0.0  CLICK  "
      ]
     },
     "execution_count": 107,
     "metadata": {},
     "output_type": "execute_result"
    }
   ],
   "source": [
    "df_final.head()"
   ]
  },
  {
   "cell_type": "markdown",
   "metadata": {},
   "source": [
    "### Fixing time"
   ]
  },
  {
   "cell_type": "code",
   "execution_count": 108,
   "metadata": {},
   "outputs": [
    {
     "name": "stdout",
     "output_type": "stream",
     "text": [
      "CPU times: user 21.4 s, sys: 20 ms, total: 21.4 s\n",
      "Wall time: 21.4 s\n"
     ]
    },
    {
     "name": "stderr",
     "output_type": "stream",
     "text": [
      "/home/ubuntu/anaconda3/lib/python3.7/site-packages/ipykernel_launcher.py:1: SettingWithCopyWarning: \n",
      "A value is trying to be set on a copy of a slice from a DataFrame.\n",
      "Try using .loc[row_indexer,col_indexer] = value instead\n",
      "\n",
      "See the caveats in the documentation: http://pandas.pydata.org/pandas-docs/stable/user_guide/indexing.html#returning-a-view-versus-a-copy\n",
      "  \"\"\"Entry point for launching an IPython kernel.\n"
     ]
    }
   ],
   "source": [
    "%%time\n",
    "df_final['Time'] = df_final.TimeStr.apply(lambda x: dt.datetime.strptime(x, '%Y-%m-%dT%H:%M:%S.%fZ').timestamp()) #This is not UTC. It does not really matter."
   ]
  },
  {
   "cell_type": "code",
   "execution_count": 109,
   "metadata": {},
   "outputs": [
    {
     "data": {
      "text/html": [
       "<div>\n",
       "<style scoped>\n",
       "    .dataframe tbody tr th:only-of-type {\n",
       "        vertical-align: middle;\n",
       "    }\n",
       "\n",
       "    .dataframe tbody tr th {\n",
       "        vertical-align: top;\n",
       "    }\n",
       "\n",
       "    .dataframe thead th {\n",
       "        text-align: right;\n",
       "    }\n",
       "</style>\n",
       "<table border=\"1\" class=\"dataframe\">\n",
       "  <thead>\n",
       "    <tr style=\"text-align: right;\">\n",
       "      <th></th>\n",
       "      <th>SessionId</th>\n",
       "      <th>TimeStr</th>\n",
       "      <th>ItemId</th>\n",
       "      <th>ItemType</th>\n",
       "      <th>Price</th>\n",
       "      <th>Quantity</th>\n",
       "      <th>Action</th>\n",
       "      <th>Time</th>\n",
       "    </tr>\n",
       "  </thead>\n",
       "  <tbody>\n",
       "    <tr>\n",
       "      <td>282</td>\n",
       "      <td>87</td>\n",
       "      <td>2014-04-07T06:19:20.979Z</td>\n",
       "      <td>214840483</td>\n",
       "      <td>NONE</td>\n",
       "      <td>1674.0</td>\n",
       "      <td>1.0</td>\n",
       "      <td>BUY</td>\n",
       "      <td>1.396852e+09</td>\n",
       "    </tr>\n",
       "    <tr>\n",
       "      <td>283</td>\n",
       "      <td>87</td>\n",
       "      <td>2014-04-07T06:19:28.762Z</td>\n",
       "      <td>214840483</td>\n",
       "      <td>NONE</td>\n",
       "      <td>1674.0</td>\n",
       "      <td>1.0</td>\n",
       "      <td>BUY</td>\n",
       "      <td>1.396852e+09</td>\n",
       "    </tr>\n",
       "    <tr>\n",
       "      <td>284</td>\n",
       "      <td>87</td>\n",
       "      <td>2014-04-07T06:26:01.516Z</td>\n",
       "      <td>214717286</td>\n",
       "      <td>NONE</td>\n",
       "      <td>0.0</td>\n",
       "      <td>0.0</td>\n",
       "      <td>CLICK</td>\n",
       "      <td>1.396852e+09</td>\n",
       "    </tr>\n",
       "    <tr>\n",
       "      <td>285</td>\n",
       "      <td>87</td>\n",
       "      <td>2014-04-07T06:26:15.176Z</td>\n",
       "      <td>214558807</td>\n",
       "      <td>NONE</td>\n",
       "      <td>0.0</td>\n",
       "      <td>0.0</td>\n",
       "      <td>CLICK</td>\n",
       "      <td>1.396852e+09</td>\n",
       "    </tr>\n",
       "    <tr>\n",
       "      <td>286</td>\n",
       "      <td>87</td>\n",
       "      <td>2014-04-07T06:26:32.159Z</td>\n",
       "      <td>214821300</td>\n",
       "      <td>NONE</td>\n",
       "      <td>0.0</td>\n",
       "      <td>0.0</td>\n",
       "      <td>CLICK</td>\n",
       "      <td>1.396852e+09</td>\n",
       "    </tr>\n",
       "  </tbody>\n",
       "</table>\n",
       "</div>"
      ],
      "text/plain": [
       "     SessionId                   TimeStr     ItemId ItemType   Price  \\\n",
       "282         87  2014-04-07T06:19:20.979Z  214840483     NONE  1674.0   \n",
       "283         87  2014-04-07T06:19:28.762Z  214840483     NONE  1674.0   \n",
       "284         87  2014-04-07T06:26:01.516Z  214717286     NONE     0.0   \n",
       "285         87  2014-04-07T06:26:15.176Z  214558807     NONE     0.0   \n",
       "286         87  2014-04-07T06:26:32.159Z  214821300     NONE     0.0   \n",
       "\n",
       "     Quantity Action          Time  \n",
       "282       1.0    BUY  1.396852e+09  \n",
       "283       1.0    BUY  1.396852e+09  \n",
       "284       0.0  CLICK  1.396852e+09  \n",
       "285       0.0  CLICK  1.396852e+09  \n",
       "286       0.0  CLICK  1.396852e+09  "
      ]
     },
     "execution_count": 109,
     "metadata": {},
     "output_type": "execute_result"
    }
   ],
   "source": [
    "df_final.head()"
   ]
  },
  {
   "cell_type": "code",
   "execution_count": 110,
   "metadata": {},
   "outputs": [],
   "source": [
    "del(df_final[\"TimeStr\"])"
   ]
  },
  {
   "cell_type": "code",
   "execution_count": 111,
   "metadata": {},
   "outputs": [
    {
     "data": {
      "text/html": [
       "<div>\n",
       "<style scoped>\n",
       "    .dataframe tbody tr th:only-of-type {\n",
       "        vertical-align: middle;\n",
       "    }\n",
       "\n",
       "    .dataframe tbody tr th {\n",
       "        vertical-align: top;\n",
       "    }\n",
       "\n",
       "    .dataframe thead th {\n",
       "        text-align: right;\n",
       "    }\n",
       "</style>\n",
       "<table border=\"1\" class=\"dataframe\">\n",
       "  <thead>\n",
       "    <tr style=\"text-align: right;\">\n",
       "      <th></th>\n",
       "      <th>SessionId</th>\n",
       "      <th>ItemId</th>\n",
       "      <th>ItemType</th>\n",
       "      <th>Price</th>\n",
       "      <th>Quantity</th>\n",
       "      <th>Action</th>\n",
       "      <th>Time</th>\n",
       "    </tr>\n",
       "  </thead>\n",
       "  <tbody>\n",
       "    <tr>\n",
       "      <td>282</td>\n",
       "      <td>87</td>\n",
       "      <td>214840483</td>\n",
       "      <td>NONE</td>\n",
       "      <td>1674.0</td>\n",
       "      <td>1.0</td>\n",
       "      <td>BUY</td>\n",
       "      <td>1.396852e+09</td>\n",
       "    </tr>\n",
       "    <tr>\n",
       "      <td>283</td>\n",
       "      <td>87</td>\n",
       "      <td>214840483</td>\n",
       "      <td>NONE</td>\n",
       "      <td>1674.0</td>\n",
       "      <td>1.0</td>\n",
       "      <td>BUY</td>\n",
       "      <td>1.396852e+09</td>\n",
       "    </tr>\n",
       "    <tr>\n",
       "      <td>284</td>\n",
       "      <td>87</td>\n",
       "      <td>214717286</td>\n",
       "      <td>NONE</td>\n",
       "      <td>0.0</td>\n",
       "      <td>0.0</td>\n",
       "      <td>CLICK</td>\n",
       "      <td>1.396852e+09</td>\n",
       "    </tr>\n",
       "    <tr>\n",
       "      <td>285</td>\n",
       "      <td>87</td>\n",
       "      <td>214558807</td>\n",
       "      <td>NONE</td>\n",
       "      <td>0.0</td>\n",
       "      <td>0.0</td>\n",
       "      <td>CLICK</td>\n",
       "      <td>1.396852e+09</td>\n",
       "    </tr>\n",
       "    <tr>\n",
       "      <td>286</td>\n",
       "      <td>87</td>\n",
       "      <td>214821300</td>\n",
       "      <td>NONE</td>\n",
       "      <td>0.0</td>\n",
       "      <td>0.0</td>\n",
       "      <td>CLICK</td>\n",
       "      <td>1.396852e+09</td>\n",
       "    </tr>\n",
       "    <tr>\n",
       "      <td>287</td>\n",
       "      <td>87</td>\n",
       "      <td>214826908</td>\n",
       "      <td>NONE</td>\n",
       "      <td>837.0</td>\n",
       "      <td>1.0</td>\n",
       "      <td>BUY</td>\n",
       "      <td>1.396852e+09</td>\n",
       "    </tr>\n",
       "    <tr>\n",
       "      <td>288</td>\n",
       "      <td>87</td>\n",
       "      <td>214826908</td>\n",
       "      <td>NONE</td>\n",
       "      <td>837.0</td>\n",
       "      <td>1.0</td>\n",
       "      <td>BUY</td>\n",
       "      <td>1.396852e+09</td>\n",
       "    </tr>\n",
       "    <tr>\n",
       "      <td>289</td>\n",
       "      <td>87</td>\n",
       "      <td>214826908</td>\n",
       "      <td>NONE</td>\n",
       "      <td>837.0</td>\n",
       "      <td>1.0</td>\n",
       "      <td>BUY</td>\n",
       "      <td>1.396852e+09</td>\n",
       "    </tr>\n",
       "    <tr>\n",
       "      <td>291</td>\n",
       "      <td>87</td>\n",
       "      <td>214819430</td>\n",
       "      <td>NONE</td>\n",
       "      <td>470.0</td>\n",
       "      <td>1.0</td>\n",
       "      <td>BUY</td>\n",
       "      <td>1.396852e+09</td>\n",
       "    </tr>\n",
       "    <tr>\n",
       "      <td>292</td>\n",
       "      <td>87</td>\n",
       "      <td>214819430</td>\n",
       "      <td>NONE</td>\n",
       "      <td>470.0</td>\n",
       "      <td>1.0</td>\n",
       "      <td>BUY</td>\n",
       "      <td>1.396852e+09</td>\n",
       "    </tr>\n",
       "    <tr>\n",
       "      <td>293</td>\n",
       "      <td>87</td>\n",
       "      <td>214826837</td>\n",
       "      <td>NONE</td>\n",
       "      <td>627.0</td>\n",
       "      <td>1.0</td>\n",
       "      <td>BUY</td>\n",
       "      <td>1.396852e+09</td>\n",
       "    </tr>\n",
       "    <tr>\n",
       "      <td>294</td>\n",
       "      <td>87</td>\n",
       "      <td>214826837</td>\n",
       "      <td>NONE</td>\n",
       "      <td>627.0</td>\n",
       "      <td>1.0</td>\n",
       "      <td>BUY</td>\n",
       "      <td>1.396852e+09</td>\n",
       "    </tr>\n",
       "    <tr>\n",
       "      <td>295</td>\n",
       "      <td>87</td>\n",
       "      <td>214820392</td>\n",
       "      <td>NONE</td>\n",
       "      <td>627.0</td>\n",
       "      <td>1.0</td>\n",
       "      <td>BUY</td>\n",
       "      <td>1.396852e+09</td>\n",
       "    </tr>\n",
       "    <tr>\n",
       "      <td>296</td>\n",
       "      <td>87</td>\n",
       "      <td>214820392</td>\n",
       "      <td>NONE</td>\n",
       "      <td>627.0</td>\n",
       "      <td>1.0</td>\n",
       "      <td>BUY</td>\n",
       "      <td>1.396852e+09</td>\n",
       "    </tr>\n",
       "    <tr>\n",
       "      <td>297</td>\n",
       "      <td>87</td>\n",
       "      <td>214586694</td>\n",
       "      <td>NONE</td>\n",
       "      <td>0.0</td>\n",
       "      <td>0.0</td>\n",
       "      <td>CLICK</td>\n",
       "      <td>1.396852e+09</td>\n",
       "    </tr>\n",
       "  </tbody>\n",
       "</table>\n",
       "</div>"
      ],
      "text/plain": [
       "     SessionId     ItemId ItemType   Price  Quantity Action          Time\n",
       "282         87  214840483     NONE  1674.0       1.0    BUY  1.396852e+09\n",
       "283         87  214840483     NONE  1674.0       1.0    BUY  1.396852e+09\n",
       "284         87  214717286     NONE     0.0       0.0  CLICK  1.396852e+09\n",
       "285         87  214558807     NONE     0.0       0.0  CLICK  1.396852e+09\n",
       "286         87  214821300     NONE     0.0       0.0  CLICK  1.396852e+09\n",
       "287         87  214826908     NONE   837.0       1.0    BUY  1.396852e+09\n",
       "288         87  214826908     NONE   837.0       1.0    BUY  1.396852e+09\n",
       "289         87  214826908     NONE   837.0       1.0    BUY  1.396852e+09\n",
       "291         87  214819430     NONE   470.0       1.0    BUY  1.396852e+09\n",
       "292         87  214819430     NONE   470.0       1.0    BUY  1.396852e+09\n",
       "293         87  214826837     NONE   627.0       1.0    BUY  1.396852e+09\n",
       "294         87  214826837     NONE   627.0       1.0    BUY  1.396852e+09\n",
       "295         87  214820392     NONE   627.0       1.0    BUY  1.396852e+09\n",
       "296         87  214820392     NONE   627.0       1.0    BUY  1.396852e+09\n",
       "297         87  214586694     NONE     0.0       0.0  CLICK  1.396852e+09"
      ]
     },
     "execution_count": 111,
     "metadata": {},
     "output_type": "execute_result"
    }
   ],
   "source": [
    "df_final.head(15)"
   ]
  },
  {
   "cell_type": "code",
   "execution_count": 112,
   "metadata": {},
   "outputs": [
    {
     "data": {
      "text/plain": [
       "array(['NONE', 'PROMOTION', 'CATEGORY', 'BRAND'], dtype=object)"
      ]
     },
     "execution_count": 112,
     "metadata": {},
     "output_type": "execute_result"
    }
   ],
   "source": [
    "df_final.ItemType.unique()"
   ]
  },
  {
   "cell_type": "markdown",
   "metadata": {},
   "source": [
    "### Train and Validation Dataset"
   ]
  },
  {
   "cell_type": "code",
   "execution_count": 113,
   "metadata": {},
   "outputs": [],
   "source": [
    "session_lengths_final = df_final.groupby([\"SessionId\"]).size()"
   ]
  },
  {
   "cell_type": "code",
   "execution_count": 114,
   "metadata": {},
   "outputs": [],
   "source": [
    "session_lengths_final = session_lengths_final.reset_index()"
   ]
  },
  {
   "cell_type": "code",
   "execution_count": 115,
   "metadata": {},
   "outputs": [],
   "source": [
    "session_lengths_final.columns = [\"SessionId\", \"NumRows\"]"
   ]
  },
  {
   "cell_type": "code",
   "execution_count": 116,
   "metadata": {},
   "outputs": [],
   "source": [
    "session_lengths_final[\"length_70p\"] =(session_lengths_final.NumRows*0.7).astype(np.int)"
   ]
  },
  {
   "cell_type": "code",
   "execution_count": 117,
   "metadata": {},
   "outputs": [
    {
     "data": {
      "text/html": [
       "<div>\n",
       "<style scoped>\n",
       "    .dataframe tbody tr th:only-of-type {\n",
       "        vertical-align: middle;\n",
       "    }\n",
       "\n",
       "    .dataframe tbody tr th {\n",
       "        vertical-align: top;\n",
       "    }\n",
       "\n",
       "    .dataframe thead th {\n",
       "        text-align: right;\n",
       "    }\n",
       "</style>\n",
       "<table border=\"1\" class=\"dataframe\">\n",
       "  <thead>\n",
       "    <tr style=\"text-align: right;\">\n",
       "      <th></th>\n",
       "      <th>SessionId</th>\n",
       "      <th>NumRows</th>\n",
       "      <th>length_70p</th>\n",
       "    </tr>\n",
       "  </thead>\n",
       "  <tbody>\n",
       "    <tr>\n",
       "      <td>0</td>\n",
       "      <td>87</td>\n",
       "      <td>24</td>\n",
       "      <td>16</td>\n",
       "    </tr>\n",
       "    <tr>\n",
       "      <td>1</td>\n",
       "      <td>496</td>\n",
       "      <td>64</td>\n",
       "      <td>44</td>\n",
       "    </tr>\n",
       "    <tr>\n",
       "      <td>2</td>\n",
       "      <td>626</td>\n",
       "      <td>22</td>\n",
       "      <td>15</td>\n",
       "    </tr>\n",
       "    <tr>\n",
       "      <td>3</td>\n",
       "      <td>651</td>\n",
       "      <td>25</td>\n",
       "      <td>17</td>\n",
       "    </tr>\n",
       "    <tr>\n",
       "      <td>4</td>\n",
       "      <td>827</td>\n",
       "      <td>39</td>\n",
       "      <td>27</td>\n",
       "    </tr>\n",
       "  </tbody>\n",
       "</table>\n",
       "</div>"
      ],
      "text/plain": [
       "   SessionId  NumRows  length_70p\n",
       "0         87       24          16\n",
       "1        496       64          44\n",
       "2        626       22          15\n",
       "3        651       25          17\n",
       "4        827       39          27"
      ]
     },
     "execution_count": 117,
     "metadata": {},
     "output_type": "execute_result"
    }
   ],
   "source": [
    "session_lengths_final.head()"
   ]
  },
  {
   "cell_type": "code",
   "execution_count": 118,
   "metadata": {},
   "outputs": [
    {
     "name": "stdout",
     "output_type": "stream",
     "text": [
      "CPU times: user 108 ms, sys: 16 ms, total: 124 ms\n",
      "Wall time: 123 ms\n"
     ]
    },
    {
     "name": "stderr",
     "output_type": "stream",
     "text": [
      "/home/ubuntu/anaconda3/lib/python3.7/site-packages/ipykernel_launcher.py:1: SettingWithCopyWarning: \n",
      "A value is trying to be set on a copy of a slice from a DataFrame.\n",
      "Try using .loc[row_indexer,col_indexer] = value instead\n",
      "\n",
      "See the caveats in the documentation: http://pandas.pydata.org/pandas-docs/stable/user_guide/indexing.html#returning-a-view-versus-a-copy\n",
      "  \"\"\"Entry point for launching an IPython kernel.\n"
     ]
    }
   ],
   "source": [
    "%%time\n",
    "df_final[\"RunningCount\"] = df_final.groupby([\"SessionId\"]).cumcount()+1"
   ]
  },
  {
   "cell_type": "code",
   "execution_count": 119,
   "metadata": {},
   "outputs": [
    {
     "data": {
      "text/html": [
       "<div>\n",
       "<style scoped>\n",
       "    .dataframe tbody tr th:only-of-type {\n",
       "        vertical-align: middle;\n",
       "    }\n",
       "\n",
       "    .dataframe tbody tr th {\n",
       "        vertical-align: top;\n",
       "    }\n",
       "\n",
       "    .dataframe thead th {\n",
       "        text-align: right;\n",
       "    }\n",
       "</style>\n",
       "<table border=\"1\" class=\"dataframe\">\n",
       "  <thead>\n",
       "    <tr style=\"text-align: right;\">\n",
       "      <th></th>\n",
       "      <th>SessionId</th>\n",
       "      <th>ItemId</th>\n",
       "      <th>ItemType</th>\n",
       "      <th>Price</th>\n",
       "      <th>Quantity</th>\n",
       "      <th>Action</th>\n",
       "      <th>Time</th>\n",
       "      <th>RunningCount</th>\n",
       "    </tr>\n",
       "  </thead>\n",
       "  <tbody>\n",
       "    <tr>\n",
       "      <td>282</td>\n",
       "      <td>87</td>\n",
       "      <td>214840483</td>\n",
       "      <td>NONE</td>\n",
       "      <td>1674.0</td>\n",
       "      <td>1.0</td>\n",
       "      <td>BUY</td>\n",
       "      <td>1.396852e+09</td>\n",
       "      <td>1</td>\n",
       "    </tr>\n",
       "    <tr>\n",
       "      <td>283</td>\n",
       "      <td>87</td>\n",
       "      <td>214840483</td>\n",
       "      <td>NONE</td>\n",
       "      <td>1674.0</td>\n",
       "      <td>1.0</td>\n",
       "      <td>BUY</td>\n",
       "      <td>1.396852e+09</td>\n",
       "      <td>2</td>\n",
       "    </tr>\n",
       "    <tr>\n",
       "      <td>284</td>\n",
       "      <td>87</td>\n",
       "      <td>214717286</td>\n",
       "      <td>NONE</td>\n",
       "      <td>0.0</td>\n",
       "      <td>0.0</td>\n",
       "      <td>CLICK</td>\n",
       "      <td>1.396852e+09</td>\n",
       "      <td>3</td>\n",
       "    </tr>\n",
       "    <tr>\n",
       "      <td>285</td>\n",
       "      <td>87</td>\n",
       "      <td>214558807</td>\n",
       "      <td>NONE</td>\n",
       "      <td>0.0</td>\n",
       "      <td>0.0</td>\n",
       "      <td>CLICK</td>\n",
       "      <td>1.396852e+09</td>\n",
       "      <td>4</td>\n",
       "    </tr>\n",
       "    <tr>\n",
       "      <td>286</td>\n",
       "      <td>87</td>\n",
       "      <td>214821300</td>\n",
       "      <td>NONE</td>\n",
       "      <td>0.0</td>\n",
       "      <td>0.0</td>\n",
       "      <td>CLICK</td>\n",
       "      <td>1.396852e+09</td>\n",
       "      <td>5</td>\n",
       "    </tr>\n",
       "  </tbody>\n",
       "</table>\n",
       "</div>"
      ],
      "text/plain": [
       "     SessionId     ItemId ItemType   Price  Quantity Action          Time  \\\n",
       "282         87  214840483     NONE  1674.0       1.0    BUY  1.396852e+09   \n",
       "283         87  214840483     NONE  1674.0       1.0    BUY  1.396852e+09   \n",
       "284         87  214717286     NONE     0.0       0.0  CLICK  1.396852e+09   \n",
       "285         87  214558807     NONE     0.0       0.0  CLICK  1.396852e+09   \n",
       "286         87  214821300     NONE     0.0       0.0  CLICK  1.396852e+09   \n",
       "\n",
       "     RunningCount  \n",
       "282             1  \n",
       "283             2  \n",
       "284             3  \n",
       "285             4  \n",
       "286             5  "
      ]
     },
     "execution_count": 119,
     "metadata": {},
     "output_type": "execute_result"
    }
   ],
   "source": [
    "df_final.head()"
   ]
  },
  {
   "cell_type": "code",
   "execution_count": 120,
   "metadata": {},
   "outputs": [],
   "source": [
    "df_final_updated = pd.merge(left=df_final, right=session_lengths_final, on=\"SessionId\", how=\"left\")"
   ]
  },
  {
   "cell_type": "code",
   "execution_count": 121,
   "metadata": {},
   "outputs": [
    {
     "data": {
      "text/plain": [
       "((1252811, 8), (1252811, 10))"
      ]
     },
     "execution_count": 121,
     "metadata": {},
     "output_type": "execute_result"
    }
   ],
   "source": [
    "df_final.shape, df_final_updated.shape"
   ]
  },
  {
   "cell_type": "code",
   "execution_count": 122,
   "metadata": {},
   "outputs": [
    {
     "data": {
      "text/html": [
       "<div>\n",
       "<style scoped>\n",
       "    .dataframe tbody tr th:only-of-type {\n",
       "        vertical-align: middle;\n",
       "    }\n",
       "\n",
       "    .dataframe tbody tr th {\n",
       "        vertical-align: top;\n",
       "    }\n",
       "\n",
       "    .dataframe thead th {\n",
       "        text-align: right;\n",
       "    }\n",
       "</style>\n",
       "<table border=\"1\" class=\"dataframe\">\n",
       "  <thead>\n",
       "    <tr style=\"text-align: right;\">\n",
       "      <th></th>\n",
       "      <th>SessionId</th>\n",
       "      <th>ItemId</th>\n",
       "      <th>ItemType</th>\n",
       "      <th>Price</th>\n",
       "      <th>Quantity</th>\n",
       "      <th>Action</th>\n",
       "      <th>Time</th>\n",
       "      <th>RunningCount</th>\n",
       "      <th>NumRows</th>\n",
       "      <th>length_70p</th>\n",
       "    </tr>\n",
       "  </thead>\n",
       "  <tbody>\n",
       "    <tr>\n",
       "      <td>0</td>\n",
       "      <td>87</td>\n",
       "      <td>214840483</td>\n",
       "      <td>NONE</td>\n",
       "      <td>1674.0</td>\n",
       "      <td>1.0</td>\n",
       "      <td>BUY</td>\n",
       "      <td>1.396852e+09</td>\n",
       "      <td>1</td>\n",
       "      <td>24</td>\n",
       "      <td>16</td>\n",
       "    </tr>\n",
       "    <tr>\n",
       "      <td>1</td>\n",
       "      <td>87</td>\n",
       "      <td>214840483</td>\n",
       "      <td>NONE</td>\n",
       "      <td>1674.0</td>\n",
       "      <td>1.0</td>\n",
       "      <td>BUY</td>\n",
       "      <td>1.396852e+09</td>\n",
       "      <td>2</td>\n",
       "      <td>24</td>\n",
       "      <td>16</td>\n",
       "    </tr>\n",
       "    <tr>\n",
       "      <td>2</td>\n",
       "      <td>87</td>\n",
       "      <td>214717286</td>\n",
       "      <td>NONE</td>\n",
       "      <td>0.0</td>\n",
       "      <td>0.0</td>\n",
       "      <td>CLICK</td>\n",
       "      <td>1.396852e+09</td>\n",
       "      <td>3</td>\n",
       "      <td>24</td>\n",
       "      <td>16</td>\n",
       "    </tr>\n",
       "    <tr>\n",
       "      <td>3</td>\n",
       "      <td>87</td>\n",
       "      <td>214558807</td>\n",
       "      <td>NONE</td>\n",
       "      <td>0.0</td>\n",
       "      <td>0.0</td>\n",
       "      <td>CLICK</td>\n",
       "      <td>1.396852e+09</td>\n",
       "      <td>4</td>\n",
       "      <td>24</td>\n",
       "      <td>16</td>\n",
       "    </tr>\n",
       "    <tr>\n",
       "      <td>4</td>\n",
       "      <td>87</td>\n",
       "      <td>214821300</td>\n",
       "      <td>NONE</td>\n",
       "      <td>0.0</td>\n",
       "      <td>0.0</td>\n",
       "      <td>CLICK</td>\n",
       "      <td>1.396852e+09</td>\n",
       "      <td>5</td>\n",
       "      <td>24</td>\n",
       "      <td>16</td>\n",
       "    </tr>\n",
       "    <tr>\n",
       "      <td>5</td>\n",
       "      <td>87</td>\n",
       "      <td>214826908</td>\n",
       "      <td>NONE</td>\n",
       "      <td>837.0</td>\n",
       "      <td>1.0</td>\n",
       "      <td>BUY</td>\n",
       "      <td>1.396852e+09</td>\n",
       "      <td>6</td>\n",
       "      <td>24</td>\n",
       "      <td>16</td>\n",
       "    </tr>\n",
       "    <tr>\n",
       "      <td>6</td>\n",
       "      <td>87</td>\n",
       "      <td>214826908</td>\n",
       "      <td>NONE</td>\n",
       "      <td>837.0</td>\n",
       "      <td>1.0</td>\n",
       "      <td>BUY</td>\n",
       "      <td>1.396852e+09</td>\n",
       "      <td>7</td>\n",
       "      <td>24</td>\n",
       "      <td>16</td>\n",
       "    </tr>\n",
       "    <tr>\n",
       "      <td>7</td>\n",
       "      <td>87</td>\n",
       "      <td>214826908</td>\n",
       "      <td>NONE</td>\n",
       "      <td>837.0</td>\n",
       "      <td>1.0</td>\n",
       "      <td>BUY</td>\n",
       "      <td>1.396852e+09</td>\n",
       "      <td>8</td>\n",
       "      <td>24</td>\n",
       "      <td>16</td>\n",
       "    </tr>\n",
       "    <tr>\n",
       "      <td>8</td>\n",
       "      <td>87</td>\n",
       "      <td>214819430</td>\n",
       "      <td>NONE</td>\n",
       "      <td>470.0</td>\n",
       "      <td>1.0</td>\n",
       "      <td>BUY</td>\n",
       "      <td>1.396852e+09</td>\n",
       "      <td>9</td>\n",
       "      <td>24</td>\n",
       "      <td>16</td>\n",
       "    </tr>\n",
       "    <tr>\n",
       "      <td>9</td>\n",
       "      <td>87</td>\n",
       "      <td>214819430</td>\n",
       "      <td>NONE</td>\n",
       "      <td>470.0</td>\n",
       "      <td>1.0</td>\n",
       "      <td>BUY</td>\n",
       "      <td>1.396852e+09</td>\n",
       "      <td>10</td>\n",
       "      <td>24</td>\n",
       "      <td>16</td>\n",
       "    </tr>\n",
       "    <tr>\n",
       "      <td>10</td>\n",
       "      <td>87</td>\n",
       "      <td>214826837</td>\n",
       "      <td>NONE</td>\n",
       "      <td>627.0</td>\n",
       "      <td>1.0</td>\n",
       "      <td>BUY</td>\n",
       "      <td>1.396852e+09</td>\n",
       "      <td>11</td>\n",
       "      <td>24</td>\n",
       "      <td>16</td>\n",
       "    </tr>\n",
       "    <tr>\n",
       "      <td>11</td>\n",
       "      <td>87</td>\n",
       "      <td>214826837</td>\n",
       "      <td>NONE</td>\n",
       "      <td>627.0</td>\n",
       "      <td>1.0</td>\n",
       "      <td>BUY</td>\n",
       "      <td>1.396852e+09</td>\n",
       "      <td>12</td>\n",
       "      <td>24</td>\n",
       "      <td>16</td>\n",
       "    </tr>\n",
       "    <tr>\n",
       "      <td>12</td>\n",
       "      <td>87</td>\n",
       "      <td>214820392</td>\n",
       "      <td>NONE</td>\n",
       "      <td>627.0</td>\n",
       "      <td>1.0</td>\n",
       "      <td>BUY</td>\n",
       "      <td>1.396852e+09</td>\n",
       "      <td>13</td>\n",
       "      <td>24</td>\n",
       "      <td>16</td>\n",
       "    </tr>\n",
       "    <tr>\n",
       "      <td>13</td>\n",
       "      <td>87</td>\n",
       "      <td>214820392</td>\n",
       "      <td>NONE</td>\n",
       "      <td>627.0</td>\n",
       "      <td>1.0</td>\n",
       "      <td>BUY</td>\n",
       "      <td>1.396852e+09</td>\n",
       "      <td>14</td>\n",
       "      <td>24</td>\n",
       "      <td>16</td>\n",
       "    </tr>\n",
       "    <tr>\n",
       "      <td>14</td>\n",
       "      <td>87</td>\n",
       "      <td>214586694</td>\n",
       "      <td>NONE</td>\n",
       "      <td>0.0</td>\n",
       "      <td>0.0</td>\n",
       "      <td>CLICK</td>\n",
       "      <td>1.396852e+09</td>\n",
       "      <td>15</td>\n",
       "      <td>24</td>\n",
       "      <td>16</td>\n",
       "    </tr>\n",
       "    <tr>\n",
       "      <td>15</td>\n",
       "      <td>87</td>\n",
       "      <td>214819376</td>\n",
       "      <td>NONE</td>\n",
       "      <td>0.0</td>\n",
       "      <td>0.0</td>\n",
       "      <td>CLICK</td>\n",
       "      <td>1.396852e+09</td>\n",
       "      <td>16</td>\n",
       "      <td>24</td>\n",
       "      <td>16</td>\n",
       "    </tr>\n",
       "    <tr>\n",
       "      <td>16</td>\n",
       "      <td>87</td>\n",
       "      <td>214553844</td>\n",
       "      <td>NONE</td>\n",
       "      <td>0.0</td>\n",
       "      <td>0.0</td>\n",
       "      <td>CLICK</td>\n",
       "      <td>1.396852e+09</td>\n",
       "      <td>17</td>\n",
       "      <td>24</td>\n",
       "      <td>16</td>\n",
       "    </tr>\n",
       "    <tr>\n",
       "      <td>17</td>\n",
       "      <td>87</td>\n",
       "      <td>214601229</td>\n",
       "      <td>NONE</td>\n",
       "      <td>0.0</td>\n",
       "      <td>0.0</td>\n",
       "      <td>CLICK</td>\n",
       "      <td>1.396852e+09</td>\n",
       "      <td>18</td>\n",
       "      <td>24</td>\n",
       "      <td>16</td>\n",
       "    </tr>\n",
       "    <tr>\n",
       "      <td>18</td>\n",
       "      <td>87</td>\n",
       "      <td>214555500</td>\n",
       "      <td>NONE</td>\n",
       "      <td>0.0</td>\n",
       "      <td>0.0</td>\n",
       "      <td>CLICK</td>\n",
       "      <td>1.396853e+09</td>\n",
       "      <td>19</td>\n",
       "      <td>24</td>\n",
       "      <td>16</td>\n",
       "    </tr>\n",
       "    <tr>\n",
       "      <td>19</td>\n",
       "      <td>87</td>\n",
       "      <td>214819760</td>\n",
       "      <td>NONE</td>\n",
       "      <td>0.0</td>\n",
       "      <td>0.0</td>\n",
       "      <td>CLICK</td>\n",
       "      <td>1.396853e+09</td>\n",
       "      <td>20</td>\n",
       "      <td>24</td>\n",
       "      <td>16</td>\n",
       "    </tr>\n",
       "  </tbody>\n",
       "</table>\n",
       "</div>"
      ],
      "text/plain": [
       "    SessionId     ItemId ItemType   Price  Quantity Action          Time  \\\n",
       "0          87  214840483     NONE  1674.0       1.0    BUY  1.396852e+09   \n",
       "1          87  214840483     NONE  1674.0       1.0    BUY  1.396852e+09   \n",
       "2          87  214717286     NONE     0.0       0.0  CLICK  1.396852e+09   \n",
       "3          87  214558807     NONE     0.0       0.0  CLICK  1.396852e+09   \n",
       "4          87  214821300     NONE     0.0       0.0  CLICK  1.396852e+09   \n",
       "5          87  214826908     NONE   837.0       1.0    BUY  1.396852e+09   \n",
       "6          87  214826908     NONE   837.0       1.0    BUY  1.396852e+09   \n",
       "7          87  214826908     NONE   837.0       1.0    BUY  1.396852e+09   \n",
       "8          87  214819430     NONE   470.0       1.0    BUY  1.396852e+09   \n",
       "9          87  214819430     NONE   470.0       1.0    BUY  1.396852e+09   \n",
       "10         87  214826837     NONE   627.0       1.0    BUY  1.396852e+09   \n",
       "11         87  214826837     NONE   627.0       1.0    BUY  1.396852e+09   \n",
       "12         87  214820392     NONE   627.0       1.0    BUY  1.396852e+09   \n",
       "13         87  214820392     NONE   627.0       1.0    BUY  1.396852e+09   \n",
       "14         87  214586694     NONE     0.0       0.0  CLICK  1.396852e+09   \n",
       "15         87  214819376     NONE     0.0       0.0  CLICK  1.396852e+09   \n",
       "16         87  214553844     NONE     0.0       0.0  CLICK  1.396852e+09   \n",
       "17         87  214601229     NONE     0.0       0.0  CLICK  1.396852e+09   \n",
       "18         87  214555500     NONE     0.0       0.0  CLICK  1.396853e+09   \n",
       "19         87  214819760     NONE     0.0       0.0  CLICK  1.396853e+09   \n",
       "\n",
       "    RunningCount  NumRows  length_70p  \n",
       "0              1       24          16  \n",
       "1              2       24          16  \n",
       "2              3       24          16  \n",
       "3              4       24          16  \n",
       "4              5       24          16  \n",
       "5              6       24          16  \n",
       "6              7       24          16  \n",
       "7              8       24          16  \n",
       "8              9       24          16  \n",
       "9             10       24          16  \n",
       "10            11       24          16  \n",
       "11            12       24          16  \n",
       "12            13       24          16  \n",
       "13            14       24          16  \n",
       "14            15       24          16  \n",
       "15            16       24          16  \n",
       "16            17       24          16  \n",
       "17            18       24          16  \n",
       "18            19       24          16  \n",
       "19            20       24          16  "
      ]
     },
     "execution_count": 122,
     "metadata": {},
     "output_type": "execute_result"
    }
   ],
   "source": [
    "df_final_updated.head(20)"
   ]
  },
  {
   "cell_type": "code",
   "execution_count": 123,
   "metadata": {},
   "outputs": [],
   "source": [
    "df_train = df_final_updated[df_final_updated.RunningCount <= df_final_updated.length_70p].copy()\n",
    "df_test = df_final_updated[df_final_updated.RunningCount > df_final_updated.length_70p].copy()"
   ]
  },
  {
   "cell_type": "code",
   "execution_count": 124,
   "metadata": {},
   "outputs": [
    {
     "data": {
      "text/plain": [
       "((856892, 10), (395919, 10))"
      ]
     },
     "execution_count": 124,
     "metadata": {},
     "output_type": "execute_result"
    }
   ],
   "source": [
    "df_train.shape, df_test.shape"
   ]
  },
  {
   "cell_type": "code",
   "execution_count": 125,
   "metadata": {},
   "outputs": [],
   "source": [
    "df_train.drop([\"RunningCount\", \"NumRows\", \"length_70p\"], inplace=True, axis=1)\n",
    "df_test.drop([\"RunningCount\", \"NumRows\", \"length_70p\"], inplace=True, axis=1)"
   ]
  },
  {
   "cell_type": "code",
   "execution_count": 126,
   "metadata": {},
   "outputs": [
    {
     "data": {
      "text/html": [
       "<div>\n",
       "<style scoped>\n",
       "    .dataframe tbody tr th:only-of-type {\n",
       "        vertical-align: middle;\n",
       "    }\n",
       "\n",
       "    .dataframe tbody tr th {\n",
       "        vertical-align: top;\n",
       "    }\n",
       "\n",
       "    .dataframe thead th {\n",
       "        text-align: right;\n",
       "    }\n",
       "</style>\n",
       "<table border=\"1\" class=\"dataframe\">\n",
       "  <thead>\n",
       "    <tr style=\"text-align: right;\">\n",
       "      <th></th>\n",
       "      <th>SessionId</th>\n",
       "      <th>ItemId</th>\n",
       "      <th>ItemType</th>\n",
       "      <th>Price</th>\n",
       "      <th>Quantity</th>\n",
       "      <th>Action</th>\n",
       "      <th>Time</th>\n",
       "    </tr>\n",
       "  </thead>\n",
       "  <tbody>\n",
       "    <tr>\n",
       "      <td>0</td>\n",
       "      <td>87</td>\n",
       "      <td>214840483</td>\n",
       "      <td>NONE</td>\n",
       "      <td>1674.0</td>\n",
       "      <td>1.0</td>\n",
       "      <td>BUY</td>\n",
       "      <td>1.396852e+09</td>\n",
       "    </tr>\n",
       "    <tr>\n",
       "      <td>1</td>\n",
       "      <td>87</td>\n",
       "      <td>214840483</td>\n",
       "      <td>NONE</td>\n",
       "      <td>1674.0</td>\n",
       "      <td>1.0</td>\n",
       "      <td>BUY</td>\n",
       "      <td>1.396852e+09</td>\n",
       "    </tr>\n",
       "    <tr>\n",
       "      <td>2</td>\n",
       "      <td>87</td>\n",
       "      <td>214717286</td>\n",
       "      <td>NONE</td>\n",
       "      <td>0.0</td>\n",
       "      <td>0.0</td>\n",
       "      <td>CLICK</td>\n",
       "      <td>1.396852e+09</td>\n",
       "    </tr>\n",
       "    <tr>\n",
       "      <td>3</td>\n",
       "      <td>87</td>\n",
       "      <td>214558807</td>\n",
       "      <td>NONE</td>\n",
       "      <td>0.0</td>\n",
       "      <td>0.0</td>\n",
       "      <td>CLICK</td>\n",
       "      <td>1.396852e+09</td>\n",
       "    </tr>\n",
       "    <tr>\n",
       "      <td>4</td>\n",
       "      <td>87</td>\n",
       "      <td>214821300</td>\n",
       "      <td>NONE</td>\n",
       "      <td>0.0</td>\n",
       "      <td>0.0</td>\n",
       "      <td>CLICK</td>\n",
       "      <td>1.396852e+09</td>\n",
       "    </tr>\n",
       "  </tbody>\n",
       "</table>\n",
       "</div>"
      ],
      "text/plain": [
       "   SessionId     ItemId ItemType   Price  Quantity Action          Time\n",
       "0         87  214840483     NONE  1674.0       1.0    BUY  1.396852e+09\n",
       "1         87  214840483     NONE  1674.0       1.0    BUY  1.396852e+09\n",
       "2         87  214717286     NONE     0.0       0.0  CLICK  1.396852e+09\n",
       "3         87  214558807     NONE     0.0       0.0  CLICK  1.396852e+09\n",
       "4         87  214821300     NONE     0.0       0.0  CLICK  1.396852e+09"
      ]
     },
     "execution_count": 126,
     "metadata": {},
     "output_type": "execute_result"
    }
   ],
   "source": [
    "df_train.head()"
   ]
  },
  {
   "cell_type": "code",
   "execution_count": 127,
   "metadata": {},
   "outputs": [
    {
     "data": {
      "text/html": [
       "<div>\n",
       "<style scoped>\n",
       "    .dataframe tbody tr th:only-of-type {\n",
       "        vertical-align: middle;\n",
       "    }\n",
       "\n",
       "    .dataframe tbody tr th {\n",
       "        vertical-align: top;\n",
       "    }\n",
       "\n",
       "    .dataframe thead th {\n",
       "        text-align: right;\n",
       "    }\n",
       "</style>\n",
       "<table border=\"1\" class=\"dataframe\">\n",
       "  <thead>\n",
       "    <tr style=\"text-align: right;\">\n",
       "      <th></th>\n",
       "      <th>SessionId</th>\n",
       "      <th>ItemId</th>\n",
       "      <th>ItemType</th>\n",
       "      <th>Price</th>\n",
       "      <th>Quantity</th>\n",
       "      <th>Action</th>\n",
       "      <th>Time</th>\n",
       "    </tr>\n",
       "  </thead>\n",
       "  <tbody>\n",
       "    <tr>\n",
       "      <td>16</td>\n",
       "      <td>87</td>\n",
       "      <td>214553844</td>\n",
       "      <td>NONE</td>\n",
       "      <td>0.0</td>\n",
       "      <td>0.0</td>\n",
       "      <td>CLICK</td>\n",
       "      <td>1.396852e+09</td>\n",
       "    </tr>\n",
       "    <tr>\n",
       "      <td>17</td>\n",
       "      <td>87</td>\n",
       "      <td>214601229</td>\n",
       "      <td>NONE</td>\n",
       "      <td>0.0</td>\n",
       "      <td>0.0</td>\n",
       "      <td>CLICK</td>\n",
       "      <td>1.396852e+09</td>\n",
       "    </tr>\n",
       "    <tr>\n",
       "      <td>18</td>\n",
       "      <td>87</td>\n",
       "      <td>214555500</td>\n",
       "      <td>NONE</td>\n",
       "      <td>0.0</td>\n",
       "      <td>0.0</td>\n",
       "      <td>CLICK</td>\n",
       "      <td>1.396853e+09</td>\n",
       "    </tr>\n",
       "    <tr>\n",
       "      <td>19</td>\n",
       "      <td>87</td>\n",
       "      <td>214819760</td>\n",
       "      <td>NONE</td>\n",
       "      <td>0.0</td>\n",
       "      <td>0.0</td>\n",
       "      <td>CLICK</td>\n",
       "      <td>1.396853e+09</td>\n",
       "    </tr>\n",
       "    <tr>\n",
       "      <td>20</td>\n",
       "      <td>87</td>\n",
       "      <td>214717850</td>\n",
       "      <td>NONE</td>\n",
       "      <td>0.0</td>\n",
       "      <td>0.0</td>\n",
       "      <td>CLICK</td>\n",
       "      <td>1.396853e+09</td>\n",
       "    </tr>\n",
       "  </tbody>\n",
       "</table>\n",
       "</div>"
      ],
      "text/plain": [
       "    SessionId     ItemId ItemType  Price  Quantity Action          Time\n",
       "16         87  214553844     NONE    0.0       0.0  CLICK  1.396852e+09\n",
       "17         87  214601229     NONE    0.0       0.0  CLICK  1.396852e+09\n",
       "18         87  214555500     NONE    0.0       0.0  CLICK  1.396853e+09\n",
       "19         87  214819760     NONE    0.0       0.0  CLICK  1.396853e+09\n",
       "20         87  214717850     NONE    0.0       0.0  CLICK  1.396853e+09"
      ]
     },
     "execution_count": 127,
     "metadata": {},
     "output_type": "execute_result"
    }
   ],
   "source": [
    "df_test.head()"
   ]
  },
  {
   "cell_type": "code",
   "execution_count": null,
   "metadata": {},
   "outputs": [],
   "source": []
  },
  {
   "cell_type": "code",
   "execution_count": 128,
   "metadata": {},
   "outputs": [
    {
     "name": "stdout",
     "output_type": "stream",
     "text": [
      "CPU times: user 10.4 s, sys: 68 ms, total: 10.5 s\n",
      "Wall time: 10.5 s\n"
     ]
    }
   ],
   "source": [
    "%%time\n",
    "df_train.to_csv(PATH_TO_PROCESSED_DATA+\"train.csv\", index=False)\n",
    "df_test.to_csv(PATH_TO_PROCESSED_DATA+\"test.csv\", index=False)"
   ]
  },
  {
   "cell_type": "code",
   "execution_count": 129,
   "metadata": {},
   "outputs": [
    {
     "name": "stdout",
     "output_type": "stream",
     "text": [
      "total 274M\r\n",
      "drwxrwxr-x 2 ubuntu ubuntu   1M Sep  3 14:25 .\r\n",
      "drwxrwxr-x 3 ubuntu ubuntu   1M Sep  3 12:23 ..\r\n",
      "-rw-rw-r-- 1 ubuntu ubuntu 209M Sep  3 14:26 full_rating.csv\r\n",
      "-rw-rw-r-- 1 ubuntu ubuntu  21M Sep  3 15:54 test.csv\r\n",
      "-rw-rw-r-- 1 ubuntu ubuntu  45M Sep  3 15:54 train.csv\r\n"
     ]
    }
   ],
   "source": [
    "!ls -al ../data/processed/ --block-size=M"
   ]
  },
  {
   "cell_type": "markdown",
   "metadata": {},
   "source": [
    "### Creating combined dataset"
   ]
  },
  {
   "cell_type": "code",
   "execution_count": 130,
   "metadata": {},
   "outputs": [
    {
     "name": "stdout",
     "output_type": "stream",
     "text": [
      "CPU times: user 752 ms, sys: 36 ms, total: 788 ms\n",
      "Wall time: 785 ms\n"
     ]
    }
   ],
   "source": [
    "%%time\n",
    "\n",
    "df_train = pd.read_csv(PATH_TO_PROCESSED_DATA + \"train.csv\")\n",
    "df_test = pd.read_csv(PATH_TO_PROCESSED_DATA + \"test.csv\")"
   ]
  },
  {
   "cell_type": "code",
   "execution_count": 131,
   "metadata": {},
   "outputs": [],
   "source": [
    "df = pd.concat([df_train, df_test], axis=0)"
   ]
  },
  {
   "cell_type": "code",
   "execution_count": 132,
   "metadata": {},
   "outputs": [
    {
     "data": {
      "text/plain": [
       "((856892, 7), (395919, 7), (1252811, 7))"
      ]
     },
     "execution_count": 132,
     "metadata": {},
     "output_type": "execute_result"
    }
   ],
   "source": [
    "df_train.shape, df_test.shape, df.shape"
   ]
  },
  {
   "cell_type": "code",
   "execution_count": 133,
   "metadata": {},
   "outputs": [
    {
     "name": "stdout",
     "output_type": "stream",
     "text": [
      "CPU times: user 668 ms, sys: 16 ms, total: 684 ms\n",
      "Wall time: 682 ms\n"
     ]
    }
   ],
   "source": [
    "%%time\n",
    "df.sort_values(by=[\"SessionId\", \"Time\"], inplace=True)"
   ]
  },
  {
   "cell_type": "code",
   "execution_count": 134,
   "metadata": {},
   "outputs": [
    {
     "name": "stdout",
     "output_type": "stream",
     "text": [
      "CPU times: user 612 ms, sys: 0 ns, total: 612 ms\n",
      "Wall time: 612 ms\n"
     ]
    }
   ],
   "source": [
    "%%time\n",
    "df[\"ActionScore\"] = df.Action.apply(lambda x: 1 if (x == \"CLICK\") else 5)"
   ]
  },
  {
   "cell_type": "code",
   "execution_count": 135,
   "metadata": {},
   "outputs": [
    {
     "name": "stdout",
     "output_type": "stream",
     "text": [
      "CPU times: user 9.35 s, sys: 48 ms, total: 9.4 s\n",
      "Wall time: 9.43 s\n"
     ]
    }
   ],
   "source": [
    "%%time\n",
    "df.iloc[:,[0,1,7,6]].to_csv(PATH_TO_PROCESSED_DATA+\"full_rating.csv\", index=False)"
   ]
  },
  {
   "cell_type": "code",
   "execution_count": 136,
   "metadata": {},
   "outputs": [
    {
     "data": {
      "text/html": [
       "<div>\n",
       "<style scoped>\n",
       "    .dataframe tbody tr th:only-of-type {\n",
       "        vertical-align: middle;\n",
       "    }\n",
       "\n",
       "    .dataframe tbody tr th {\n",
       "        vertical-align: top;\n",
       "    }\n",
       "\n",
       "    .dataframe thead th {\n",
       "        text-align: right;\n",
       "    }\n",
       "</style>\n",
       "<table border=\"1\" class=\"dataframe\">\n",
       "  <thead>\n",
       "    <tr style=\"text-align: right;\">\n",
       "      <th></th>\n",
       "      <th>SessionId</th>\n",
       "      <th>ItemId</th>\n",
       "      <th>ActionScore</th>\n",
       "      <th>Time</th>\n",
       "    </tr>\n",
       "  </thead>\n",
       "  <tbody>\n",
       "    <tr>\n",
       "      <td>0</td>\n",
       "      <td>87</td>\n",
       "      <td>214840483</td>\n",
       "      <td>5</td>\n",
       "      <td>1.396852e+09</td>\n",
       "    </tr>\n",
       "    <tr>\n",
       "      <td>1</td>\n",
       "      <td>87</td>\n",
       "      <td>214840483</td>\n",
       "      <td>5</td>\n",
       "      <td>1.396852e+09</td>\n",
       "    </tr>\n",
       "    <tr>\n",
       "      <td>2</td>\n",
       "      <td>87</td>\n",
       "      <td>214717286</td>\n",
       "      <td>1</td>\n",
       "      <td>1.396852e+09</td>\n",
       "    </tr>\n",
       "    <tr>\n",
       "      <td>3</td>\n",
       "      <td>87</td>\n",
       "      <td>214558807</td>\n",
       "      <td>1</td>\n",
       "      <td>1.396852e+09</td>\n",
       "    </tr>\n",
       "    <tr>\n",
       "      <td>4</td>\n",
       "      <td>87</td>\n",
       "      <td>214821300</td>\n",
       "      <td>1</td>\n",
       "      <td>1.396852e+09</td>\n",
       "    </tr>\n",
       "  </tbody>\n",
       "</table>\n",
       "</div>"
      ],
      "text/plain": [
       "   SessionId     ItemId  ActionScore          Time\n",
       "0         87  214840483            5  1.396852e+09\n",
       "1         87  214840483            5  1.396852e+09\n",
       "2         87  214717286            1  1.396852e+09\n",
       "3         87  214558807            1  1.396852e+09\n",
       "4         87  214821300            1  1.396852e+09"
      ]
     },
     "execution_count": 136,
     "metadata": {},
     "output_type": "execute_result"
    }
   ],
   "source": [
    "df.iloc[:,[0,1,7,6]].head()"
   ]
  },
  {
   "cell_type": "code",
   "execution_count": null,
   "metadata": {},
   "outputs": [],
   "source": []
  }
 ],
 "metadata": {
  "kernelspec": {
   "display_name": "Python 3",
   "language": "python",
   "name": "python3"
  },
  "language_info": {
   "codemirror_mode": {
    "name": "ipython",
    "version": 3
   },
   "file_extension": ".py",
   "mimetype": "text/x-python",
   "name": "python",
   "nbconvert_exporter": "python",
   "pygments_lexer": "ipython3",
   "version": "3.7.4"
  }
 },
 "nbformat": 4,
 "nbformat_minor": 2
}
