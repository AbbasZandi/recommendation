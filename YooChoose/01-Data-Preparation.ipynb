{
 "cells": [
  {
   "cell_type": "code",
   "execution_count": 1,
   "metadata": {},
   "outputs": [],
   "source": [
    "import numpy as np\n",
    "import pandas as pd\n",
    "import datetime as dt"
   ]
  },
  {
   "cell_type": "code",
   "execution_count": 2,
   "metadata": {},
   "outputs": [],
   "source": [
    "import matplotlib.pyplot as plt\n",
    "import seaborn as sns\n",
    "%matplotlib inline"
   ]
  },
  {
   "cell_type": "code",
   "execution_count": 3,
   "metadata": {},
   "outputs": [],
   "source": [
    "# !mkdir ../data/processed"
   ]
  },
  {
   "cell_type": "code",
   "execution_count": 4,
   "metadata": {},
   "outputs": [],
   "source": [
    "PATH_TO_ORIGINAL_DATA = '../data/'\n",
    "PATH_TO_PROCESSED_DATA = '../data/processed'"
   ]
  },
  {
   "cell_type": "markdown",
   "metadata": {},
   "source": [
    "### Reading clicks dataset"
   ]
  },
  {
   "cell_type": "code",
   "execution_count": 5,
   "metadata": {},
   "outputs": [
    {
     "name": "stdout",
     "output_type": "stream",
     "text": [
      "CPU times: user 23.7 s, sys: 2.38 s, total: 26 s\n",
      "Wall time: 26 s\n"
     ]
    }
   ],
   "source": [
    "%%time\n",
    "df_clicks = pd.read_csv(PATH_TO_ORIGINAL_DATA + 'yoochoose-clicks.dat', sep=',', header=None,\n",
    "                  dtype={0:np.int32, 1:str, 2:np.int64, 3:str})"
   ]
  },
  {
   "cell_type": "code",
   "execution_count": null,
   "metadata": {},
   "outputs": [],
   "source": [
    "# !cat ../data/dataset-README.txt"
   ]
  },
  {
   "cell_type": "code",
   "execution_count": null,
   "metadata": {},
   "outputs": [],
   "source": [
    "# data.iloc[:,3].unique()"
   ]
  },
  {
   "cell_type": "code",
   "execution_count": 8,
   "metadata": {},
   "outputs": [
    {
     "data": {
      "text/plain": [
       "0             16337653\n",
       "S             10769610\n",
       "1              1671754\n",
       "2              1292249\n",
       "3               789713\n",
       "                ...   \n",
       "2089673487           1\n",
       "2089293264           1\n",
       "2089251022           1\n",
       "2090232171           1\n",
       "2089399917           1\n",
       "Name: 3, Length: 339, dtype: int64"
      ]
     },
     "execution_count": 8,
     "metadata": {},
     "output_type": "execute_result"
    }
   ],
   "source": [
    "df_clicks.iloc[:,3].value_counts()"
   ]
  },
  {
   "cell_type": "code",
   "execution_count": 9,
   "metadata": {},
   "outputs": [
    {
     "data": {
      "text/plain": [
       "339"
      ]
     },
     "execution_count": 9,
     "metadata": {},
     "output_type": "execute_result"
    }
   ],
   "source": [
    "len(df_clicks.iloc[:,3].unique())"
   ]
  },
  {
   "cell_type": "markdown",
   "metadata": {},
   "source": [
    "### Function to convert the category type to a manageable level"
   ]
  },
  {
   "cell_type": "code",
   "execution_count": 10,
   "metadata": {},
   "outputs": [],
   "source": [
    "def assign_cat(x):\n",
    "    if x == \"S\":\n",
    "        return \"PROMOTION\"\n",
    "    elif np.int(x) == 0:\n",
    "        return \"NONE\"\n",
    "    elif np.int(x) < 13:\n",
    "        return \"CATEGORY\"\n",
    "    else:\n",
    "        return \"BRAND\""
   ]
  },
  {
   "cell_type": "code",
   "execution_count": 11,
   "metadata": {},
   "outputs": [
    {
     "name": "stdout",
     "output_type": "stream",
     "text": [
      "CPU times: user 14.4 s, sys: 60 ms, total: 14.5 s\n",
      "Wall time: 14.5 s\n"
     ]
    }
   ],
   "source": [
    "%%time\n",
    "df_clicks[\"Item_Type\"] = df_clicks.iloc[:,3].map(assign_cat)"
   ]
  },
  {
   "cell_type": "code",
   "execution_count": 12,
   "metadata": {},
   "outputs": [
    {
     "data": {
      "text/plain": [
       "array(['NONE', 'PROMOTION', 'CATEGORY', 'BRAND'], dtype=object)"
      ]
     },
     "execution_count": 12,
     "metadata": {},
     "output_type": "execute_result"
    }
   ],
   "source": [
    "df_clicks.Item_Type.unique()"
   ]
  },
  {
   "cell_type": "code",
   "execution_count": 13,
   "metadata": {},
   "outputs": [
    {
     "data": {
      "text/plain": [
       "NONE         16337653\n",
       "PROMOTION    10769610\n",
       "CATEGORY      5820377\n",
       "BRAND           76304\n",
       "Name: Item_Type, dtype: int64"
      ]
     },
     "execution_count": 13,
     "metadata": {},
     "output_type": "execute_result"
    }
   ],
   "source": [
    "df_clicks.Item_Type.value_counts()"
   ]
  },
  {
   "cell_type": "code",
   "execution_count": 14,
   "metadata": {},
   "outputs": [],
   "source": [
    "df_clicks.columns =  [\"SessionId\", \"TimeStr\", \"ItemId\", \"Item_Type_Code\", \"ItemType\"]"
   ]
  },
  {
   "cell_type": "code",
   "execution_count": 15,
   "metadata": {},
   "outputs": [
    {
     "name": "stdout",
     "output_type": "stream",
     "text": [
      "CPU times: user 2.61 s, sys: 500 ms, total: 3.11 s\n",
      "Wall time: 3.1 s\n"
     ]
    }
   ],
   "source": [
    "%%time\n",
    "df_clicks.drop([\"Item_Type_Code\"], inplace=True, axis=1)"
   ]
  },
  {
   "cell_type": "code",
   "execution_count": 16,
   "metadata": {},
   "outputs": [
    {
     "data": {
      "text/html": [
       "<div>\n",
       "<style scoped>\n",
       "    .dataframe tbody tr th:only-of-type {\n",
       "        vertical-align: middle;\n",
       "    }\n",
       "\n",
       "    .dataframe tbody tr th {\n",
       "        vertical-align: top;\n",
       "    }\n",
       "\n",
       "    .dataframe thead th {\n",
       "        text-align: right;\n",
       "    }\n",
       "</style>\n",
       "<table border=\"1\" class=\"dataframe\">\n",
       "  <thead>\n",
       "    <tr style=\"text-align: right;\">\n",
       "      <th></th>\n",
       "      <th>SessionId</th>\n",
       "      <th>TimeStr</th>\n",
       "      <th>ItemId</th>\n",
       "      <th>ItemType</th>\n",
       "    </tr>\n",
       "  </thead>\n",
       "  <tbody>\n",
       "    <tr>\n",
       "      <td>0</td>\n",
       "      <td>1</td>\n",
       "      <td>2014-04-07T10:51:09.277Z</td>\n",
       "      <td>214536502</td>\n",
       "      <td>NONE</td>\n",
       "    </tr>\n",
       "    <tr>\n",
       "      <td>1</td>\n",
       "      <td>1</td>\n",
       "      <td>2014-04-07T10:54:09.868Z</td>\n",
       "      <td>214536500</td>\n",
       "      <td>NONE</td>\n",
       "    </tr>\n",
       "    <tr>\n",
       "      <td>2</td>\n",
       "      <td>1</td>\n",
       "      <td>2014-04-07T10:54:46.998Z</td>\n",
       "      <td>214536506</td>\n",
       "      <td>NONE</td>\n",
       "    </tr>\n",
       "    <tr>\n",
       "      <td>3</td>\n",
       "      <td>1</td>\n",
       "      <td>2014-04-07T10:57:00.306Z</td>\n",
       "      <td>214577561</td>\n",
       "      <td>NONE</td>\n",
       "    </tr>\n",
       "    <tr>\n",
       "      <td>4</td>\n",
       "      <td>2</td>\n",
       "      <td>2014-04-07T13:56:37.614Z</td>\n",
       "      <td>214662742</td>\n",
       "      <td>NONE</td>\n",
       "    </tr>\n",
       "  </tbody>\n",
       "</table>\n",
       "</div>"
      ],
      "text/plain": [
       "   SessionId                   TimeStr     ItemId ItemType\n",
       "0          1  2014-04-07T10:51:09.277Z  214536502     NONE\n",
       "1          1  2014-04-07T10:54:09.868Z  214536500     NONE\n",
       "2          1  2014-04-07T10:54:46.998Z  214536506     NONE\n",
       "3          1  2014-04-07T10:57:00.306Z  214577561     NONE\n",
       "4          2  2014-04-07T13:56:37.614Z  214662742     NONE"
      ]
     },
     "execution_count": 16,
     "metadata": {},
     "output_type": "execute_result"
    }
   ],
   "source": [
    "df_clicks.head()"
   ]
  },
  {
   "cell_type": "markdown",
   "metadata": {},
   "source": [
    "### Finding number of unique sessions, number of unique items"
   ]
  },
  {
   "cell_type": "code",
   "execution_count": null,
   "metadata": {},
   "outputs": [],
   "source": [
    "print(\"Number of unique sessions:\", len(data.SessionId.unique()))"
   ]
  },
  {
   "cell_type": "code",
   "execution_count": 17,
   "metadata": {},
   "outputs": [],
   "source": [
    "df_clicks_by_session = df_clicks.groupby([\"SessionId\"])"
   ]
  },
  {
   "cell_type": "code",
   "execution_count": 18,
   "metadata": {},
   "outputs": [
    {
     "name": "stdout",
     "output_type": "stream",
     "text": [
      "CPU times: user 2.04 s, sys: 220 ms, total: 2.26 s\n",
      "Wall time: 2.26 s\n"
     ]
    }
   ],
   "source": [
    "%%time\n",
    "df_clicks_sessionCount = df_clicks_by_session[\"ItemId\"].count()"
   ]
  },
  {
   "cell_type": "code",
   "execution_count": 19,
   "metadata": {},
   "outputs": [
    {
     "name": "stdout",
     "output_type": "stream",
     "text": [
      "CPU times: user 196 ms, sys: 0 ns, total: 196 ms\n",
      "Wall time: 196 ms\n"
     ]
    },
    {
     "data": {
      "text/plain": [
       "<matplotlib.axes._subplots.AxesSubplot at 0x7f376cd0f850>"
      ]
     },
     "execution_count": 19,
     "metadata": {},
     "output_type": "execute_result"
    },
    {
     "data": {
      "image/png": "[encoded data removed]",
      "text/plain": [
       "<Figure size 432x288 with 1 Axes>"
      ]
     },
     "metadata": {
      "needs_background": "light"
     },
     "output_type": "display_data"
    }
   ],
   "source": [
    "%%time\n",
    "sns.distplot(df_clicks_sessionCount, kde=False, bins=20)"
   ]
  },
  {
   "cell_type": "code",
   "execution_count": 20,
   "metadata": {},
   "outputs": [
    {
     "name": "stdout",
     "output_type": "stream",
     "text": [
      "CPU times: user 240 ms, sys: 0 ns, total: 240 ms\n",
      "Wall time: 241 ms\n"
     ]
    },
    {
     "data": {
      "text/plain": [
       "<matplotlib.axes._subplots.AxesSubplot at 0x7f37cd8bc9d0>"
      ]
     },
     "execution_count": 20,
     "metadata": {},
     "output_type": "execute_result"
    },
    {
     "data": {
      "image/png": "[encoded data removed]",
      "text/plain": [
       "<Figure size 432x288 with 1 Axes>"
      ]
     },
     "metadata": {
      "needs_background": "light"
     },
     "output_type": "display_data"
    }
   ],
   "source": [
    "%%time\n",
    "sns.distplot(df_clicks_sessionCount[df_clicks_sessionCount<20], kde=False, bins=20)"
   ]
  },
  {
   "cell_type": "markdown",
   "metadata": {},
   "source": [
    "### Reading buy dataset"
   ]
  },
  {
   "cell_type": "code",
   "execution_count": 21,
   "metadata": {},
   "outputs": [
    {
     "name": "stdout",
     "output_type": "stream",
     "text": [
      "CPU times: user 1.04 s, sys: 48 ms, total: 1.09 s\n",
      "Wall time: 1.09 s\n"
     ]
    }
   ],
   "source": [
    "%%time\n",
    "df_buys = pd.read_csv(PATH_TO_ORIGINAL_DATA + 'yoochoose-buys.dat', sep=',', header=None,\n",
    "                  dtype={0:np.int32, 1:str, 2:np.int64, 3:np.int64, 4:np.int64})"
   ]
  },
  {
   "cell_type": "code",
   "execution_count": 23,
   "metadata": {},
   "outputs": [],
   "source": [
    "df_buys.columns = [\"SessionId\", \"TimeStr\", \"ItemId\", \"Price\", \"Quantity\"]"
   ]
  },
  {
   "cell_type": "code",
   "execution_count": 27,
   "metadata": {},
   "outputs": [],
   "source": [
    "df_buys.drop([\"TimeStr\"], inplace=True, axis=1)"
   ]
  },
  {
   "cell_type": "code",
   "execution_count": 29,
   "metadata": {},
   "outputs": [],
   "source": [
    "df_buys[\"Action\"] = \"BUY\""
   ]
  },
  {
   "cell_type": "code",
   "execution_count": 30,
   "metadata": {},
   "outputs": [
    {
     "data": {
      "text/html": [
       "<div>\n",
       "<style scoped>\n",
       "    .dataframe tbody tr th:only-of-type {\n",
       "        vertical-align: middle;\n",
       "    }\n",
       "\n",
       "    .dataframe tbody tr th {\n",
       "        vertical-align: top;\n",
       "    }\n",
       "\n",
       "    .dataframe thead th {\n",
       "        text-align: right;\n",
       "    }\n",
       "</style>\n",
       "<table border=\"1\" class=\"dataframe\">\n",
       "  <thead>\n",
       "    <tr style=\"text-align: right;\">\n",
       "      <th></th>\n",
       "      <th>SessionId</th>\n",
       "      <th>ItemId</th>\n",
       "      <th>Price</th>\n",
       "      <th>Quantity</th>\n",
       "      <th>Action</th>\n",
       "    </tr>\n",
       "  </thead>\n",
       "  <tbody>\n",
       "    <tr>\n",
       "      <td>0</td>\n",
       "      <td>420374</td>\n",
       "      <td>214537888</td>\n",
       "      <td>12462</td>\n",
       "      <td>1</td>\n",
       "      <td>BUY</td>\n",
       "    </tr>\n",
       "    <tr>\n",
       "      <td>1</td>\n",
       "      <td>420374</td>\n",
       "      <td>214537850</td>\n",
       "      <td>10471</td>\n",
       "      <td>1</td>\n",
       "      <td>BUY</td>\n",
       "    </tr>\n",
       "    <tr>\n",
       "      <td>2</td>\n",
       "      <td>281626</td>\n",
       "      <td>214535653</td>\n",
       "      <td>1883</td>\n",
       "      <td>1</td>\n",
       "      <td>BUY</td>\n",
       "    </tr>\n",
       "    <tr>\n",
       "      <td>3</td>\n",
       "      <td>420368</td>\n",
       "      <td>214530572</td>\n",
       "      <td>6073</td>\n",
       "      <td>1</td>\n",
       "      <td>BUY</td>\n",
       "    </tr>\n",
       "    <tr>\n",
       "      <td>4</td>\n",
       "      <td>420368</td>\n",
       "      <td>214835025</td>\n",
       "      <td>2617</td>\n",
       "      <td>1</td>\n",
       "      <td>BUY</td>\n",
       "    </tr>\n",
       "  </tbody>\n",
       "</table>\n",
       "</div>"
      ],
      "text/plain": [
       "   SessionId     ItemId  Price  Quantity Action\n",
       "0     420374  214537888  12462         1    BUY\n",
       "1     420374  214537850  10471         1    BUY\n",
       "2     281626  214535653   1883         1    BUY\n",
       "3     420368  214530572   6073         1    BUY\n",
       "4     420368  214835025   2617         1    BUY"
      ]
     },
     "execution_count": 30,
     "metadata": {},
     "output_type": "execute_result"
    }
   ],
   "source": [
    "df_buys.head()"
   ]
  },
  {
   "cell_type": "code",
   "execution_count": 33,
   "metadata": {},
   "outputs": [
    {
     "name": "stdout",
     "output_type": "stream",
     "text": [
      "CPU times: user 12.4 s, sys: 2.3 s, total: 14.7 s\n",
      "Wall time: 14.7 s\n"
     ]
    }
   ],
   "source": [
    "%%time\n",
    "df = pd.merge(left=df_clicks, right=df_buys, how=\"left\", on=[\"SessionId\", \"ItemId\"])"
   ]
  },
  {
   "cell_type": "code",
   "execution_count": 34,
   "metadata": {},
   "outputs": [
    {
     "data": {
      "text/plain": [
       "((33234442, 7), (33003944, 4), (1150753, 5))"
      ]
     },
     "execution_count": 34,
     "metadata": {},
     "output_type": "execute_result"
    }
   ],
   "source": [
    "df.shape, df_clicks.shape, df_buys.shape"
   ]
  },
  {
   "cell_type": "code",
   "execution_count": 51,
   "metadata": {},
   "outputs": [],
   "source": [
    "ItemId = 214821371\n",
    "SessionId = 11"
   ]
  },
  {
   "cell_type": "code",
   "execution_count": 53,
   "metadata": {},
   "outputs": [],
   "source": [
    "query = \"ItemId==@ItemId & SessionId==@SessionId\""
   ]
  },
  {
   "cell_type": "code",
   "execution_count": 55,
   "metadata": {},
   "outputs": [
    {
     "data": {
      "text/html": [
       "<div>\n",
       "<style scoped>\n",
       "    .dataframe tbody tr th:only-of-type {\n",
       "        vertical-align: middle;\n",
       "    }\n",
       "\n",
       "    .dataframe tbody tr th {\n",
       "        vertical-align: top;\n",
       "    }\n",
       "\n",
       "    .dataframe thead th {\n",
       "        text-align: right;\n",
       "    }\n",
       "</style>\n",
       "<table border=\"1\" class=\"dataframe\">\n",
       "  <thead>\n",
       "    <tr style=\"text-align: right;\">\n",
       "      <th></th>\n",
       "      <th>SessionId</th>\n",
       "      <th>TimeStr</th>\n",
       "      <th>ItemId</th>\n",
       "      <th>ItemType</th>\n",
       "      <th>Price</th>\n",
       "      <th>Quantity</th>\n",
       "      <th>Action</th>\n",
       "    </tr>\n",
       "  </thead>\n",
       "  <tbody>\n",
       "    <tr>\n",
       "      <td>26</td>\n",
       "      <td>11</td>\n",
       "      <td>2014-04-03T10:45:29.873Z</td>\n",
       "      <td>214821371</td>\n",
       "      <td>NONE</td>\n",
       "      <td>1046.0</td>\n",
       "      <td>1.0</td>\n",
       "      <td>BUY</td>\n",
       "    </tr>\n",
       "    <tr>\n",
       "      <td>27</td>\n",
       "      <td>11</td>\n",
       "      <td>2014-04-03T10:45:29.873Z</td>\n",
       "      <td>214821371</td>\n",
       "      <td>NONE</td>\n",
       "      <td>1046.0</td>\n",
       "      <td>1.0</td>\n",
       "      <td>BUY</td>\n",
       "    </tr>\n",
       "    <tr>\n",
       "      <td>28</td>\n",
       "      <td>11</td>\n",
       "      <td>2014-04-03T10:46:12.162Z</td>\n",
       "      <td>214821371</td>\n",
       "      <td>NONE</td>\n",
       "      <td>1046.0</td>\n",
       "      <td>1.0</td>\n",
       "      <td>BUY</td>\n",
       "    </tr>\n",
       "    <tr>\n",
       "      <td>29</td>\n",
       "      <td>11</td>\n",
       "      <td>2014-04-03T10:46:12.162Z</td>\n",
       "      <td>214821371</td>\n",
       "      <td>NONE</td>\n",
       "      <td>1046.0</td>\n",
       "      <td>1.0</td>\n",
       "      <td>BUY</td>\n",
       "    </tr>\n",
       "    <tr>\n",
       "      <td>30</td>\n",
       "      <td>11</td>\n",
       "      <td>2014-04-03T10:46:57.355Z</td>\n",
       "      <td>214821371</td>\n",
       "      <td>NONE</td>\n",
       "      <td>1046.0</td>\n",
       "      <td>1.0</td>\n",
       "      <td>BUY</td>\n",
       "    </tr>\n",
       "    <tr>\n",
       "      <td>31</td>\n",
       "      <td>11</td>\n",
       "      <td>2014-04-03T10:46:57.355Z</td>\n",
       "      <td>214821371</td>\n",
       "      <td>NONE</td>\n",
       "      <td>1046.0</td>\n",
       "      <td>1.0</td>\n",
       "      <td>BUY</td>\n",
       "    </tr>\n",
       "  </tbody>\n",
       "</table>\n",
       "</div>"
      ],
      "text/plain": [
       "    SessionId                   TimeStr     ItemId ItemType   Price  Quantity  \\\n",
       "26         11  2014-04-03T10:45:29.873Z  214821371     NONE  1046.0       1.0   \n",
       "27         11  2014-04-03T10:45:29.873Z  214821371     NONE  1046.0       1.0   \n",
       "28         11  2014-04-03T10:46:12.162Z  214821371     NONE  1046.0       1.0   \n",
       "29         11  2014-04-03T10:46:12.162Z  214821371     NONE  1046.0       1.0   \n",
       "30         11  2014-04-03T10:46:57.355Z  214821371     NONE  1046.0       1.0   \n",
       "31         11  2014-04-03T10:46:57.355Z  214821371     NONE  1046.0       1.0   \n",
       "\n",
       "   Action  \n",
       "26    BUY  \n",
       "27    BUY  \n",
       "28    BUY  \n",
       "29    BUY  \n",
       "30    BUY  \n",
       "31    BUY  "
      ]
     },
     "execution_count": 55,
     "metadata": {},
     "output_type": "execute_result"
    }
   ],
   "source": [
    "df.query(query)"
   ]
  },
  {
   "cell_type": "code",
   "execution_count": 56,
   "metadata": {},
   "outputs": [
    {
     "data": {
      "text/html": [
       "<div>\n",
       "<style scoped>\n",
       "    .dataframe tbody tr th:only-of-type {\n",
       "        vertical-align: middle;\n",
       "    }\n",
       "\n",
       "    .dataframe tbody tr th {\n",
       "        vertical-align: top;\n",
       "    }\n",
       "\n",
       "    .dataframe thead th {\n",
       "        text-align: right;\n",
       "    }\n",
       "</style>\n",
       "<table border=\"1\" class=\"dataframe\">\n",
       "  <thead>\n",
       "    <tr style=\"text-align: right;\">\n",
       "      <th></th>\n",
       "      <th>SessionId</th>\n",
       "      <th>ItemId</th>\n",
       "      <th>Price</th>\n",
       "      <th>Quantity</th>\n",
       "      <th>Action</th>\n",
       "    </tr>\n",
       "  </thead>\n",
       "  <tbody>\n",
       "    <tr>\n",
       "      <td>10</td>\n",
       "      <td>11</td>\n",
       "      <td>214821371</td>\n",
       "      <td>1046</td>\n",
       "      <td>1</td>\n",
       "      <td>BUY</td>\n",
       "    </tr>\n",
       "    <tr>\n",
       "      <td>11</td>\n",
       "      <td>11</td>\n",
       "      <td>214821371</td>\n",
       "      <td>1046</td>\n",
       "      <td>1</td>\n",
       "      <td>BUY</td>\n",
       "    </tr>\n",
       "  </tbody>\n",
       "</table>\n",
       "</div>"
      ],
      "text/plain": [
       "    SessionId     ItemId  Price  Quantity Action\n",
       "10         11  214821371   1046         1    BUY\n",
       "11         11  214821371   1046         1    BUY"
      ]
     },
     "execution_count": 56,
     "metadata": {},
     "output_type": "execute_result"
    }
   ],
   "source": [
    "df_buys.query(query)"
   ]
  },
  {
   "cell_type": "code",
   "execution_count": 57,
   "metadata": {},
   "outputs": [
    {
     "data": {
      "text/html": [
       "<div>\n",
       "<style scoped>\n",
       "    .dataframe tbody tr th:only-of-type {\n",
       "        vertical-align: middle;\n",
       "    }\n",
       "\n",
       "    .dataframe tbody tr th {\n",
       "        vertical-align: top;\n",
       "    }\n",
       "\n",
       "    .dataframe thead th {\n",
       "        text-align: right;\n",
       "    }\n",
       "</style>\n",
       "<table border=\"1\" class=\"dataframe\">\n",
       "  <thead>\n",
       "    <tr style=\"text-align: right;\">\n",
       "      <th></th>\n",
       "      <th>SessionId</th>\n",
       "      <th>TimeStr</th>\n",
       "      <th>ItemId</th>\n",
       "      <th>ItemType</th>\n",
       "    </tr>\n",
       "  </thead>\n",
       "  <tbody>\n",
       "    <tr>\n",
       "      <td>26</td>\n",
       "      <td>11</td>\n",
       "      <td>2014-04-03T10:45:29.873Z</td>\n",
       "      <td>214821371</td>\n",
       "      <td>NONE</td>\n",
       "    </tr>\n",
       "    <tr>\n",
       "      <td>27</td>\n",
       "      <td>11</td>\n",
       "      <td>2014-04-03T10:46:12.162Z</td>\n",
       "      <td>214821371</td>\n",
       "      <td>NONE</td>\n",
       "    </tr>\n",
       "    <tr>\n",
       "      <td>28</td>\n",
       "      <td>11</td>\n",
       "      <td>2014-04-03T10:46:57.355Z</td>\n",
       "      <td>214821371</td>\n",
       "      <td>NONE</td>\n",
       "    </tr>\n",
       "  </tbody>\n",
       "</table>\n",
       "</div>"
      ],
      "text/plain": [
       "    SessionId                   TimeStr     ItemId ItemType\n",
       "26         11  2014-04-03T10:45:29.873Z  214821371     NONE\n",
       "27         11  2014-04-03T10:46:12.162Z  214821371     NONE\n",
       "28         11  2014-04-03T10:46:57.355Z  214821371     NONE"
      ]
     },
     "execution_count": 57,
     "metadata": {},
     "output_type": "execute_result"
    }
   ],
   "source": [
    "df_clicks.query(query)"
   ]
  },
  {
   "cell_type": "markdown",
   "metadata": {},
   "source": [
    "### Drop the duplicate rows"
   ]
  },
  {
   "cell_type": "code",
   "execution_count": 65,
   "metadata": {},
   "outputs": [],
   "source": [
    "df.drop_duplicates(inplace=True)"
   ]
  },
  {
   "cell_type": "markdown",
   "metadata": {},
   "source": [
    "### Refined data\n",
    "\n",
    "Remove sessions of length less than a specific threshold and remove items that don't occur more than a specific threshold"
   ]
  },
  {
   "cell_type": "code",
   "execution_count": 89,
   "metadata": {},
   "outputs": [],
   "source": [
    "SESSION_THRESHOLD = 10\n",
    "ITEM_THRESHOLD = 50"
   ]
  },
  {
   "cell_type": "code",
   "execution_count": 76,
   "metadata": {},
   "outputs": [],
   "source": [
    "session_lengths = df.groupby([\"SessionId\"]).size()"
   ]
  },
  {
   "cell_type": "code",
   "execution_count": 105,
   "metadata": {},
   "outputs": [],
   "source": [
    "session_lengths_w_threshold = (session_lengths[session_lengths>SESSION_THRESHOLD])"
   ]
  },
  {
   "cell_type": "code",
   "execution_count": 106,
   "metadata": {},
   "outputs": [
    {
     "data": {
      "text/plain": [
       "361141"
      ]
     },
     "execution_count": 106,
     "metadata": {},
     "output_type": "execute_result"
    }
   ],
   "source": [
    "len(session_lengths_w_threshold)"
   ]
  },
  {
   "cell_type": "code",
   "execution_count": 112,
   "metadata": {},
   "outputs": [],
   "source": [
    "session_lengths_w_threshold = session_lengths_w_threshold.reset_index()"
   ]
  },
  {
   "cell_type": "code",
   "execution_count": 116,
   "metadata": {},
   "outputs": [
    {
     "name": "stdout",
     "output_type": "stream",
     "text": [
      "CPU times: user 2.84 s, sys: 492 ms, total: 3.33 s\n",
      "Wall time: 3.33 s\n"
     ]
    }
   ],
   "source": [
    "%%time\n",
    "df_with_session_threshold = df[df.SessionId.isin(session_lengths_w_threshold.SessionId)]"
   ]
  },
  {
   "cell_type": "code",
   "execution_count": 117,
   "metadata": {},
   "outputs": [
    {
     "data": {
      "text/html": [
       "<div>\n",
       "<style scoped>\n",
       "    .dataframe tbody tr th:only-of-type {\n",
       "        vertical-align: middle;\n",
       "    }\n",
       "\n",
       "    .dataframe tbody tr th {\n",
       "        vertical-align: top;\n",
       "    }\n",
       "\n",
       "    .dataframe thead th {\n",
       "        text-align: right;\n",
       "    }\n",
       "</style>\n",
       "<table border=\"1\" class=\"dataframe\">\n",
       "  <thead>\n",
       "    <tr style=\"text-align: right;\">\n",
       "      <th></th>\n",
       "      <th>SessionId</th>\n",
       "      <th>TimeStr</th>\n",
       "      <th>ItemId</th>\n",
       "      <th>ItemType</th>\n",
       "      <th>Price</th>\n",
       "      <th>Quantity</th>\n",
       "      <th>Action</th>\n",
       "    </tr>\n",
       "  </thead>\n",
       "  <tbody>\n",
       "    <tr>\n",
       "      <td>24</td>\n",
       "      <td>11</td>\n",
       "      <td>2014-04-03T10:44:35.672Z</td>\n",
       "      <td>214821275</td>\n",
       "      <td>NONE</td>\n",
       "      <td>NaN</td>\n",
       "      <td>NaN</td>\n",
       "      <td>NaN</td>\n",
       "    </tr>\n",
       "    <tr>\n",
       "      <td>25</td>\n",
       "      <td>11</td>\n",
       "      <td>2014-04-03T10:45:01.674Z</td>\n",
       "      <td>214821275</td>\n",
       "      <td>NONE</td>\n",
       "      <td>NaN</td>\n",
       "      <td>NaN</td>\n",
       "      <td>NaN</td>\n",
       "    </tr>\n",
       "    <tr>\n",
       "      <td>26</td>\n",
       "      <td>11</td>\n",
       "      <td>2014-04-03T10:45:29.873Z</td>\n",
       "      <td>214821371</td>\n",
       "      <td>NONE</td>\n",
       "      <td>1046.0</td>\n",
       "      <td>1.0</td>\n",
       "      <td>BUY</td>\n",
       "    </tr>\n",
       "    <tr>\n",
       "      <td>28</td>\n",
       "      <td>11</td>\n",
       "      <td>2014-04-03T10:46:12.162Z</td>\n",
       "      <td>214821371</td>\n",
       "      <td>NONE</td>\n",
       "      <td>1046.0</td>\n",
       "      <td>1.0</td>\n",
       "      <td>BUY</td>\n",
       "    </tr>\n",
       "    <tr>\n",
       "      <td>30</td>\n",
       "      <td>11</td>\n",
       "      <td>2014-04-03T10:46:57.355Z</td>\n",
       "      <td>214821371</td>\n",
       "      <td>NONE</td>\n",
       "      <td>1046.0</td>\n",
       "      <td>1.0</td>\n",
       "      <td>BUY</td>\n",
       "    </tr>\n",
       "  </tbody>\n",
       "</table>\n",
       "</div>"
      ],
      "text/plain": [
       "    SessionId                   TimeStr     ItemId ItemType   Price  Quantity  \\\n",
       "24         11  2014-04-03T10:44:35.672Z  214821275     NONE     NaN       NaN   \n",
       "25         11  2014-04-03T10:45:01.674Z  214821275     NONE     NaN       NaN   \n",
       "26         11  2014-04-03T10:45:29.873Z  214821371     NONE  1046.0       1.0   \n",
       "28         11  2014-04-03T10:46:12.162Z  214821371     NONE  1046.0       1.0   \n",
       "30         11  2014-04-03T10:46:57.355Z  214821371     NONE  1046.0       1.0   \n",
       "\n",
       "   Action  \n",
       "24    NaN  \n",
       "25    NaN  \n",
       "26    BUY  \n",
       "28    BUY  \n",
       "30    BUY  "
      ]
     },
     "execution_count": 117,
     "metadata": {},
     "output_type": "execute_result"
    }
   ],
   "source": [
    "df_with_session_threshold.head()"
   ]
  },
  {
   "cell_type": "code",
   "execution_count": 119,
   "metadata": {},
   "outputs": [
    {
     "data": {
      "text/plain": [
       "(6180236, 7)"
      ]
     },
     "execution_count": 119,
     "metadata": {},
     "output_type": "execute_result"
    }
   ],
   "source": [
    "df_with_session_threshold.shape"
   ]
  },
  {
   "cell_type": "code",
   "execution_count": 120,
   "metadata": {},
   "outputs": [
    {
     "data": {
      "text/plain": [
       "21477"
      ]
     },
     "execution_count": 120,
     "metadata": {},
     "output_type": "execute_result"
    }
   ],
   "source": [
    "item_lengths = df.groupby([\"ItemId\"]).size()\n",
    "item_lengths_w_threshold = item_lengths[item_lengths>ITEM_THRESHOLD]\n",
    "len(item_lengths_w_threshold)"
   ]
  },
  {
   "cell_type": "code",
   "execution_count": 122,
   "metadata": {},
   "outputs": [],
   "source": [
    "item_lengths_w_threshold = item_lengths_w_threshold.reset_index()"
   ]
  },
  {
   "cell_type": "code",
   "execution_count": 124,
   "metadata": {},
   "outputs": [],
   "source": [
    "df_with_session_item_threshold = df_with_session_threshold[df_with_session_threshold.ItemId.isin(item_lengths_w_threshold.ItemId)]"
   ]
  },
  {
   "cell_type": "code",
   "execution_count": 125,
   "metadata": {},
   "outputs": [
    {
     "data": {
      "text/plain": [
       "(6097854, 7)"
      ]
     },
     "execution_count": 125,
     "metadata": {},
     "output_type": "execute_result"
    }
   ],
   "source": [
    "df_with_session_item_threshold.shape"
   ]
  },
  {
   "cell_type": "code",
   "execution_count": 126,
   "metadata": {},
   "outputs": [
    {
     "data": {
      "text/plain": [
       "355238"
      ]
     },
     "execution_count": 126,
     "metadata": {},
     "output_type": "execute_result"
    }
   ],
   "source": [
    "session_lengths_2 = df_with_session_item_threshold.groupby([\"SessionId\"]).size()\n",
    "session_lengths_2_w_threshold = (session_lengths_2[session_lengths_2 > SESSION_THRESHOLD])\n",
    "len(session_lengths_2_w_threshold)"
   ]
  },
  {
   "cell_type": "code",
   "execution_count": 127,
   "metadata": {},
   "outputs": [],
   "source": [
    "session_lengths_2_w_threshold = session_lengths_2_w_threshold.reset_index()"
   ]
  },
  {
   "cell_type": "code",
   "execution_count": 128,
   "metadata": {},
   "outputs": [
    {
     "name": "stdout",
     "output_type": "stream",
     "text": [
      "CPU times: user 724 ms, sys: 140 ms, total: 864 ms\n",
      "Wall time: 865 ms\n"
     ]
    }
   ],
   "source": [
    "%%time\n",
    "df_final = df_with_session_item_threshold[df_with_session_item_threshold.SessionId.isin(session_lengths_2_w_threshold.SessionId)]"
   ]
  },
  {
   "cell_type": "code",
   "execution_count": 129,
   "metadata": {},
   "outputs": [
    {
     "data": {
      "text/plain": [
       "(6050192, 7)"
      ]
     },
     "execution_count": 129,
     "metadata": {},
     "output_type": "execute_result"
    }
   ],
   "source": [
    "df_final.shape"
   ]
  },
  {
   "cell_type": "code",
   "execution_count": 134,
   "metadata": {},
   "outputs": [
    {
     "name": "stderr",
     "output_type": "stream",
     "text": [
      "/home/ubuntu/anaconda3/lib/python3.7/site-packages/pandas/core/generic.py:6287: SettingWithCopyWarning: \n",
      "A value is trying to be set on a copy of a slice from a DataFrame\n",
      "\n",
      "See the caveats in the documentation: http://pandas.pydata.org/pandas-docs/stable/user_guide/indexing.html#returning-a-view-versus-a-copy\n",
      "  self._update_inplace(new_data)\n"
     ]
    }
   ],
   "source": [
    "df_final.Action.fillna(value=\"CLICK\", inplace=True)"
   ]
  },
  {
   "cell_type": "code",
   "execution_count": 136,
   "metadata": {},
   "outputs": [
    {
     "name": "stderr",
     "output_type": "stream",
     "text": [
      "/home/ubuntu/anaconda3/lib/python3.7/site-packages/pandas/core/generic.py:6287: SettingWithCopyWarning: \n",
      "A value is trying to be set on a copy of a slice from a DataFrame\n",
      "\n",
      "See the caveats in the documentation: http://pandas.pydata.org/pandas-docs/stable/user_guide/indexing.html#returning-a-view-versus-a-copy\n",
      "  self._update_inplace(new_data)\n"
     ]
    }
   ],
   "source": [
    "df_final.Quantity.fillna(value=0.0, inplace=True)"
   ]
  },
  {
   "cell_type": "code",
   "execution_count": 152,
   "metadata": {},
   "outputs": [
    {
     "name": "stderr",
     "output_type": "stream",
     "text": [
      "/home/ubuntu/anaconda3/lib/python3.7/site-packages/pandas/core/generic.py:6287: SettingWithCopyWarning: \n",
      "A value is trying to be set on a copy of a slice from a DataFrame\n",
      "\n",
      "See the caveats in the documentation: http://pandas.pydata.org/pandas-docs/stable/user_guide/indexing.html#returning-a-view-versus-a-copy\n",
      "  self._update_inplace(new_data)\n"
     ]
    }
   ],
   "source": [
    "df_final.Price.fillna(value=0.0, inplace=True)"
   ]
  },
  {
   "cell_type": "code",
   "execution_count": 137,
   "metadata": {},
   "outputs": [
    {
     "data": {
      "text/html": [
       "<div>\n",
       "<style scoped>\n",
       "    .dataframe tbody tr th:only-of-type {\n",
       "        vertical-align: middle;\n",
       "    }\n",
       "\n",
       "    .dataframe tbody tr th {\n",
       "        vertical-align: top;\n",
       "    }\n",
       "\n",
       "    .dataframe thead th {\n",
       "        text-align: right;\n",
       "    }\n",
       "</style>\n",
       "<table border=\"1\" class=\"dataframe\">\n",
       "  <thead>\n",
       "    <tr style=\"text-align: right;\">\n",
       "      <th></th>\n",
       "      <th>SessionId</th>\n",
       "      <th>TimeStr</th>\n",
       "      <th>ItemId</th>\n",
       "      <th>ItemType</th>\n",
       "      <th>Price</th>\n",
       "      <th>Quantity</th>\n",
       "      <th>Action</th>\n",
       "    </tr>\n",
       "  </thead>\n",
       "  <tbody>\n",
       "    <tr>\n",
       "      <td>24</td>\n",
       "      <td>11</td>\n",
       "      <td>2014-04-03T10:44:35.672Z</td>\n",
       "      <td>214821275</td>\n",
       "      <td>NONE</td>\n",
       "      <td>NaN</td>\n",
       "      <td>0.0</td>\n",
       "      <td>CLICK</td>\n",
       "    </tr>\n",
       "    <tr>\n",
       "      <td>25</td>\n",
       "      <td>11</td>\n",
       "      <td>2014-04-03T10:45:01.674Z</td>\n",
       "      <td>214821275</td>\n",
       "      <td>NONE</td>\n",
       "      <td>NaN</td>\n",
       "      <td>0.0</td>\n",
       "      <td>CLICK</td>\n",
       "    </tr>\n",
       "    <tr>\n",
       "      <td>26</td>\n",
       "      <td>11</td>\n",
       "      <td>2014-04-03T10:45:29.873Z</td>\n",
       "      <td>214821371</td>\n",
       "      <td>NONE</td>\n",
       "      <td>1046.0</td>\n",
       "      <td>1.0</td>\n",
       "      <td>BUY</td>\n",
       "    </tr>\n",
       "    <tr>\n",
       "      <td>28</td>\n",
       "      <td>11</td>\n",
       "      <td>2014-04-03T10:46:12.162Z</td>\n",
       "      <td>214821371</td>\n",
       "      <td>NONE</td>\n",
       "      <td>1046.0</td>\n",
       "      <td>1.0</td>\n",
       "      <td>BUY</td>\n",
       "    </tr>\n",
       "    <tr>\n",
       "      <td>30</td>\n",
       "      <td>11</td>\n",
       "      <td>2014-04-03T10:46:57.355Z</td>\n",
       "      <td>214821371</td>\n",
       "      <td>NONE</td>\n",
       "      <td>1046.0</td>\n",
       "      <td>1.0</td>\n",
       "      <td>BUY</td>\n",
       "    </tr>\n",
       "  </tbody>\n",
       "</table>\n",
       "</div>"
      ],
      "text/plain": [
       "    SessionId                   TimeStr     ItemId ItemType   Price  Quantity  \\\n",
       "24         11  2014-04-03T10:44:35.672Z  214821275     NONE     NaN       0.0   \n",
       "25         11  2014-04-03T10:45:01.674Z  214821275     NONE     NaN       0.0   \n",
       "26         11  2014-04-03T10:45:29.873Z  214821371     NONE  1046.0       1.0   \n",
       "28         11  2014-04-03T10:46:12.162Z  214821371     NONE  1046.0       1.0   \n",
       "30         11  2014-04-03T10:46:57.355Z  214821371     NONE  1046.0       1.0   \n",
       "\n",
       "   Action  \n",
       "24  CLICK  \n",
       "25  CLICK  \n",
       "26    BUY  \n",
       "28    BUY  \n",
       "30    BUY  "
      ]
     },
     "execution_count": 137,
     "metadata": {},
     "output_type": "execute_result"
    }
   ],
   "source": [
    "df_final.head()"
   ]
  },
  {
   "cell_type": "markdown",
   "metadata": {},
   "source": [
    "### Fixing time"
   ]
  },
  {
   "cell_type": "code",
   "execution_count": 138,
   "metadata": {},
   "outputs": [
    {
     "name": "stdout",
     "output_type": "stream",
     "text": [
      "CPU times: user 1min 36s, sys: 24 ms, total: 1min 36s\n",
      "Wall time: 1min 36s\n"
     ]
    },
    {
     "name": "stderr",
     "output_type": "stream",
     "text": [
      "/home/ubuntu/anaconda3/lib/python3.7/site-packages/ipykernel_launcher.py:1: SettingWithCopyWarning: \n",
      "A value is trying to be set on a copy of a slice from a DataFrame.\n",
      "Try using .loc[row_indexer,col_indexer] = value instead\n",
      "\n",
      "See the caveats in the documentation: http://pandas.pydata.org/pandas-docs/stable/user_guide/indexing.html#returning-a-view-versus-a-copy\n",
      "  \"\"\"Entry point for launching an IPython kernel.\n"
     ]
    }
   ],
   "source": [
    "%%time\n",
    "df_final['Time'] = df_final.TimeStr.apply(lambda x: dt.datetime.strptime(x, '%Y-%m-%dT%H:%M:%S.%fZ').timestamp()) #This is not UTC. It does not really matter."
   ]
  },
  {
   "cell_type": "code",
   "execution_count": 153,
   "metadata": {},
   "outputs": [
    {
     "data": {
      "text/html": [
       "<div>\n",
       "<style scoped>\n",
       "    .dataframe tbody tr th:only-of-type {\n",
       "        vertical-align: middle;\n",
       "    }\n",
       "\n",
       "    .dataframe tbody tr th {\n",
       "        vertical-align: top;\n",
       "    }\n",
       "\n",
       "    .dataframe thead th {\n",
       "        text-align: right;\n",
       "    }\n",
       "</style>\n",
       "<table border=\"1\" class=\"dataframe\">\n",
       "  <thead>\n",
       "    <tr style=\"text-align: right;\">\n",
       "      <th></th>\n",
       "      <th>SessionId</th>\n",
       "      <th>ItemId</th>\n",
       "      <th>ItemType</th>\n",
       "      <th>Price</th>\n",
       "      <th>Quantity</th>\n",
       "      <th>Action</th>\n",
       "      <th>Time</th>\n",
       "    </tr>\n",
       "  </thead>\n",
       "  <tbody>\n",
       "    <tr>\n",
       "      <td>24</td>\n",
       "      <td>11</td>\n",
       "      <td>214821275</td>\n",
       "      <td>NONE</td>\n",
       "      <td>0.0</td>\n",
       "      <td>0.0</td>\n",
       "      <td>CLICK</td>\n",
       "      <td>1.396522e+09</td>\n",
       "    </tr>\n",
       "    <tr>\n",
       "      <td>25</td>\n",
       "      <td>11</td>\n",
       "      <td>214821275</td>\n",
       "      <td>NONE</td>\n",
       "      <td>0.0</td>\n",
       "      <td>0.0</td>\n",
       "      <td>CLICK</td>\n",
       "      <td>1.396522e+09</td>\n",
       "    </tr>\n",
       "    <tr>\n",
       "      <td>26</td>\n",
       "      <td>11</td>\n",
       "      <td>214821371</td>\n",
       "      <td>NONE</td>\n",
       "      <td>1046.0</td>\n",
       "      <td>1.0</td>\n",
       "      <td>BUY</td>\n",
       "      <td>1.396522e+09</td>\n",
       "    </tr>\n",
       "    <tr>\n",
       "      <td>28</td>\n",
       "      <td>11</td>\n",
       "      <td>214821371</td>\n",
       "      <td>NONE</td>\n",
       "      <td>1046.0</td>\n",
       "      <td>1.0</td>\n",
       "      <td>BUY</td>\n",
       "      <td>1.396522e+09</td>\n",
       "    </tr>\n",
       "    <tr>\n",
       "      <td>30</td>\n",
       "      <td>11</td>\n",
       "      <td>214821371</td>\n",
       "      <td>NONE</td>\n",
       "      <td>1046.0</td>\n",
       "      <td>1.0</td>\n",
       "      <td>BUY</td>\n",
       "      <td>1.396522e+09</td>\n",
       "    </tr>\n",
       "  </tbody>\n",
       "</table>\n",
       "</div>"
      ],
      "text/plain": [
       "    SessionId     ItemId ItemType   Price  Quantity Action          Time\n",
       "24         11  214821275     NONE     0.0       0.0  CLICK  1.396522e+09\n",
       "25         11  214821275     NONE     0.0       0.0  CLICK  1.396522e+09\n",
       "26         11  214821371     NONE  1046.0       1.0    BUY  1.396522e+09\n",
       "28         11  214821371     NONE  1046.0       1.0    BUY  1.396522e+09\n",
       "30         11  214821371     NONE  1046.0       1.0    BUY  1.396522e+09"
      ]
     },
     "execution_count": 153,
     "metadata": {},
     "output_type": "execute_result"
    }
   ],
   "source": [
    "df_final.head()"
   ]
  },
  {
   "cell_type": "code",
   "execution_count": 150,
   "metadata": {},
   "outputs": [],
   "source": [
    "del(df_final[\"TimeStr\"])"
   ]
  },
  {
   "cell_type": "code",
   "execution_count": 155,
   "metadata": {},
   "outputs": [
    {
     "data": {
      "text/html": [
       "<div>\n",
       "<style scoped>\n",
       "    .dataframe tbody tr th:only-of-type {\n",
       "        vertical-align: middle;\n",
       "    }\n",
       "\n",
       "    .dataframe tbody tr th {\n",
       "        vertical-align: top;\n",
       "    }\n",
       "\n",
       "    .dataframe thead th {\n",
       "        text-align: right;\n",
       "    }\n",
       "</style>\n",
       "<table border=\"1\" class=\"dataframe\">\n",
       "  <thead>\n",
       "    <tr style=\"text-align: right;\">\n",
       "      <th></th>\n",
       "      <th>SessionId</th>\n",
       "      <th>ItemId</th>\n",
       "      <th>ItemType</th>\n",
       "      <th>Price</th>\n",
       "      <th>Quantity</th>\n",
       "      <th>Action</th>\n",
       "      <th>Time</th>\n",
       "    </tr>\n",
       "  </thead>\n",
       "  <tbody>\n",
       "    <tr>\n",
       "      <td>24</td>\n",
       "      <td>11</td>\n",
       "      <td>214821275</td>\n",
       "      <td>NONE</td>\n",
       "      <td>0.0</td>\n",
       "      <td>0.0</td>\n",
       "      <td>CLICK</td>\n",
       "      <td>1.396522e+09</td>\n",
       "    </tr>\n",
       "    <tr>\n",
       "      <td>25</td>\n",
       "      <td>11</td>\n",
       "      <td>214821275</td>\n",
       "      <td>NONE</td>\n",
       "      <td>0.0</td>\n",
       "      <td>0.0</td>\n",
       "      <td>CLICK</td>\n",
       "      <td>1.396522e+09</td>\n",
       "    </tr>\n",
       "    <tr>\n",
       "      <td>26</td>\n",
       "      <td>11</td>\n",
       "      <td>214821371</td>\n",
       "      <td>NONE</td>\n",
       "      <td>1046.0</td>\n",
       "      <td>1.0</td>\n",
       "      <td>BUY</td>\n",
       "      <td>1.396522e+09</td>\n",
       "    </tr>\n",
       "    <tr>\n",
       "      <td>28</td>\n",
       "      <td>11</td>\n",
       "      <td>214821371</td>\n",
       "      <td>NONE</td>\n",
       "      <td>1046.0</td>\n",
       "      <td>1.0</td>\n",
       "      <td>BUY</td>\n",
       "      <td>1.396522e+09</td>\n",
       "    </tr>\n",
       "    <tr>\n",
       "      <td>30</td>\n",
       "      <td>11</td>\n",
       "      <td>214821371</td>\n",
       "      <td>NONE</td>\n",
       "      <td>1046.0</td>\n",
       "      <td>1.0</td>\n",
       "      <td>BUY</td>\n",
       "      <td>1.396522e+09</td>\n",
       "    </tr>\n",
       "    <tr>\n",
       "      <td>32</td>\n",
       "      <td>11</td>\n",
       "      <td>214717089</td>\n",
       "      <td>NONE</td>\n",
       "      <td>0.0</td>\n",
       "      <td>0.0</td>\n",
       "      <td>CLICK</td>\n",
       "      <td>1.396522e+09</td>\n",
       "    </tr>\n",
       "    <tr>\n",
       "      <td>33</td>\n",
       "      <td>11</td>\n",
       "      <td>214563337</td>\n",
       "      <td>NONE</td>\n",
       "      <td>0.0</td>\n",
       "      <td>0.0</td>\n",
       "      <td>CLICK</td>\n",
       "      <td>1.396522e+09</td>\n",
       "    </tr>\n",
       "    <tr>\n",
       "      <td>34</td>\n",
       "      <td>11</td>\n",
       "      <td>214706462</td>\n",
       "      <td>NONE</td>\n",
       "      <td>0.0</td>\n",
       "      <td>0.0</td>\n",
       "      <td>CLICK</td>\n",
       "      <td>1.396523e+09</td>\n",
       "    </tr>\n",
       "    <tr>\n",
       "      <td>35</td>\n",
       "      <td>11</td>\n",
       "      <td>214717436</td>\n",
       "      <td>NONE</td>\n",
       "      <td>0.0</td>\n",
       "      <td>0.0</td>\n",
       "      <td>CLICK</td>\n",
       "      <td>1.396523e+09</td>\n",
       "    </tr>\n",
       "    <tr>\n",
       "      <td>36</td>\n",
       "      <td>11</td>\n",
       "      <td>214743335</td>\n",
       "      <td>NONE</td>\n",
       "      <td>0.0</td>\n",
       "      <td>0.0</td>\n",
       "      <td>CLICK</td>\n",
       "      <td>1.396523e+09</td>\n",
       "    </tr>\n",
       "    <tr>\n",
       "      <td>37</td>\n",
       "      <td>11</td>\n",
       "      <td>214826837</td>\n",
       "      <td>NONE</td>\n",
       "      <td>0.0</td>\n",
       "      <td>0.0</td>\n",
       "      <td>CLICK</td>\n",
       "      <td>1.396523e+09</td>\n",
       "    </tr>\n",
       "    <tr>\n",
       "      <td>38</td>\n",
       "      <td>11</td>\n",
       "      <td>214819762</td>\n",
       "      <td>NONE</td>\n",
       "      <td>0.0</td>\n",
       "      <td>0.0</td>\n",
       "      <td>CLICK</td>\n",
       "      <td>1.396523e+09</td>\n",
       "    </tr>\n",
       "    <tr>\n",
       "      <td>68</td>\n",
       "      <td>22</td>\n",
       "      <td>214837485</td>\n",
       "      <td>NONE</td>\n",
       "      <td>0.0</td>\n",
       "      <td>0.0</td>\n",
       "      <td>CLICK</td>\n",
       "      <td>1.396748e+09</td>\n",
       "    </tr>\n",
       "    <tr>\n",
       "      <td>69</td>\n",
       "      <td>22</td>\n",
       "      <td>214837485</td>\n",
       "      <td>NONE</td>\n",
       "      <td>0.0</td>\n",
       "      <td>0.0</td>\n",
       "      <td>CLICK</td>\n",
       "      <td>1.396748e+09</td>\n",
       "    </tr>\n",
       "    <tr>\n",
       "      <td>70</td>\n",
       "      <td>22</td>\n",
       "      <td>214837485</td>\n",
       "      <td>NONE</td>\n",
       "      <td>0.0</td>\n",
       "      <td>0.0</td>\n",
       "      <td>CLICK</td>\n",
       "      <td>1.396748e+09</td>\n",
       "    </tr>\n",
       "  </tbody>\n",
       "</table>\n",
       "</div>"
      ],
      "text/plain": [
       "    SessionId     ItemId ItemType   Price  Quantity Action          Time\n",
       "24         11  214821275     NONE     0.0       0.0  CLICK  1.396522e+09\n",
       "25         11  214821275     NONE     0.0       0.0  CLICK  1.396522e+09\n",
       "26         11  214821371     NONE  1046.0       1.0    BUY  1.396522e+09\n",
       "28         11  214821371     NONE  1046.0       1.0    BUY  1.396522e+09\n",
       "30         11  214821371     NONE  1046.0       1.0    BUY  1.396522e+09\n",
       "32         11  214717089     NONE     0.0       0.0  CLICK  1.396522e+09\n",
       "33         11  214563337     NONE     0.0       0.0  CLICK  1.396522e+09\n",
       "34         11  214706462     NONE     0.0       0.0  CLICK  1.396523e+09\n",
       "35         11  214717436     NONE     0.0       0.0  CLICK  1.396523e+09\n",
       "36         11  214743335     NONE     0.0       0.0  CLICK  1.396523e+09\n",
       "37         11  214826837     NONE     0.0       0.0  CLICK  1.396523e+09\n",
       "38         11  214819762     NONE     0.0       0.0  CLICK  1.396523e+09\n",
       "68         22  214837485     NONE     0.0       0.0  CLICK  1.396748e+09\n",
       "69         22  214837485     NONE     0.0       0.0  CLICK  1.396748e+09\n",
       "70         22  214837485     NONE     0.0       0.0  CLICK  1.396748e+09"
      ]
     },
     "execution_count": 155,
     "metadata": {},
     "output_type": "execute_result"
    }
   ],
   "source": [
    "df_final.head(15)"
   ]
  },
  {
   "cell_type": "code",
   "execution_count": 156,
   "metadata": {},
   "outputs": [
    {
     "data": {
      "text/plain": [
       "array(['NONE', 'PROMOTION', 'CATEGORY', 'BRAND'], dtype=object)"
      ]
     },
     "execution_count": 156,
     "metadata": {},
     "output_type": "execute_result"
    }
   ],
   "source": [
    "df_final.ItemType.unique()"
   ]
  },
  {
   "cell_type": "markdown",
   "metadata": {},
   "source": [
    "### Train and Validation Dataset"
   ]
  },
  {
   "cell_type": "code",
   "execution_count": 166,
   "metadata": {},
   "outputs": [],
   "source": [
    "session_lengths_final = df_final.groupby([\"SessionId\"]).size()"
   ]
  },
  {
   "cell_type": "code",
   "execution_count": 167,
   "metadata": {},
   "outputs": [],
   "source": [
    "session_lengths_final = session_lengths_final.reset_index()"
   ]
  },
  {
   "cell_type": "code",
   "execution_count": 169,
   "metadata": {},
   "outputs": [],
   "source": [
    "session_lengths_final.columns = [\"SessionId\", \"NumRows\"]"
   ]
  },
  {
   "cell_type": "code",
   "execution_count": 174,
   "metadata": {},
   "outputs": [],
   "source": [
    "session_lengths_final[\"length_70p\"] =(session_lengths_final.NumRows*0.7).astype(np.int)"
   ]
  },
  {
   "cell_type": "code",
   "execution_count": 175,
   "metadata": {},
   "outputs": [
    {
     "data": {
      "text/html": [
       "<div>\n",
       "<style scoped>\n",
       "    .dataframe tbody tr th:only-of-type {\n",
       "        vertical-align: middle;\n",
       "    }\n",
       "\n",
       "    .dataframe tbody tr th {\n",
       "        vertical-align: top;\n",
       "    }\n",
       "\n",
       "    .dataframe thead th {\n",
       "        text-align: right;\n",
       "    }\n",
       "</style>\n",
       "<table border=\"1\" class=\"dataframe\">\n",
       "  <thead>\n",
       "    <tr style=\"text-align: right;\">\n",
       "      <th></th>\n",
       "      <th>SessionId</th>\n",
       "      <th>NumRows</th>\n",
       "      <th>length_70p</th>\n",
       "    </tr>\n",
       "  </thead>\n",
       "  <tbody>\n",
       "    <tr>\n",
       "      <td>0</td>\n",
       "      <td>11</td>\n",
       "      <td>12</td>\n",
       "      <td>8</td>\n",
       "    </tr>\n",
       "    <tr>\n",
       "      <td>1</td>\n",
       "      <td>22</td>\n",
       "      <td>16</td>\n",
       "      <td>11</td>\n",
       "    </tr>\n",
       "    <tr>\n",
       "      <td>2</td>\n",
       "      <td>33</td>\n",
       "      <td>16</td>\n",
       "      <td>11</td>\n",
       "    </tr>\n",
       "    <tr>\n",
       "      <td>3</td>\n",
       "      <td>46</td>\n",
       "      <td>12</td>\n",
       "      <td>8</td>\n",
       "    </tr>\n",
       "    <tr>\n",
       "      <td>4</td>\n",
       "      <td>87</td>\n",
       "      <td>27</td>\n",
       "      <td>18</td>\n",
       "    </tr>\n",
       "  </tbody>\n",
       "</table>\n",
       "</div>"
      ],
      "text/plain": [
       "   SessionId  NumRows  length_70p\n",
       "0         11       12           8\n",
       "1         22       16          11\n",
       "2         33       16          11\n",
       "3         46       12           8\n",
       "4         87       27          18"
      ]
     },
     "execution_count": 175,
     "metadata": {},
     "output_type": "execute_result"
    }
   ],
   "source": [
    "session_lengths_final.head()"
   ]
  },
  {
   "cell_type": "code",
   "execution_count": 184,
   "metadata": {},
   "outputs": [
    {
     "name": "stdout",
     "output_type": "stream",
     "text": [
      "CPU times: user 628 ms, sys: 288 ms, total: 916 ms\n",
      "Wall time: 914 ms\n"
     ]
    },
    {
     "name": "stderr",
     "output_type": "stream",
     "text": [
      "/home/ubuntu/anaconda3/lib/python3.7/site-packages/ipykernel_launcher.py:1: SettingWithCopyWarning: \n",
      "A value is trying to be set on a copy of a slice from a DataFrame.\n",
      "Try using .loc[row_indexer,col_indexer] = value instead\n",
      "\n",
      "See the caveats in the documentation: http://pandas.pydata.org/pandas-docs/stable/user_guide/indexing.html#returning-a-view-versus-a-copy\n",
      "  \"\"\"Entry point for launching an IPython kernel.\n"
     ]
    }
   ],
   "source": [
    "%%time\n",
    "df_final[\"RunningCount\"] = df_final.groupby([\"SessionId\"]).cumcount()+1"
   ]
  },
  {
   "cell_type": "code",
   "execution_count": 189,
   "metadata": {},
   "outputs": [
    {
     "data": {
      "text/html": [
       "<div>\n",
       "<style scoped>\n",
       "    .dataframe tbody tr th:only-of-type {\n",
       "        vertical-align: middle;\n",
       "    }\n",
       "\n",
       "    .dataframe tbody tr th {\n",
       "        vertical-align: top;\n",
       "    }\n",
       "\n",
       "    .dataframe thead th {\n",
       "        text-align: right;\n",
       "    }\n",
       "</style>\n",
       "<table border=\"1\" class=\"dataframe\">\n",
       "  <thead>\n",
       "    <tr style=\"text-align: right;\">\n",
       "      <th></th>\n",
       "      <th>SessionId</th>\n",
       "      <th>ItemId</th>\n",
       "      <th>ItemType</th>\n",
       "      <th>Price</th>\n",
       "      <th>Quantity</th>\n",
       "      <th>Action</th>\n",
       "      <th>Time</th>\n",
       "      <th>RunningCount</th>\n",
       "    </tr>\n",
       "  </thead>\n",
       "  <tbody>\n",
       "    <tr>\n",
       "      <td>24</td>\n",
       "      <td>11</td>\n",
       "      <td>214821275</td>\n",
       "      <td>NONE</td>\n",
       "      <td>0.0</td>\n",
       "      <td>0.0</td>\n",
       "      <td>CLICK</td>\n",
       "      <td>1.396522e+09</td>\n",
       "      <td>1</td>\n",
       "    </tr>\n",
       "    <tr>\n",
       "      <td>25</td>\n",
       "      <td>11</td>\n",
       "      <td>214821275</td>\n",
       "      <td>NONE</td>\n",
       "      <td>0.0</td>\n",
       "      <td>0.0</td>\n",
       "      <td>CLICK</td>\n",
       "      <td>1.396522e+09</td>\n",
       "      <td>2</td>\n",
       "    </tr>\n",
       "    <tr>\n",
       "      <td>26</td>\n",
       "      <td>11</td>\n",
       "      <td>214821371</td>\n",
       "      <td>NONE</td>\n",
       "      <td>1046.0</td>\n",
       "      <td>1.0</td>\n",
       "      <td>BUY</td>\n",
       "      <td>1.396522e+09</td>\n",
       "      <td>3</td>\n",
       "    </tr>\n",
       "    <tr>\n",
       "      <td>28</td>\n",
       "      <td>11</td>\n",
       "      <td>214821371</td>\n",
       "      <td>NONE</td>\n",
       "      <td>1046.0</td>\n",
       "      <td>1.0</td>\n",
       "      <td>BUY</td>\n",
       "      <td>1.396522e+09</td>\n",
       "      <td>4</td>\n",
       "    </tr>\n",
       "    <tr>\n",
       "      <td>30</td>\n",
       "      <td>11</td>\n",
       "      <td>214821371</td>\n",
       "      <td>NONE</td>\n",
       "      <td>1046.0</td>\n",
       "      <td>1.0</td>\n",
       "      <td>BUY</td>\n",
       "      <td>1.396522e+09</td>\n",
       "      <td>5</td>\n",
       "    </tr>\n",
       "  </tbody>\n",
       "</table>\n",
       "</div>"
      ],
      "text/plain": [
       "    SessionId     ItemId ItemType   Price  Quantity Action          Time  \\\n",
       "24         11  214821275     NONE     0.0       0.0  CLICK  1.396522e+09   \n",
       "25         11  214821275     NONE     0.0       0.0  CLICK  1.396522e+09   \n",
       "26         11  214821371     NONE  1046.0       1.0    BUY  1.396522e+09   \n",
       "28         11  214821371     NONE  1046.0       1.0    BUY  1.396522e+09   \n",
       "30         11  214821371     NONE  1046.0       1.0    BUY  1.396522e+09   \n",
       "\n",
       "    RunningCount  \n",
       "24             1  \n",
       "25             2  \n",
       "26             3  \n",
       "28             4  \n",
       "30             5  "
      ]
     },
     "execution_count": 189,
     "metadata": {},
     "output_type": "execute_result"
    }
   ],
   "source": [
    "df_final.head()"
   ]
  },
  {
   "cell_type": "code",
   "execution_count": 190,
   "metadata": {},
   "outputs": [],
   "source": [
    "df_final_updated = pd.merge(left=df_final, right=session_lengths_final, on=\"SessionId\", how=\"left\")"
   ]
  },
  {
   "cell_type": "code",
   "execution_count": 191,
   "metadata": {},
   "outputs": [
    {
     "data": {
      "text/plain": [
       "((6050192, 8), (6050192, 10))"
      ]
     },
     "execution_count": 191,
     "metadata": {},
     "output_type": "execute_result"
    }
   ],
   "source": [
    "df_final.shape, df_final_updated.shape"
   ]
  },
  {
   "cell_type": "code",
   "execution_count": 194,
   "metadata": {},
   "outputs": [
    {
     "data": {
      "text/html": [
       "<div>\n",
       "<style scoped>\n",
       "    .dataframe tbody tr th:only-of-type {\n",
       "        vertical-align: middle;\n",
       "    }\n",
       "\n",
       "    .dataframe tbody tr th {\n",
       "        vertical-align: top;\n",
       "    }\n",
       "\n",
       "    .dataframe thead th {\n",
       "        text-align: right;\n",
       "    }\n",
       "</style>\n",
       "<table border=\"1\" class=\"dataframe\">\n",
       "  <thead>\n",
       "    <tr style=\"text-align: right;\">\n",
       "      <th></th>\n",
       "      <th>SessionId</th>\n",
       "      <th>ItemId</th>\n",
       "      <th>ItemType</th>\n",
       "      <th>Price</th>\n",
       "      <th>Quantity</th>\n",
       "      <th>Action</th>\n",
       "      <th>Time</th>\n",
       "      <th>RunningCount</th>\n",
       "      <th>NumRows</th>\n",
       "      <th>length_70p</th>\n",
       "    </tr>\n",
       "  </thead>\n",
       "  <tbody>\n",
       "    <tr>\n",
       "      <td>0</td>\n",
       "      <td>11</td>\n",
       "      <td>214821275</td>\n",
       "      <td>NONE</td>\n",
       "      <td>0.0</td>\n",
       "      <td>0.0</td>\n",
       "      <td>CLICK</td>\n",
       "      <td>1.396522e+09</td>\n",
       "      <td>1</td>\n",
       "      <td>12</td>\n",
       "      <td>8</td>\n",
       "    </tr>\n",
       "    <tr>\n",
       "      <td>1</td>\n",
       "      <td>11</td>\n",
       "      <td>214821275</td>\n",
       "      <td>NONE</td>\n",
       "      <td>0.0</td>\n",
       "      <td>0.0</td>\n",
       "      <td>CLICK</td>\n",
       "      <td>1.396522e+09</td>\n",
       "      <td>2</td>\n",
       "      <td>12</td>\n",
       "      <td>8</td>\n",
       "    </tr>\n",
       "    <tr>\n",
       "      <td>2</td>\n",
       "      <td>11</td>\n",
       "      <td>214821371</td>\n",
       "      <td>NONE</td>\n",
       "      <td>1046.0</td>\n",
       "      <td>1.0</td>\n",
       "      <td>BUY</td>\n",
       "      <td>1.396522e+09</td>\n",
       "      <td>3</td>\n",
       "      <td>12</td>\n",
       "      <td>8</td>\n",
       "    </tr>\n",
       "    <tr>\n",
       "      <td>3</td>\n",
       "      <td>11</td>\n",
       "      <td>214821371</td>\n",
       "      <td>NONE</td>\n",
       "      <td>1046.0</td>\n",
       "      <td>1.0</td>\n",
       "      <td>BUY</td>\n",
       "      <td>1.396522e+09</td>\n",
       "      <td>4</td>\n",
       "      <td>12</td>\n",
       "      <td>8</td>\n",
       "    </tr>\n",
       "    <tr>\n",
       "      <td>4</td>\n",
       "      <td>11</td>\n",
       "      <td>214821371</td>\n",
       "      <td>NONE</td>\n",
       "      <td>1046.0</td>\n",
       "      <td>1.0</td>\n",
       "      <td>BUY</td>\n",
       "      <td>1.396522e+09</td>\n",
       "      <td>5</td>\n",
       "      <td>12</td>\n",
       "      <td>8</td>\n",
       "    </tr>\n",
       "    <tr>\n",
       "      <td>5</td>\n",
       "      <td>11</td>\n",
       "      <td>214717089</td>\n",
       "      <td>NONE</td>\n",
       "      <td>0.0</td>\n",
       "      <td>0.0</td>\n",
       "      <td>CLICK</td>\n",
       "      <td>1.396522e+09</td>\n",
       "      <td>6</td>\n",
       "      <td>12</td>\n",
       "      <td>8</td>\n",
       "    </tr>\n",
       "    <tr>\n",
       "      <td>6</td>\n",
       "      <td>11</td>\n",
       "      <td>214563337</td>\n",
       "      <td>NONE</td>\n",
       "      <td>0.0</td>\n",
       "      <td>0.0</td>\n",
       "      <td>CLICK</td>\n",
       "      <td>1.396522e+09</td>\n",
       "      <td>7</td>\n",
       "      <td>12</td>\n",
       "      <td>8</td>\n",
       "    </tr>\n",
       "    <tr>\n",
       "      <td>7</td>\n",
       "      <td>11</td>\n",
       "      <td>214706462</td>\n",
       "      <td>NONE</td>\n",
       "      <td>0.0</td>\n",
       "      <td>0.0</td>\n",
       "      <td>CLICK</td>\n",
       "      <td>1.396523e+09</td>\n",
       "      <td>8</td>\n",
       "      <td>12</td>\n",
       "      <td>8</td>\n",
       "    </tr>\n",
       "    <tr>\n",
       "      <td>8</td>\n",
       "      <td>11</td>\n",
       "      <td>214717436</td>\n",
       "      <td>NONE</td>\n",
       "      <td>0.0</td>\n",
       "      <td>0.0</td>\n",
       "      <td>CLICK</td>\n",
       "      <td>1.396523e+09</td>\n",
       "      <td>9</td>\n",
       "      <td>12</td>\n",
       "      <td>8</td>\n",
       "    </tr>\n",
       "    <tr>\n",
       "      <td>9</td>\n",
       "      <td>11</td>\n",
       "      <td>214743335</td>\n",
       "      <td>NONE</td>\n",
       "      <td>0.0</td>\n",
       "      <td>0.0</td>\n",
       "      <td>CLICK</td>\n",
       "      <td>1.396523e+09</td>\n",
       "      <td>10</td>\n",
       "      <td>12</td>\n",
       "      <td>8</td>\n",
       "    </tr>\n",
       "    <tr>\n",
       "      <td>10</td>\n",
       "      <td>11</td>\n",
       "      <td>214826837</td>\n",
       "      <td>NONE</td>\n",
       "      <td>0.0</td>\n",
       "      <td>0.0</td>\n",
       "      <td>CLICK</td>\n",
       "      <td>1.396523e+09</td>\n",
       "      <td>11</td>\n",
       "      <td>12</td>\n",
       "      <td>8</td>\n",
       "    </tr>\n",
       "    <tr>\n",
       "      <td>11</td>\n",
       "      <td>11</td>\n",
       "      <td>214819762</td>\n",
       "      <td>NONE</td>\n",
       "      <td>0.0</td>\n",
       "      <td>0.0</td>\n",
       "      <td>CLICK</td>\n",
       "      <td>1.396523e+09</td>\n",
       "      <td>12</td>\n",
       "      <td>12</td>\n",
       "      <td>8</td>\n",
       "    </tr>\n",
       "    <tr>\n",
       "      <td>12</td>\n",
       "      <td>22</td>\n",
       "      <td>214837485</td>\n",
       "      <td>NONE</td>\n",
       "      <td>0.0</td>\n",
       "      <td>0.0</td>\n",
       "      <td>CLICK</td>\n",
       "      <td>1.396748e+09</td>\n",
       "      <td>1</td>\n",
       "      <td>16</td>\n",
       "      <td>11</td>\n",
       "    </tr>\n",
       "    <tr>\n",
       "      <td>13</td>\n",
       "      <td>22</td>\n",
       "      <td>214837485</td>\n",
       "      <td>NONE</td>\n",
       "      <td>0.0</td>\n",
       "      <td>0.0</td>\n",
       "      <td>CLICK</td>\n",
       "      <td>1.396748e+09</td>\n",
       "      <td>2</td>\n",
       "      <td>16</td>\n",
       "      <td>11</td>\n",
       "    </tr>\n",
       "    <tr>\n",
       "      <td>14</td>\n",
       "      <td>22</td>\n",
       "      <td>214837485</td>\n",
       "      <td>NONE</td>\n",
       "      <td>0.0</td>\n",
       "      <td>0.0</td>\n",
       "      <td>CLICK</td>\n",
       "      <td>1.396748e+09</td>\n",
       "      <td>3</td>\n",
       "      <td>16</td>\n",
       "      <td>11</td>\n",
       "    </tr>\n",
       "    <tr>\n",
       "      <td>15</td>\n",
       "      <td>22</td>\n",
       "      <td>214837487</td>\n",
       "      <td>NONE</td>\n",
       "      <td>0.0</td>\n",
       "      <td>0.0</td>\n",
       "      <td>CLICK</td>\n",
       "      <td>1.396748e+09</td>\n",
       "      <td>4</td>\n",
       "      <td>16</td>\n",
       "      <td>11</td>\n",
       "    </tr>\n",
       "    <tr>\n",
       "      <td>16</td>\n",
       "      <td>22</td>\n",
       "      <td>214837487</td>\n",
       "      <td>NONE</td>\n",
       "      <td>0.0</td>\n",
       "      <td>0.0</td>\n",
       "      <td>CLICK</td>\n",
       "      <td>1.396748e+09</td>\n",
       "      <td>5</td>\n",
       "      <td>16</td>\n",
       "      <td>11</td>\n",
       "    </tr>\n",
       "    <tr>\n",
       "      <td>17</td>\n",
       "      <td>22</td>\n",
       "      <td>214821315</td>\n",
       "      <td>NONE</td>\n",
       "      <td>0.0</td>\n",
       "      <td>0.0</td>\n",
       "      <td>CLICK</td>\n",
       "      <td>1.396748e+09</td>\n",
       "      <td>6</td>\n",
       "      <td>16</td>\n",
       "      <td>11</td>\n",
       "    </tr>\n",
       "    <tr>\n",
       "      <td>18</td>\n",
       "      <td>22</td>\n",
       "      <td>214586711</td>\n",
       "      <td>NONE</td>\n",
       "      <td>0.0</td>\n",
       "      <td>0.0</td>\n",
       "      <td>CLICK</td>\n",
       "      <td>1.396748e+09</td>\n",
       "      <td>7</td>\n",
       "      <td>16</td>\n",
       "      <td>11</td>\n",
       "    </tr>\n",
       "    <tr>\n",
       "      <td>19</td>\n",
       "      <td>22</td>\n",
       "      <td>214821305</td>\n",
       "      <td>NONE</td>\n",
       "      <td>0.0</td>\n",
       "      <td>0.0</td>\n",
       "      <td>CLICK</td>\n",
       "      <td>1.396748e+09</td>\n",
       "      <td>8</td>\n",
       "      <td>16</td>\n",
       "      <td>11</td>\n",
       "    </tr>\n",
       "  </tbody>\n",
       "</table>\n",
       "</div>"
      ],
      "text/plain": [
       "    SessionId     ItemId ItemType   Price  Quantity Action          Time  \\\n",
       "0          11  214821275     NONE     0.0       0.0  CLICK  1.396522e+09   \n",
       "1          11  214821275     NONE     0.0       0.0  CLICK  1.396522e+09   \n",
       "2          11  214821371     NONE  1046.0       1.0    BUY  1.396522e+09   \n",
       "3          11  214821371     NONE  1046.0       1.0    BUY  1.396522e+09   \n",
       "4          11  214821371     NONE  1046.0       1.0    BUY  1.396522e+09   \n",
       "5          11  214717089     NONE     0.0       0.0  CLICK  1.396522e+09   \n",
       "6          11  214563337     NONE     0.0       0.0  CLICK  1.396522e+09   \n",
       "7          11  214706462     NONE     0.0       0.0  CLICK  1.396523e+09   \n",
       "8          11  214717436     NONE     0.0       0.0  CLICK  1.396523e+09   \n",
       "9          11  214743335     NONE     0.0       0.0  CLICK  1.396523e+09   \n",
       "10         11  214826837     NONE     0.0       0.0  CLICK  1.396523e+09   \n",
       "11         11  214819762     NONE     0.0       0.0  CLICK  1.396523e+09   \n",
       "12         22  214837485     NONE     0.0       0.0  CLICK  1.396748e+09   \n",
       "13         22  214837485     NONE     0.0       0.0  CLICK  1.396748e+09   \n",
       "14         22  214837485     NONE     0.0       0.0  CLICK  1.396748e+09   \n",
       "15         22  214837487     NONE     0.0       0.0  CLICK  1.396748e+09   \n",
       "16         22  214837487     NONE     0.0       0.0  CLICK  1.396748e+09   \n",
       "17         22  214821315     NONE     0.0       0.0  CLICK  1.396748e+09   \n",
       "18         22  214586711     NONE     0.0       0.0  CLICK  1.396748e+09   \n",
       "19         22  214821305     NONE     0.0       0.0  CLICK  1.396748e+09   \n",
       "\n",
       "    RunningCount  NumRows  length_70p  \n",
       "0              1       12           8  \n",
       "1              2       12           8  \n",
       "2              3       12           8  \n",
       "3              4       12           8  \n",
       "4              5       12           8  \n",
       "5              6       12           8  \n",
       "6              7       12           8  \n",
       "7              8       12           8  \n",
       "8              9       12           8  \n",
       "9             10       12           8  \n",
       "10            11       12           8  \n",
       "11            12       12           8  \n",
       "12             1       16          11  \n",
       "13             2       16          11  \n",
       "14             3       16          11  \n",
       "15             4       16          11  \n",
       "16             5       16          11  \n",
       "17             6       16          11  \n",
       "18             7       16          11  \n",
       "19             8       16          11  "
      ]
     },
     "execution_count": 194,
     "metadata": {},
     "output_type": "execute_result"
    }
   ],
   "source": [
    "df_final_updated.head(20)"
   ]
  },
  {
   "cell_type": "code",
   "execution_count": 197,
   "metadata": {},
   "outputs": [],
   "source": [
    "df_train = df_final_updated[df_final_updated.RunningCount <= df_final_updated.length_70p].copy()\n",
    "df_test = df_final_updated[df_final_updated.RunningCount > df_final_updated.length_70p].copy()"
   ]
  },
  {
   "cell_type": "code",
   "execution_count": 200,
   "metadata": {},
   "outputs": [
    {
     "data": {
      "text/plain": [
       "((4062820, 10), (1987372, 10))"
      ]
     },
     "execution_count": 200,
     "metadata": {},
     "output_type": "execute_result"
    }
   ],
   "source": [
    "df_train.shape, df_test.shape"
   ]
  },
  {
   "cell_type": "code",
   "execution_count": 205,
   "metadata": {},
   "outputs": [],
   "source": [
    "df_train.drop([\"RunningCount\", \"NumRows\", \"length_70p\"], inplace=True, axis=1)\n",
    "df_test.drop([\"RunningCount\", \"NumRows\", \"length_70p\"], inplace=True, axis=1)"
   ]
  },
  {
   "cell_type": "code",
   "execution_count": 206,
   "metadata": {},
   "outputs": [
    {
     "data": {
      "text/html": [
       "<div>\n",
       "<style scoped>\n",
       "    .dataframe tbody tr th:only-of-type {\n",
       "        vertical-align: middle;\n",
       "    }\n",
       "\n",
       "    .dataframe tbody tr th {\n",
       "        vertical-align: top;\n",
       "    }\n",
       "\n",
       "    .dataframe thead th {\n",
       "        text-align: right;\n",
       "    }\n",
       "</style>\n",
       "<table border=\"1\" class=\"dataframe\">\n",
       "  <thead>\n",
       "    <tr style=\"text-align: right;\">\n",
       "      <th></th>\n",
       "      <th>SessionId</th>\n",
       "      <th>ItemId</th>\n",
       "      <th>ItemType</th>\n",
       "      <th>Price</th>\n",
       "      <th>Quantity</th>\n",
       "      <th>Action</th>\n",
       "      <th>Time</th>\n",
       "    </tr>\n",
       "  </thead>\n",
       "  <tbody>\n",
       "    <tr>\n",
       "      <td>0</td>\n",
       "      <td>11</td>\n",
       "      <td>214821275</td>\n",
       "      <td>NONE</td>\n",
       "      <td>0.0</td>\n",
       "      <td>0.0</td>\n",
       "      <td>CLICK</td>\n",
       "      <td>1.396522e+09</td>\n",
       "    </tr>\n",
       "    <tr>\n",
       "      <td>1</td>\n",
       "      <td>11</td>\n",
       "      <td>214821275</td>\n",
       "      <td>NONE</td>\n",
       "      <td>0.0</td>\n",
       "      <td>0.0</td>\n",
       "      <td>CLICK</td>\n",
       "      <td>1.396522e+09</td>\n",
       "    </tr>\n",
       "    <tr>\n",
       "      <td>2</td>\n",
       "      <td>11</td>\n",
       "      <td>214821371</td>\n",
       "      <td>NONE</td>\n",
       "      <td>1046.0</td>\n",
       "      <td>1.0</td>\n",
       "      <td>BUY</td>\n",
       "      <td>1.396522e+09</td>\n",
       "    </tr>\n",
       "    <tr>\n",
       "      <td>3</td>\n",
       "      <td>11</td>\n",
       "      <td>214821371</td>\n",
       "      <td>NONE</td>\n",
       "      <td>1046.0</td>\n",
       "      <td>1.0</td>\n",
       "      <td>BUY</td>\n",
       "      <td>1.396522e+09</td>\n",
       "    </tr>\n",
       "    <tr>\n",
       "      <td>4</td>\n",
       "      <td>11</td>\n",
       "      <td>214821371</td>\n",
       "      <td>NONE</td>\n",
       "      <td>1046.0</td>\n",
       "      <td>1.0</td>\n",
       "      <td>BUY</td>\n",
       "      <td>1.396522e+09</td>\n",
       "    </tr>\n",
       "  </tbody>\n",
       "</table>\n",
       "</div>"
      ],
      "text/plain": [
       "   SessionId     ItemId ItemType   Price  Quantity Action          Time\n",
       "0         11  214821275     NONE     0.0       0.0  CLICK  1.396522e+09\n",
       "1         11  214821275     NONE     0.0       0.0  CLICK  1.396522e+09\n",
       "2         11  214821371     NONE  1046.0       1.0    BUY  1.396522e+09\n",
       "3         11  214821371     NONE  1046.0       1.0    BUY  1.396522e+09\n",
       "4         11  214821371     NONE  1046.0       1.0    BUY  1.396522e+09"
      ]
     },
     "execution_count": 206,
     "metadata": {},
     "output_type": "execute_result"
    }
   ],
   "source": [
    "df_train.head()"
   ]
  },
  {
   "cell_type": "code",
   "execution_count": 207,
   "metadata": {},
   "outputs": [
    {
     "data": {
      "text/html": [
       "<div>\n",
       "<style scoped>\n",
       "    .dataframe tbody tr th:only-of-type {\n",
       "        vertical-align: middle;\n",
       "    }\n",
       "\n",
       "    .dataframe tbody tr th {\n",
       "        vertical-align: top;\n",
       "    }\n",
       "\n",
       "    .dataframe thead th {\n",
       "        text-align: right;\n",
       "    }\n",
       "</style>\n",
       "<table border=\"1\" class=\"dataframe\">\n",
       "  <thead>\n",
       "    <tr style=\"text-align: right;\">\n",
       "      <th></th>\n",
       "      <th>SessionId</th>\n",
       "      <th>ItemId</th>\n",
       "      <th>ItemType</th>\n",
       "      <th>Price</th>\n",
       "      <th>Quantity</th>\n",
       "      <th>Action</th>\n",
       "      <th>Time</th>\n",
       "    </tr>\n",
       "  </thead>\n",
       "  <tbody>\n",
       "    <tr>\n",
       "      <td>8</td>\n",
       "      <td>11</td>\n",
       "      <td>214717436</td>\n",
       "      <td>NONE</td>\n",
       "      <td>0.0</td>\n",
       "      <td>0.0</td>\n",
       "      <td>CLICK</td>\n",
       "      <td>1.396523e+09</td>\n",
       "    </tr>\n",
       "    <tr>\n",
       "      <td>9</td>\n",
       "      <td>11</td>\n",
       "      <td>214743335</td>\n",
       "      <td>NONE</td>\n",
       "      <td>0.0</td>\n",
       "      <td>0.0</td>\n",
       "      <td>CLICK</td>\n",
       "      <td>1.396523e+09</td>\n",
       "    </tr>\n",
       "    <tr>\n",
       "      <td>10</td>\n",
       "      <td>11</td>\n",
       "      <td>214826837</td>\n",
       "      <td>NONE</td>\n",
       "      <td>0.0</td>\n",
       "      <td>0.0</td>\n",
       "      <td>CLICK</td>\n",
       "      <td>1.396523e+09</td>\n",
       "    </tr>\n",
       "    <tr>\n",
       "      <td>11</td>\n",
       "      <td>11</td>\n",
       "      <td>214819762</td>\n",
       "      <td>NONE</td>\n",
       "      <td>0.0</td>\n",
       "      <td>0.0</td>\n",
       "      <td>CLICK</td>\n",
       "      <td>1.396523e+09</td>\n",
       "    </tr>\n",
       "    <tr>\n",
       "      <td>23</td>\n",
       "      <td>22</td>\n",
       "      <td>214821309</td>\n",
       "      <td>NONE</td>\n",
       "      <td>0.0</td>\n",
       "      <td>0.0</td>\n",
       "      <td>CLICK</td>\n",
       "      <td>1.396748e+09</td>\n",
       "    </tr>\n",
       "  </tbody>\n",
       "</table>\n",
       "</div>"
      ],
      "text/plain": [
       "    SessionId     ItemId ItemType  Price  Quantity Action          Time\n",
       "8          11  214717436     NONE    0.0       0.0  CLICK  1.396523e+09\n",
       "9          11  214743335     NONE    0.0       0.0  CLICK  1.396523e+09\n",
       "10         11  214826837     NONE    0.0       0.0  CLICK  1.396523e+09\n",
       "11         11  214819762     NONE    0.0       0.0  CLICK  1.396523e+09\n",
       "23         22  214821309     NONE    0.0       0.0  CLICK  1.396748e+09"
      ]
     },
     "execution_count": 207,
     "metadata": {},
     "output_type": "execute_result"
    }
   ],
   "source": [
    "df_test.head()"
   ]
  },
  {
   "cell_type": "code",
   "execution_count": null,
   "metadata": {},
   "outputs": [],
   "source": []
  },
  {
   "cell_type": "code",
   "execution_count": null,
   "metadata": {},
   "outputs": [],
   "source": []
  },
  {
   "cell_type": "code",
   "execution_count": null,
   "metadata": {},
   "outputs": [],
   "source": []
  },
  {
   "cell_type": "code",
   "execution_count": null,
   "metadata": {},
   "outputs": [],
   "source": []
  }
 ],
 "metadata": {
  "kernelspec": {
   "display_name": "Python 3",
   "language": "python",
   "name": "python3"
  },
  "language_info": {
   "codemirror_mode": {
    "name": "ipython",
    "version": 3
   },
   "file_extension": ".py",
   "mimetype": "text/x-python",
   "name": "python",
   "nbconvert_exporter": "python",
   "pygments_lexer": "ipython3",
   "version": "3.7.4"
  }
 },
 "nbformat": 4,
 "nbformat_minor": 2
}
