{
 "cells": [
  {
   "cell_type": "code",
   "execution_count": 1,
   "metadata": {},
   "outputs": [
    {
     "name": "stderr",
     "output_type": "stream",
     "text": [
      "Using TensorFlow backend.\n",
      "/home/ubuntu/anaconda3/lib/python3.7/site-packages/tensorflow/python/framework/dtypes.py:516: FutureWarning: Passing (type, 1) or '1type' as a synonym of type is deprecated; in a future version of numpy, it will be understood as (type, (1,)) / '(1,)type'.\n",
      "  _np_qint8 = np.dtype([(\"qint8\", np.int8, 1)])\n",
      "/home/ubuntu/anaconda3/lib/python3.7/site-packages/tensorflow/python/framework/dtypes.py:517: FutureWarning: Passing (type, 1) or '1type' as a synonym of type is deprecated; in a future version of numpy, it will be understood as (type, (1,)) / '(1,)type'.\n",
      "  _np_quint8 = np.dtype([(\"quint8\", np.uint8, 1)])\n",
      "/home/ubuntu/anaconda3/lib/python3.7/site-packages/tensorflow/python/framework/dtypes.py:518: FutureWarning: Passing (type, 1) or '1type' as a synonym of type is deprecated; in a future version of numpy, it will be understood as (type, (1,)) / '(1,)type'.\n",
      "  _np_qint16 = np.dtype([(\"qint16\", np.int16, 1)])\n",
      "/home/ubuntu/anaconda3/lib/python3.7/site-packages/tensorflow/python/framework/dtypes.py:519: FutureWarning: Passing (type, 1) or '1type' as a synonym of type is deprecated; in a future version of numpy, it will be understood as (type, (1,)) / '(1,)type'.\n",
      "  _np_quint16 = np.dtype([(\"quint16\", np.uint16, 1)])\n",
      "/home/ubuntu/anaconda3/lib/python3.7/site-packages/tensorflow/python/framework/dtypes.py:520: FutureWarning: Passing (type, 1) or '1type' as a synonym of type is deprecated; in a future version of numpy, it will be understood as (type, (1,)) / '(1,)type'.\n",
      "  _np_qint32 = np.dtype([(\"qint32\", np.int32, 1)])\n",
      "/home/ubuntu/anaconda3/lib/python3.7/site-packages/tensorflow/python/framework/dtypes.py:525: FutureWarning: Passing (type, 1) or '1type' as a synonym of type is deprecated; in a future version of numpy, it will be understood as (type, (1,)) / '(1,)type'.\n",
      "  np_resource = np.dtype([(\"resource\", np.ubyte, 1)])\n",
      "/home/ubuntu/anaconda3/lib/python3.7/site-packages/tensorboard/compat/tensorflow_stub/dtypes.py:541: FutureWarning: Passing (type, 1) or '1type' as a synonym of type is deprecated; in a future version of numpy, it will be understood as (type, (1,)) / '(1,)type'.\n",
      "  _np_qint8 = np.dtype([(\"qint8\", np.int8, 1)])\n",
      "/home/ubuntu/anaconda3/lib/python3.7/site-packages/tensorboard/compat/tensorflow_stub/dtypes.py:542: FutureWarning: Passing (type, 1) or '1type' as a synonym of type is deprecated; in a future version of numpy, it will be understood as (type, (1,)) / '(1,)type'.\n",
      "  _np_quint8 = np.dtype([(\"quint8\", np.uint8, 1)])\n",
      "/home/ubuntu/anaconda3/lib/python3.7/site-packages/tensorboard/compat/tensorflow_stub/dtypes.py:543: FutureWarning: Passing (type, 1) or '1type' as a synonym of type is deprecated; in a future version of numpy, it will be understood as (type, (1,)) / '(1,)type'.\n",
      "  _np_qint16 = np.dtype([(\"qint16\", np.int16, 1)])\n",
      "/home/ubuntu/anaconda3/lib/python3.7/site-packages/tensorboard/compat/tensorflow_stub/dtypes.py:544: FutureWarning: Passing (type, 1) or '1type' as a synonym of type is deprecated; in a future version of numpy, it will be understood as (type, (1,)) / '(1,)type'.\n",
      "  _np_quint16 = np.dtype([(\"quint16\", np.uint16, 1)])\n",
      "/home/ubuntu/anaconda3/lib/python3.7/site-packages/tensorboard/compat/tensorflow_stub/dtypes.py:545: FutureWarning: Passing (type, 1) or '1type' as a synonym of type is deprecated; in a future version of numpy, it will be understood as (type, (1,)) / '(1,)type'.\n",
      "  _np_qint32 = np.dtype([(\"qint32\", np.int32, 1)])\n",
      "/home/ubuntu/anaconda3/lib/python3.7/site-packages/tensorboard/compat/tensorflow_stub/dtypes.py:550: FutureWarning: Passing (type, 1) or '1type' as a synonym of type is deprecated; in a future version of numpy, it will be understood as (type, (1,)) / '(1,)type'.\n",
      "  np_resource = np.dtype([(\"resource\", np.ubyte, 1)])\n"
     ]
    }
   ],
   "source": [
    "import numpy as np\n",
    "import pandas as pd\n",
    "import keras"
   ]
  },
  {
   "cell_type": "code",
   "execution_count": 2,
   "metadata": {},
   "outputs": [],
   "source": [
    "import matplotlib.pyplot as plt\n",
    "import warnings\n",
    "warnings.filterwarnings(\"ignore\")"
   ]
  },
  {
   "cell_type": "code",
   "execution_count": 3,
   "metadata": {},
   "outputs": [],
   "source": [
    "%matplotlib inline"
   ]
  },
  {
   "cell_type": "code",
   "execution_count": 4,
   "metadata": {},
   "outputs": [],
   "source": [
    "from IPython.display import SVG"
   ]
  },
  {
   "cell_type": "code",
   "execution_count": 5,
   "metadata": {},
   "outputs": [],
   "source": [
    "from keras.optimizers import Adam"
   ]
  },
  {
   "cell_type": "code",
   "execution_count": 6,
   "metadata": {},
   "outputs": [],
   "source": [
    "from keras.utils.vis_utils import model_to_dot"
   ]
  },
  {
   "cell_type": "code",
   "execution_count": 38,
   "metadata": {},
   "outputs": [],
   "source": [
    "from sklearn.metrics import mean_absolute_error"
   ]
  },
  {
   "cell_type": "code",
   "execution_count": 42,
   "metadata": {},
   "outputs": [],
   "source": [
    "from keras.constraints import non_neg"
   ]
  },
  {
   "cell_type": "code",
   "execution_count": null,
   "metadata": {},
   "outputs": [],
   "source": []
  },
  {
   "cell_type": "code",
   "execution_count": null,
   "metadata": {},
   "outputs": [],
   "source": []
  },
  {
   "cell_type": "code",
   "execution_count": 7,
   "metadata": {},
   "outputs": [
    {
     "name": "stdout",
     "output_type": "stream",
     "text": [
      "CPU times: user 508 ms, sys: 44 ms, total: 552 ms\n",
      "Wall time: 553 ms\n"
     ]
    }
   ],
   "source": [
    "%%time\n",
    "df = pd.read_csv(\"../data/processed/full_rating.csv\") "
   ]
  },
  {
   "cell_type": "code",
   "execution_count": 8,
   "metadata": {},
   "outputs": [
    {
     "data": {
      "text/html": [
       "<div>\n",
       "<style scoped>\n",
       "    .dataframe tbody tr th:only-of-type {\n",
       "        vertical-align: middle;\n",
       "    }\n",
       "\n",
       "    .dataframe tbody tr th {\n",
       "        vertical-align: top;\n",
       "    }\n",
       "\n",
       "    .dataframe thead th {\n",
       "        text-align: right;\n",
       "    }\n",
       "</style>\n",
       "<table border=\"1\" class=\"dataframe\">\n",
       "  <thead>\n",
       "    <tr style=\"text-align: right;\">\n",
       "      <th></th>\n",
       "      <th>SessionId</th>\n",
       "      <th>ItemId</th>\n",
       "      <th>ActionScore</th>\n",
       "      <th>Time</th>\n",
       "    </tr>\n",
       "  </thead>\n",
       "  <tbody>\n",
       "    <tr>\n",
       "      <td>0</td>\n",
       "      <td>87</td>\n",
       "      <td>214840483</td>\n",
       "      <td>5</td>\n",
       "      <td>1.396852e+09</td>\n",
       "    </tr>\n",
       "    <tr>\n",
       "      <td>1</td>\n",
       "      <td>87</td>\n",
       "      <td>214840483</td>\n",
       "      <td>5</td>\n",
       "      <td>1.396852e+09</td>\n",
       "    </tr>\n",
       "    <tr>\n",
       "      <td>2</td>\n",
       "      <td>87</td>\n",
       "      <td>214717286</td>\n",
       "      <td>1</td>\n",
       "      <td>1.396852e+09</td>\n",
       "    </tr>\n",
       "    <tr>\n",
       "      <td>3</td>\n",
       "      <td>87</td>\n",
       "      <td>214558807</td>\n",
       "      <td>1</td>\n",
       "      <td>1.396852e+09</td>\n",
       "    </tr>\n",
       "    <tr>\n",
       "      <td>4</td>\n",
       "      <td>87</td>\n",
       "      <td>214821300</td>\n",
       "      <td>1</td>\n",
       "      <td>1.396852e+09</td>\n",
       "    </tr>\n",
       "  </tbody>\n",
       "</table>\n",
       "</div>"
      ],
      "text/plain": [
       "   SessionId     ItemId  ActionScore          Time\n",
       "0         87  214840483            5  1.396852e+09\n",
       "1         87  214840483            5  1.396852e+09\n",
       "2         87  214717286            1  1.396852e+09\n",
       "3         87  214558807            1  1.396852e+09\n",
       "4         87  214821300            1  1.396852e+09"
      ]
     },
     "execution_count": 8,
     "metadata": {},
     "output_type": "execute_result"
    }
   ],
   "source": [
    "df.head()"
   ]
  },
  {
   "cell_type": "code",
   "execution_count": 9,
   "metadata": {},
   "outputs": [
    {
     "data": {
      "text/plain": [
       "(1252811, 4)"
      ]
     },
     "execution_count": 9,
     "metadata": {},
     "output_type": "execute_result"
    }
   ],
   "source": [
    "df.shape"
   ]
  },
  {
   "cell_type": "code",
   "execution_count": 10,
   "metadata": {},
   "outputs": [
    {
     "data": {
      "text/plain": [
       "(42144, 5120)"
      ]
     },
     "execution_count": 10,
     "metadata": {},
     "output_type": "execute_result"
    }
   ],
   "source": [
    "len(df.SessionId.unique()), len(df.ItemId.unique())"
   ]
  },
  {
   "cell_type": "code",
   "execution_count": 11,
   "metadata": {},
   "outputs": [
    {
     "data": {
      "text/plain": [
       "array([      87,      496,      626, ..., 11561414, 11561423, 11561784])"
      ]
     },
     "execution_count": 11,
     "metadata": {},
     "output_type": "execute_result"
    }
   ],
   "source": [
    "df.SessionId.unique()"
   ]
  },
  {
   "cell_type": "markdown",
   "metadata": {},
   "source": [
    "### Encoding user and item to start from 0 "
   ]
  },
  {
   "cell_type": "code",
   "execution_count": 12,
   "metadata": {},
   "outputs": [
    {
     "name": "stdout",
     "output_type": "stream",
     "text": [
      "CPU times: user 40 ms, sys: 12 ms, total: 52 ms\n",
      "Wall time: 50.2 ms\n"
     ]
    }
   ],
   "source": [
    "%%time\n",
    "df.SessionId = df.SessionId.astype(\"category\").cat.codes.v alues\n",
    "df.ItemId = df.ItemId.astype(\"category\").cat.codes.values"
   ]
  },
  {
   "cell_type": "code",
   "execution_count": 13,
   "metadata": {},
   "outputs": [
    {
     "data": {
      "text/html": [
       "<div>\n",
       "<style scoped>\n",
       "    .dataframe tbody tr th:only-of-type {\n",
       "        vertical-align: middle;\n",
       "    }\n",
       "\n",
       "    .dataframe tbody tr th {\n",
       "        vertical-align: top;\n",
       "    }\n",
       "\n",
       "    .dataframe thead th {\n",
       "        text-align: right;\n",
       "    }\n",
       "</style>\n",
       "<table border=\"1\" class=\"dataframe\">\n",
       "  <thead>\n",
       "    <tr style=\"text-align: right;\">\n",
       "      <th></th>\n",
       "      <th>SessionId</th>\n",
       "      <th>ItemId</th>\n",
       "      <th>ActionScore</th>\n",
       "      <th>Time</th>\n",
       "    </tr>\n",
       "  </thead>\n",
       "  <tbody>\n",
       "    <tr>\n",
       "      <td>0</td>\n",
       "      <td>0</td>\n",
       "      <td>3843</td>\n",
       "      <td>5</td>\n",
       "      <td>1.396852e+09</td>\n",
       "    </tr>\n",
       "    <tr>\n",
       "      <td>1</td>\n",
       "      <td>0</td>\n",
       "      <td>3843</td>\n",
       "      <td>5</td>\n",
       "      <td>1.396852e+09</td>\n",
       "    </tr>\n",
       "    <tr>\n",
       "      <td>2</td>\n",
       "      <td>0</td>\n",
       "      <td>2573</td>\n",
       "      <td>1</td>\n",
       "      <td>1.396852e+09</td>\n",
       "    </tr>\n",
       "    <tr>\n",
       "      <td>3</td>\n",
       "      <td>0</td>\n",
       "      <td>702</td>\n",
       "      <td>1</td>\n",
       "      <td>1.396852e+09</td>\n",
       "    </tr>\n",
       "    <tr>\n",
       "      <td>4</td>\n",
       "      <td>0</td>\n",
       "      <td>2989</td>\n",
       "      <td>1</td>\n",
       "      <td>1.396852e+09</td>\n",
       "    </tr>\n",
       "  </tbody>\n",
       "</table>\n",
       "</div>"
      ],
      "text/plain": [
       "   SessionId  ItemId  ActionScore          Time\n",
       "0          0    3843            5  1.396852e+09\n",
       "1          0    3843            5  1.396852e+09\n",
       "2          0    2573            1  1.396852e+09\n",
       "3          0     702            1  1.396852e+09\n",
       "4          0    2989            1  1.396852e+09"
      ]
     },
     "execution_count": 13,
     "metadata": {},
     "output_type": "execute_result"
    }
   ],
   "source": [
    "df.head()"
   ]
  },
  {
   "cell_type": "markdown",
   "metadata": {},
   "source": [
    "### Train and Test split"
   ]
  },
  {
   "cell_type": "code",
   "execution_count": 14,
   "metadata": {},
   "outputs": [],
   "source": [
    "from sklearn.model_selection import train_test_split"
   ]
  },
  {
   "cell_type": "code",
   "execution_count": 15,
   "metadata": {},
   "outputs": [],
   "source": [
    "TEST_SIZE = 0.3"
   ]
  },
  {
   "cell_type": "code",
   "execution_count": 16,
   "metadata": {},
   "outputs": [
    {
     "name": "stdout",
     "output_type": "stream",
     "text": [
      "CPU times: user 180 ms, sys: 16 ms, total: 196 ms\n",
      "Wall time: 193 ms\n"
     ]
    }
   ],
   "source": [
    "%%time\n",
    "train, test = train_test_split(df, test_size=TEST_SIZE)"
   ]
  },
  {
   "cell_type": "code",
   "execution_count": 17,
   "metadata": {},
   "outputs": [
    {
     "data": {
      "text/plain": [
       "((1252811, 4), (876967, 4), (375844, 4))"
      ]
     },
     "execution_count": 17,
     "metadata": {},
     "output_type": "execute_result"
    }
   ],
   "source": [
    "df.shape, train.shape, test.shape"
   ]
  },
  {
   "cell_type": "code",
   "execution_count": 18,
   "metadata": {},
   "outputs": [
    {
     "data": {
      "text/html": [
       "<div>\n",
       "<style scoped>\n",
       "    .dataframe tbody tr th:only-of-type {\n",
       "        vertical-align: middle;\n",
       "    }\n",
       "\n",
       "    .dataframe tbody tr th {\n",
       "        vertical-align: top;\n",
       "    }\n",
       "\n",
       "    .dataframe thead th {\n",
       "        text-align: right;\n",
       "    }\n",
       "</style>\n",
       "<table border=\"1\" class=\"dataframe\">\n",
       "  <thead>\n",
       "    <tr style=\"text-align: right;\">\n",
       "      <th></th>\n",
       "      <th>SessionId</th>\n",
       "      <th>ItemId</th>\n",
       "      <th>ActionScore</th>\n",
       "      <th>Time</th>\n",
       "    </tr>\n",
       "  </thead>\n",
       "  <tbody>\n",
       "    <tr>\n",
       "      <td>593029</td>\n",
       "      <td>20165</td>\n",
       "      <td>3478</td>\n",
       "      <td>1</td>\n",
       "      <td>1.404687e+09</td>\n",
       "    </tr>\n",
       "    <tr>\n",
       "      <td>1066104</td>\n",
       "      <td>35838</td>\n",
       "      <td>4310</td>\n",
       "      <td>1</td>\n",
       "      <td>1.409898e+09</td>\n",
       "    </tr>\n",
       "    <tr>\n",
       "      <td>933310</td>\n",
       "      <td>31392</td>\n",
       "      <td>4755</td>\n",
       "      <td>1</td>\n",
       "      <td>1.408908e+09</td>\n",
       "    </tr>\n",
       "    <tr>\n",
       "      <td>1231239</td>\n",
       "      <td>41426</td>\n",
       "      <td>4742</td>\n",
       "      <td>1</td>\n",
       "      <td>1.411827e+09</td>\n",
       "    </tr>\n",
       "    <tr>\n",
       "      <td>846312</td>\n",
       "      <td>28559</td>\n",
       "      <td>4717</td>\n",
       "      <td>1</td>\n",
       "      <td>1.408390e+09</td>\n",
       "    </tr>\n",
       "  </tbody>\n",
       "</table>\n",
       "</div>"
      ],
      "text/plain": [
       "         SessionId  ItemId  ActionScore          Time\n",
       "593029       20165    3478            1  1.404687e+09\n",
       "1066104      35838    4310            1  1.409898e+09\n",
       "933310       31392    4755            1  1.408908e+09\n",
       "1231239      41426    4742            1  1.411827e+09\n",
       "846312       28559    4717            1  1.408390e+09"
      ]
     },
     "execution_count": 18,
     "metadata": {},
     "output_type": "execute_result"
    }
   ],
   "source": [
    "train.head()"
   ]
  },
  {
   "cell_type": "markdown",
   "metadata": {},
   "source": [
    "### Matrix Factorization"
   ]
  },
  {
   "cell_type": "code",
   "execution_count": 19,
   "metadata": {},
   "outputs": [],
   "source": [
    "n_users, n_items = len(df.SessionId.unique()), len(df.ItemId.unique())"
   ]
  },
  {
   "cell_type": "code",
   "execution_count": 20,
   "metadata": {},
   "outputs": [],
   "source": [
    "n_latent_factors = 5"
   ]
  },
  {
   "cell_type": "code",
   "execution_count": 21,
   "metadata": {},
   "outputs": [
    {
     "name": "stdout",
     "output_type": "stream",
     "text": [
      "WARNING:tensorflow:From /home/ubuntu/anaconda3/lib/python3.7/site-packages/keras/backend/tensorflow_backend.py:541: The name tf.placeholder is deprecated. Please use tf.compat.v1.placeholder instead.\n",
      "\n",
      "WARNING:tensorflow:From /home/ubuntu/anaconda3/lib/python3.7/site-packages/keras/backend/tensorflow_backend.py:4432: The name tf.random_uniform is deprecated. Please use tf.random.uniform instead.\n",
      "\n"
     ]
    }
   ],
   "source": [
    "item_input = keras.layers.Input(shape=[1],name='Item')\n",
    "item_embedding = keras.layers.Embedding(n_items + 1, n_latent_factors, name='Item-Embedding')(item_input)\n",
    "item_vec = keras.layers.Flatten(name='FlattenItems')(item_embedding)"
   ]
  },
  {
   "cell_type": "code",
   "execution_count": 22,
   "metadata": {},
   "outputs": [],
   "source": [
    "user_input = keras.layers.Input(shape=[1],name='User')\n",
    "user_vec = keras.layers.Flatten(name='FlattenUsers')(keras.layers.Embedding(n_users + 1, n_latent_factors,name='User-Embedding')(user_input))"
   ]
  },
  {
   "cell_type": "code",
   "execution_count": 23,
   "metadata": {},
   "outputs": [],
   "source": [
    "keras.layers.concatenate?"
   ]
  },
  {
   "cell_type": "code",
   "execution_count": 30,
   "metadata": {},
   "outputs": [],
   "source": [
    "prod = keras.layers.dot([item_vec, user_vec], axes=1, name='DotProduct')"
   ]
  },
  {
   "cell_type": "code",
   "execution_count": 31,
   "metadata": {},
   "outputs": [],
   "source": [
    "model = keras.Model([user_input, item_input], prod)\n",
    "model.compile('adam', 'mean_squared_error')"
   ]
  },
  {
   "cell_type": "code",
   "execution_count": 32,
   "metadata": {},
   "outputs": [
    {
     "data": {
      "image/svg+xml": [
       "<svg height=\"405pt\" viewBox=\"0.00 0.00 662.00 304.00\" width=\"883pt\" xmlns=\"http://www.w3.org/2000/svg\" xmlns:xlink=\"http://www.w3.org/1999/xlink\">\n",
       "<g class=\"graph\" id=\"graph0\" transform=\"scale(1.3333 1.3333) rotate(0) translate(4 300)\">\n",
       "<title>G</title>\n",
       "<polygon fill=\"#ffffff\" points=\"-4,4 -4,-300 658,-300 658,4 -4,4\" stroke=\"transparent\"/>\n",
       "<!-- 140520940833744 -->\n",
       "<g class=\"node\" id=\"node1\">\n",
       "<title>140520940833744</title>\n",
       "<polygon fill=\"none\" points=\"42,-249.5 42,-295.5 276,-295.5 276,-249.5 42,-249.5\" stroke=\"#000000\"/>\n",
       "<text fill=\"#000000\" font-family=\"Times,serif\" font-size=\"14.00\" text-anchor=\"middle\" x=\"97\" y=\"-268.8\">Item: InputLayer</text>\n",
       "<polyline fill=\"none\" points=\"152,-249.5 152,-295.5 \" stroke=\"#000000\"/>\n",
       "<text fill=\"#000000\" font-family=\"Times,serif\" font-size=\"14.00\" text-anchor=\"middle\" x=\"179.5\" y=\"-280.3\">input:</text>\n",
       "<polyline fill=\"none\" points=\"152,-272.5 207,-272.5 \" stroke=\"#000000\"/>\n",
       "<text fill=\"#000000\" font-family=\"Times,serif\" font-size=\"14.00\" text-anchor=\"middle\" x=\"179.5\" y=\"-257.3\">output:</text>\n",
       "<polyline fill=\"none\" points=\"207,-249.5 207,-295.5 \" stroke=\"#000000\"/>\n",
       "<text fill=\"#000000\" font-family=\"Times,serif\" font-size=\"14.00\" text-anchor=\"middle\" x=\"241.5\" y=\"-280.3\">(None, 1)</text>\n",
       "<polyline fill=\"none\" points=\"207,-272.5 276,-272.5 \" stroke=\"#000000\"/>\n",
       "<text fill=\"#000000\" font-family=\"Times,serif\" font-size=\"14.00\" text-anchor=\"middle\" x=\"241.5\" y=\"-257.3\">(None, 1)</text>\n",
       "</g>\n",
       "<!-- 140520940707280 -->\n",
       "<g class=\"node\" id=\"node3\">\n",
       "<title>140520940707280</title>\n",
       "<polygon fill=\"none\" points=\"0,-166.5 0,-212.5 318,-212.5 318,-166.5 0,-166.5\" stroke=\"#000000\"/>\n",
       "<text fill=\"#000000\" font-family=\"Times,serif\" font-size=\"14.00\" text-anchor=\"middle\" x=\"90\" y=\"-185.8\">Item-Embedding: Embedding</text>\n",
       "<polyline fill=\"none\" points=\"180,-166.5 180,-212.5 \" stroke=\"#000000\"/>\n",
       "<text fill=\"#000000\" font-family=\"Times,serif\" font-size=\"14.00\" text-anchor=\"middle\" x=\"207.5\" y=\"-197.3\">input:</text>\n",
       "<polyline fill=\"none\" points=\"180,-189.5 235,-189.5 \" stroke=\"#000000\"/>\n",
       "<text fill=\"#000000\" font-family=\"Times,serif\" font-size=\"14.00\" text-anchor=\"middle\" x=\"207.5\" y=\"-174.3\">output:</text>\n",
       "<polyline fill=\"none\" points=\"235,-166.5 235,-212.5 \" stroke=\"#000000\"/>\n",
       "<text fill=\"#000000\" font-family=\"Times,serif\" font-size=\"14.00\" text-anchor=\"middle\" x=\"276.5\" y=\"-197.3\">(None, 1)</text>\n",
       "<polyline fill=\"none\" points=\"235,-189.5 318,-189.5 \" stroke=\"#000000\"/>\n",
       "<text fill=\"#000000\" font-family=\"Times,serif\" font-size=\"14.00\" text-anchor=\"middle\" x=\"276.5\" y=\"-174.3\">(None, 1, 5)</text>\n",
       "</g>\n",
       "<!-- 140520940833744&#45;&gt;140520940707280 -->\n",
       "<g class=\"edge\" id=\"edge1\">\n",
       "<title>140520940833744-&gt;140520940707280</title>\n",
       "<path d=\"M159,-249.3799C159,-241.1745 159,-231.7679 159,-222.8786\" fill=\"none\" stroke=\"#000000\"/>\n",
       "<polygon fill=\"#000000\" points=\"162.5001,-222.784 159,-212.784 155.5001,-222.784 162.5001,-222.784\" stroke=\"#000000\"/>\n",
       "</g>\n",
       "<!-- 140520937945232 -->\n",
       "<g class=\"node\" id=\"node2\">\n",
       "<title>140520937945232</title>\n",
       "<polygon fill=\"none\" points=\"378,-249.5 378,-295.5 612,-295.5 612,-249.5 378,-249.5\" stroke=\"#000000\"/>\n",
       "<text fill=\"#000000\" font-family=\"Times,serif\" font-size=\"14.00\" text-anchor=\"middle\" x=\"433\" y=\"-268.8\">User: InputLayer</text>\n",
       "<polyline fill=\"none\" points=\"488,-249.5 488,-295.5 \" stroke=\"#000000\"/>\n",
       "<text fill=\"#000000\" font-family=\"Times,serif\" font-size=\"14.00\" text-anchor=\"middle\" x=\"515.5\" y=\"-280.3\">input:</text>\n",
       "<polyline fill=\"none\" points=\"488,-272.5 543,-272.5 \" stroke=\"#000000\"/>\n",
       "<text fill=\"#000000\" font-family=\"Times,serif\" font-size=\"14.00\" text-anchor=\"middle\" x=\"515.5\" y=\"-257.3\">output:</text>\n",
       "<polyline fill=\"none\" points=\"543,-249.5 543,-295.5 \" stroke=\"#000000\"/>\n",
       "<text fill=\"#000000\" font-family=\"Times,serif\" font-size=\"14.00\" text-anchor=\"middle\" x=\"577.5\" y=\"-280.3\">(None, 1)</text>\n",
       "<polyline fill=\"none\" points=\"543,-272.5 612,-272.5 \" stroke=\"#000000\"/>\n",
       "<text fill=\"#000000\" font-family=\"Times,serif\" font-size=\"14.00\" text-anchor=\"middle\" x=\"577.5\" y=\"-257.3\">(None, 1)</text>\n",
       "</g>\n",
       "<!-- 140520937945296 -->\n",
       "<g class=\"node\" id=\"node4\">\n",
       "<title>140520937945296</title>\n",
       "<polygon fill=\"none\" points=\"336,-166.5 336,-212.5 654,-212.5 654,-166.5 336,-166.5\" stroke=\"#000000\"/>\n",
       "<text fill=\"#000000\" font-family=\"Times,serif\" font-size=\"14.00\" text-anchor=\"middle\" x=\"426\" y=\"-185.8\">User-Embedding: Embedding</text>\n",
       "<polyline fill=\"none\" points=\"516,-166.5 516,-212.5 \" stroke=\"#000000\"/>\n",
       "<text fill=\"#000000\" font-family=\"Times,serif\" font-size=\"14.00\" text-anchor=\"middle\" x=\"543.5\" y=\"-197.3\">input:</text>\n",
       "<polyline fill=\"none\" points=\"516,-189.5 571,-189.5 \" stroke=\"#000000\"/>\n",
       "<text fill=\"#000000\" font-family=\"Times,serif\" font-size=\"14.00\" text-anchor=\"middle\" x=\"543.5\" y=\"-174.3\">output:</text>\n",
       "<polyline fill=\"none\" points=\"571,-166.5 571,-212.5 \" stroke=\"#000000\"/>\n",
       "<text fill=\"#000000\" font-family=\"Times,serif\" font-size=\"14.00\" text-anchor=\"middle\" x=\"612.5\" y=\"-197.3\">(None, 1)</text>\n",
       "<polyline fill=\"none\" points=\"571,-189.5 654,-189.5 \" stroke=\"#000000\"/>\n",
       "<text fill=\"#000000\" font-family=\"Times,serif\" font-size=\"14.00\" text-anchor=\"middle\" x=\"612.5\" y=\"-174.3\">(None, 1, 5)</text>\n",
       "</g>\n",
       "<!-- 140520937945232&#45;&gt;140520937945296 -->\n",
       "<g class=\"edge\" id=\"edge2\">\n",
       "<title>140520937945232-&gt;140520937945296</title>\n",
       "<path d=\"M495,-249.3799C495,-241.1745 495,-231.7679 495,-222.8786\" fill=\"none\" stroke=\"#000000\"/>\n",
       "<polygon fill=\"#000000\" points=\"498.5001,-222.784 495,-212.784 491.5001,-222.784 498.5001,-222.784\" stroke=\"#000000\"/>\n",
       "</g>\n",
       "<!-- 140520940751184 -->\n",
       "<g class=\"node\" id=\"node5\">\n",
       "<title>140520940751184</title>\n",
       "<polygon fill=\"none\" points=\"50,-83.5 50,-129.5 318,-129.5 318,-83.5 50,-83.5\" stroke=\"#000000\"/>\n",
       "<text fill=\"#000000\" font-family=\"Times,serif\" font-size=\"14.00\" text-anchor=\"middle\" x=\"115\" y=\"-102.8\">FlattenItems: Flatten</text>\n",
       "<polyline fill=\"none\" points=\"180,-83.5 180,-129.5 \" stroke=\"#000000\"/>\n",
       "<text fill=\"#000000\" font-family=\"Times,serif\" font-size=\"14.00\" text-anchor=\"middle\" x=\"207.5\" y=\"-114.3\">input:</text>\n",
       "<polyline fill=\"none\" points=\"180,-106.5 235,-106.5 \" stroke=\"#000000\"/>\n",
       "<text fill=\"#000000\" font-family=\"Times,serif\" font-size=\"14.00\" text-anchor=\"middle\" x=\"207.5\" y=\"-91.3\">output:</text>\n",
       "<polyline fill=\"none\" points=\"235,-83.5 235,-129.5 \" stroke=\"#000000\"/>\n",
       "<text fill=\"#000000\" font-family=\"Times,serif\" font-size=\"14.00\" text-anchor=\"middle\" x=\"276.5\" y=\"-114.3\">(None, 1, 5)</text>\n",
       "<polyline fill=\"none\" points=\"235,-106.5 318,-106.5 \" stroke=\"#000000\"/>\n",
       "<text fill=\"#000000\" font-family=\"Times,serif\" font-size=\"14.00\" text-anchor=\"middle\" x=\"276.5\" y=\"-91.3\">(None, 5)</text>\n",
       "</g>\n",
       "<!-- 140520940707280&#45;&gt;140520940751184 -->\n",
       "<g class=\"edge\" id=\"edge3\">\n",
       "<title>140520940707280-&gt;140520940751184</title>\n",
       "<path d=\"M165.9639,-166.3799C168.4622,-158.0854 171.3303,-148.5633 174.0335,-139.5889\" fill=\"none\" stroke=\"#000000\"/>\n",
       "<polygon fill=\"#000000\" points=\"177.4539,-140.3685 176.9867,-129.784 170.7513,-138.3496 177.4539,-140.3685\" stroke=\"#000000\"/>\n",
       "</g>\n",
       "<!-- 140520937945168 -->\n",
       "<g class=\"node\" id=\"node6\">\n",
       "<title>140520937945168</title>\n",
       "<polygon fill=\"none\" points=\"348,-83.5 348,-129.5 616,-129.5 616,-83.5 348,-83.5\" stroke=\"#000000\"/>\n",
       "<text fill=\"#000000\" font-family=\"Times,serif\" font-size=\"14.00\" text-anchor=\"middle\" x=\"413\" y=\"-102.8\">FlattenUsers: Flatten</text>\n",
       "<polyline fill=\"none\" points=\"478,-83.5 478,-129.5 \" stroke=\"#000000\"/>\n",
       "<text fill=\"#000000\" font-family=\"Times,serif\" font-size=\"14.00\" text-anchor=\"middle\" x=\"505.5\" y=\"-114.3\">input:</text>\n",
       "<polyline fill=\"none\" points=\"478,-106.5 533,-106.5 \" stroke=\"#000000\"/>\n",
       "<text fill=\"#000000\" font-family=\"Times,serif\" font-size=\"14.00\" text-anchor=\"middle\" x=\"505.5\" y=\"-91.3\">output:</text>\n",
       "<polyline fill=\"none\" points=\"533,-83.5 533,-129.5 \" stroke=\"#000000\"/>\n",
       "<text fill=\"#000000\" font-family=\"Times,serif\" font-size=\"14.00\" text-anchor=\"middle\" x=\"574.5\" y=\"-114.3\">(None, 1, 5)</text>\n",
       "<polyline fill=\"none\" points=\"533,-106.5 616,-106.5 \" stroke=\"#000000\"/>\n",
       "<text fill=\"#000000\" font-family=\"Times,serif\" font-size=\"14.00\" text-anchor=\"middle\" x=\"574.5\" y=\"-91.3\">(None, 5)</text>\n",
       "</g>\n",
       "<!-- 140520937945296&#45;&gt;140520937945168 -->\n",
       "<g class=\"edge\" id=\"edge4\">\n",
       "<title>140520937945296-&gt;140520937945168</title>\n",
       "<path d=\"M491.3788,-166.3799C490.0936,-158.1745 488.6203,-148.7679 487.228,-139.8786\" fill=\"none\" stroke=\"#000000\"/>\n",
       "<polygon fill=\"#000000\" points=\"490.6522,-139.1219 485.6469,-129.784 483.7365,-140.2052 490.6522,-139.1219\" stroke=\"#000000\"/>\n",
       "</g>\n",
       "<!-- 140520937064208 -->\n",
       "<g class=\"node\" id=\"node7\">\n",
       "<title>140520937064208</title>\n",
       "<polygon fill=\"none\" points=\"177,-.5 177,-46.5 477,-46.5 477,-.5 177,-.5\" stroke=\"#000000\"/>\n",
       "<text fill=\"#000000\" font-family=\"Times,serif\" font-size=\"14.00\" text-anchor=\"middle\" x=\"230.5\" y=\"-19.8\">DotProduct: Dot</text>\n",
       "<polyline fill=\"none\" points=\"284,-.5 284,-46.5 \" stroke=\"#000000\"/>\n",
       "<text fill=\"#000000\" font-family=\"Times,serif\" font-size=\"14.00\" text-anchor=\"middle\" x=\"311.5\" y=\"-31.3\">input:</text>\n",
       "<polyline fill=\"none\" points=\"284,-23.5 339,-23.5 \" stroke=\"#000000\"/>\n",
       "<text fill=\"#000000\" font-family=\"Times,serif\" font-size=\"14.00\" text-anchor=\"middle\" x=\"311.5\" y=\"-8.3\">output:</text>\n",
       "<polyline fill=\"none\" points=\"339,-.5 339,-46.5 \" stroke=\"#000000\"/>\n",
       "<text fill=\"#000000\" font-family=\"Times,serif\" font-size=\"14.00\" text-anchor=\"middle\" x=\"408\" y=\"-31.3\">[(None, 5), (None, 5)]</text>\n",
       "<polyline fill=\"none\" points=\"339,-23.5 477,-23.5 \" stroke=\"#000000\"/>\n",
       "<text fill=\"#000000\" font-family=\"Times,serif\" font-size=\"14.00\" text-anchor=\"middle\" x=\"408\" y=\"-8.3\">(None, 1)</text>\n",
       "</g>\n",
       "<!-- 140520940751184&#45;&gt;140520937064208 -->\n",
       "<g class=\"edge\" id=\"edge5\">\n",
       "<title>140520940751184-&gt;140520937064208</title>\n",
       "<path d=\"M223.8335,-83.3799C240.5826,-73.6583 260.2371,-62.2505 277.8723,-52.0147\" fill=\"none\" stroke=\"#000000\"/>\n",
       "<polygon fill=\"#000000\" points=\"279.9924,-54.831 286.8842,-46.784 276.4785,-48.7769 279.9924,-54.831\" stroke=\"#000000\"/>\n",
       "</g>\n",
       "<!-- 140520937945168&#45;&gt;140520937064208 -->\n",
       "<g class=\"edge\" id=\"edge6\">\n",
       "<title>140520937945168-&gt;140520937064208</title>\n",
       "<path d=\"M438.8239,-83.3799C420.342,-73.4832 398.5966,-61.8388 379.2191,-51.4625\" fill=\"none\" stroke=\"#000000\"/>\n",
       "<polygon fill=\"#000000\" points=\"380.6811,-48.2752 370.2132,-46.6399 377.3766,-54.4461 380.6811,-48.2752\" stroke=\"#000000\"/>\n",
       "</g>\n",
       "</g>\n",
       "</svg>"
      ],
      "text/plain": [
       "<IPython.core.display.SVG object>"
      ]
     },
     "execution_count": 32,
     "metadata": {},
     "output_type": "execute_result"
    }
   ],
   "source": [
    "SVG(model_to_dot(model,  show_shapes=True, show_layer_names=True, rankdir='HB').create(prog='dot', format='svg'))"
   ]
  },
  {
   "cell_type": "code",
   "execution_count": 33,
   "metadata": {},
   "outputs": [
    {
     "name": "stdout",
     "output_type": "stream",
     "text": [
      "Model: \"model_2\"\n",
      "__________________________________________________________________________________________________\n",
      "Layer (type)                    Output Shape         Param #     Connected to                     \n",
      "==================================================================================================\n",
      "Item (InputLayer)               (None, 1)            0                                            \n",
      "__________________________________________________________________________________________________\n",
      "User (InputLayer)               (None, 1)            0                                            \n",
      "__________________________________________________________________________________________________\n",
      "Item-Embedding (Embedding)      (None, 1, 5)         25605       Item[0][0]                       \n",
      "__________________________________________________________________________________________________\n",
      "User-Embedding (Embedding)      (None, 1, 5)         210725      User[0][0]                       \n",
      "__________________________________________________________________________________________________\n",
      "FlattenItems (Flatten)          (None, 5)            0           Item-Embedding[0][0]             \n",
      "__________________________________________________________________________________________________\n",
      "FlattenUsers (Flatten)          (None, 5)            0           User-Embedding[0][0]             \n",
      "__________________________________________________________________________________________________\n",
      "DotProduct (Dot)                (None, 1)            0           FlattenItems[0][0]               \n",
      "                                                                 FlattenUsers[0][0]               \n",
      "==================================================================================================\n",
      "Total params: 236,330\n",
      "Trainable params: 236,330\n",
      "Non-trainable params: 0\n",
      "__________________________________________________________________________________________________\n"
     ]
    }
   ],
   "source": [
    "model.summary()"
   ]
  },
  {
   "cell_type": "code",
   "execution_count": 36,
   "metadata": {},
   "outputs": [
    {
     "name": "stdout",
     "output_type": "stream",
     "text": [
      "Epoch 1/1\n",
      "CPU times: user 2min 24s, sys: 29.2 s, total: 2min 53s\n",
      "Wall time: 47.1 s\n"
     ]
    }
   ],
   "source": [
    "%%time\n",
    "history = model.fit([train.SessionId, train.ItemId], train.ActionScore, epochs=1, verbose=5)"
   ]
  },
  {
   "cell_type": "code",
   "execution_count": 37,
   "metadata": {},
   "outputs": [],
   "source": [
    "y_hat = np.round(model.predict([test.SessionId, test.ItemId]),0)\n",
    "y_true = test.ActionScore"
   ]
  },
  {
   "cell_type": "code",
   "execution_count": 39,
   "metadata": {},
   "outputs": [
    {
     "data": {
      "text/plain": [
       "0.6012973467715329"
      ]
     },
     "execution_count": 39,
     "metadata": {},
     "output_type": "execute_result"
    }
   ],
   "source": [
    "mean_absolute_error(y_true, y_hat)"
   ]
  },
  {
   "cell_type": "markdown",
   "metadata": {},
   "source": [
    "### Extract Embedding"
   ]
  },
  {
   "cell_type": "code",
   "execution_count": 40,
   "metadata": {},
   "outputs": [
    {
     "data": {
      "text/html": [
       "<div>\n",
       "<style scoped>\n",
       "    .dataframe tbody tr th:only-of-type {\n",
       "        vertical-align: middle;\n",
       "    }\n",
       "\n",
       "    .dataframe tbody tr th {\n",
       "        vertical-align: top;\n",
       "    }\n",
       "\n",
       "    .dataframe thead th {\n",
       "        text-align: right;\n",
       "    }\n",
       "</style>\n",
       "<table border=\"1\" class=\"dataframe\">\n",
       "  <thead>\n",
       "    <tr style=\"text-align: right;\">\n",
       "      <th></th>\n",
       "      <th>0</th>\n",
       "      <th>1</th>\n",
       "      <th>2</th>\n",
       "      <th>3</th>\n",
       "      <th>4</th>\n",
       "    </tr>\n",
       "  </thead>\n",
       "  <tbody>\n",
       "    <tr>\n",
       "      <td>count</td>\n",
       "      <td>5121.000000</td>\n",
       "      <td>5121.000000</td>\n",
       "      <td>5121.000000</td>\n",
       "      <td>5121.000000</td>\n",
       "      <td>5121.000000</td>\n",
       "    </tr>\n",
       "    <tr>\n",
       "      <td>mean</td>\n",
       "      <td>-0.323681</td>\n",
       "      <td>0.681971</td>\n",
       "      <td>0.640228</td>\n",
       "      <td>-0.224153</td>\n",
       "      <td>0.245083</td>\n",
       "    </tr>\n",
       "    <tr>\n",
       "      <td>std</td>\n",
       "      <td>0.677532</td>\n",
       "      <td>0.672881</td>\n",
       "      <td>0.642586</td>\n",
       "      <td>0.684204</td>\n",
       "      <td>0.722002</td>\n",
       "    </tr>\n",
       "    <tr>\n",
       "      <td>min</td>\n",
       "      <td>-3.536342</td>\n",
       "      <td>-1.968172</td>\n",
       "      <td>-1.976570</td>\n",
       "      <td>-3.742739</td>\n",
       "      <td>-3.746885</td>\n",
       "    </tr>\n",
       "    <tr>\n",
       "      <td>25%</td>\n",
       "      <td>-0.774506</td>\n",
       "      <td>0.251230</td>\n",
       "      <td>0.228214</td>\n",
       "      <td>-0.652796</td>\n",
       "      <td>-0.275193</td>\n",
       "    </tr>\n",
       "    <tr>\n",
       "      <td>50%</td>\n",
       "      <td>-0.416180</td>\n",
       "      <td>0.696539</td>\n",
       "      <td>0.647818</td>\n",
       "      <td>-0.190742</td>\n",
       "      <td>0.198691</td>\n",
       "    </tr>\n",
       "    <tr>\n",
       "      <td>75%</td>\n",
       "      <td>0.009828</td>\n",
       "      <td>1.127578</td>\n",
       "      <td>1.069184</td>\n",
       "      <td>0.204774</td>\n",
       "      <td>0.728775</td>\n",
       "    </tr>\n",
       "    <tr>\n",
       "      <td>max</td>\n",
       "      <td>3.562541</td>\n",
       "      <td>3.831408</td>\n",
       "      <td>4.227465</td>\n",
       "      <td>2.656243</td>\n",
       "      <td>3.194803</td>\n",
       "    </tr>\n",
       "  </tbody>\n",
       "</table>\n",
       "</div>"
      ],
      "text/plain": [
       "                 0            1            2            3            4\n",
       "count  5121.000000  5121.000000  5121.000000  5121.000000  5121.000000\n",
       "mean     -0.323681     0.681971     0.640228    -0.224153     0.245083\n",
       "std       0.677532     0.672881     0.642586     0.684204     0.722002\n",
       "min      -3.536342    -1.968172    -1.976570    -3.742739    -3.746885\n",
       "25%      -0.774506     0.251230     0.228214    -0.652796    -0.275193\n",
       "50%      -0.416180     0.696539     0.647818    -0.190742     0.198691\n",
       "75%       0.009828     1.127578     1.069184     0.204774     0.728775\n",
       "max       3.562541     3.831408     4.227465     2.656243     3.194803"
      ]
     },
     "execution_count": 40,
     "metadata": {},
     "output_type": "execute_result"
    }
   ],
   "source": [
    "item_embedding_learnt = model.get_layer(name='Item-Embedding').get_weights()[0]\n",
    "pd.DataFrame(item_embedding_learnt).describe()"
   ]
  },
  {
   "cell_type": "code",
   "execution_count": 41,
   "metadata": {},
   "outputs": [
    {
     "data": {
      "text/html": [
       "<div>\n",
       "<style scoped>\n",
       "    .dataframe tbody tr th:only-of-type {\n",
       "        vertical-align: middle;\n",
       "    }\n",
       "\n",
       "    .dataframe tbody tr th {\n",
       "        vertical-align: top;\n",
       "    }\n",
       "\n",
       "    .dataframe thead th {\n",
       "        text-align: right;\n",
       "    }\n",
       "</style>\n",
       "<table border=\"1\" class=\"dataframe\">\n",
       "  <thead>\n",
       "    <tr style=\"text-align: right;\">\n",
       "      <th></th>\n",
       "      <th>0</th>\n",
       "      <th>1</th>\n",
       "      <th>2</th>\n",
       "      <th>3</th>\n",
       "      <th>4</th>\n",
       "    </tr>\n",
       "  </thead>\n",
       "  <tbody>\n",
       "    <tr>\n",
       "      <td>count</td>\n",
       "      <td>42145.000000</td>\n",
       "      <td>42145.000000</td>\n",
       "      <td>42145.000000</td>\n",
       "      <td>42145.000000</td>\n",
       "      <td>42145.000000</td>\n",
       "    </tr>\n",
       "    <tr>\n",
       "      <td>mean</td>\n",
       "      <td>-0.074906</td>\n",
       "      <td>0.218798</td>\n",
       "      <td>0.202947</td>\n",
       "      <td>-0.079795</td>\n",
       "      <td>0.090513</td>\n",
       "    </tr>\n",
       "    <tr>\n",
       "      <td>std</td>\n",
       "      <td>0.230619</td>\n",
       "      <td>0.187996</td>\n",
       "      <td>0.185901</td>\n",
       "      <td>0.215069</td>\n",
       "      <td>0.223809</td>\n",
       "    </tr>\n",
       "    <tr>\n",
       "      <td>min</td>\n",
       "      <td>-0.903614</td>\n",
       "      <td>-1.099777</td>\n",
       "      <td>-0.971521</td>\n",
       "      <td>-0.994897</td>\n",
       "      <td>-1.033591</td>\n",
       "    </tr>\n",
       "    <tr>\n",
       "      <td>25%</td>\n",
       "      <td>-0.248700</td>\n",
       "      <td>0.146134</td>\n",
       "      <td>0.124057</td>\n",
       "      <td>-0.225326</td>\n",
       "      <td>-0.045484</td>\n",
       "    </tr>\n",
       "    <tr>\n",
       "      <td>50%</td>\n",
       "      <td>-0.077931</td>\n",
       "      <td>0.243874</td>\n",
       "      <td>0.229840</td>\n",
       "      <td>-0.114697</td>\n",
       "      <td>0.133332</td>\n",
       "    </tr>\n",
       "    <tr>\n",
       "      <td>75%</td>\n",
       "      <td>0.092304</td>\n",
       "      <td>0.331819</td>\n",
       "      <td>0.319617</td>\n",
       "      <td>0.047467</td>\n",
       "      <td>0.245095</td>\n",
       "    </tr>\n",
       "    <tr>\n",
       "      <td>max</td>\n",
       "      <td>0.930646</td>\n",
       "      <td>1.431247</td>\n",
       "      <td>1.237424</td>\n",
       "      <td>0.954440</td>\n",
       "      <td>1.044126</td>\n",
       "    </tr>\n",
       "  </tbody>\n",
       "</table>\n",
       "</div>"
      ],
      "text/plain": [
       "                  0             1             2             3             4\n",
       "count  42145.000000  42145.000000  42145.000000  42145.000000  42145.000000\n",
       "mean      -0.074906      0.218798      0.202947     -0.079795      0.090513\n",
       "std        0.230619      0.187996      0.185901      0.215069      0.223809\n",
       "min       -0.903614     -1.099777     -0.971521     -0.994897     -1.033591\n",
       "25%       -0.248700      0.146134      0.124057     -0.225326     -0.045484\n",
       "50%       -0.077931      0.243874      0.229840     -0.114697      0.133332\n",
       "75%        0.092304      0.331819      0.319617      0.047467      0.245095\n",
       "max        0.930646      1.431247      1.237424      0.954440      1.044126"
      ]
     },
     "execution_count": 41,
     "metadata": {},
     "output_type": "execute_result"
    }
   ],
   "source": [
    "user_embedding_learnt = model.get_layer(name='User-Embedding').get_weights()[0]\n",
    "pd.DataFrame(user_embedding_learnt).describe()"
   ]
  },
  {
   "cell_type": "markdown",
   "metadata": {},
   "source": [
    "### Non-negative Matrix Factorization"
   ]
  },
  {
   "cell_type": "code",
   "execution_count": 43,
   "metadata": {},
   "outputs": [],
   "source": [
    "item_input = keras.layers.Input(shape=[1],name='Item')\n",
    "item_embedding = keras.layers.Embedding(n_items + 1, n_latent_factors, name='NonNegItem-Embedding', \n",
    "                                        embeddings_constraint=non_neg())(item_input)\n",
    "item_vec = keras.layers.Flatten(name='FlattenItems')(item_embedding)"
   ]
  },
  {
   "cell_type": "code",
   "execution_count": 44,
   "metadata": {},
   "outputs": [],
   "source": [
    "user_input = keras.layers.Input(shape=[1],name='User')\n",
    "user_vec = keras.layers.Flatten(name='FlattenUsers')(keras.layers.Embedding(n_users + 1, n_latent_factors,\n",
    "                                name='NonNegUser-Embedding', embeddings_constraint=non_neg())(user_input))"
   ]
  },
  {
   "cell_type": "code",
   "execution_count": 46,
   "metadata": {},
   "outputs": [],
   "source": [
    "prod = keras.layers.dot([item_vec, user_vec], axes=1,name='DotProduct')\n",
    "model = keras.Model([user_input, item_input], prod)\n",
    "model.compile('adam', 'mean_squared_error')"
   ]
  },
  {
   "cell_type": "code",
   "execution_count": 48,
   "metadata": {},
   "outputs": [
    {
     "name": "stdout",
     "output_type": "stream",
     "text": [
      "Epoch 1/1\n",
      " - 63s - loss: 2.0106\n",
      "CPU times: user 3min 1s, sys: 33.7 s, total: 3min 35s\n",
      "Wall time: 1min 3s\n"
     ]
    }
   ],
   "source": [
    "%%time\n",
    "history_nonneg = model.fit([train.SessionId, train.ItemId], train.ActionScore, epochs=1, verbose=2)"
   ]
  },
  {
   "cell_type": "markdown",
   "metadata": {},
   "source": [
    "### Deep Learning"
   ]
  },
  {
   "cell_type": "code",
   "execution_count": 59,
   "metadata": {},
   "outputs": [],
   "source": [
    "n_latent_factors_user = 5\n",
    "n_latent_factors_items = 5\n",
    "\n",
    "item_input = keras.layers.Input(shape=[1],name='Item')\n",
    "item_embedding = keras.layers.Embedding(n_items + 1, n_latent_factors_items, name='Item-Embedding')(item_input)\n",
    "item_vec = keras.layers.Flatten(name='FlattenItems')(item_embedding)\n",
    "item_vec = keras.layers.Dropout(rate=0.2)(item_vec)"
   ]
  },
  {
   "cell_type": "code",
   "execution_count": 60,
   "metadata": {},
   "outputs": [],
   "source": [
    "user_input = keras.layers.Input(shape=[1],name='User')\n",
    "user_vec = keras.layers.Flatten(name='FlattenUsers')(keras.layers.Embedding(n_users + 1, n_latent_factors_user,name='User-Embedding')(user_input))\n",
    "user_vec = keras.layers.Dropout(rate=0.2)(user_vec)"
   ]
  },
  {
   "cell_type": "code",
   "execution_count": 62,
   "metadata": {},
   "outputs": [],
   "source": [
    "concat = keras.layers.dot([item_vec, user_vec], axes=1,name='Concat')\n",
    "concat_dropout = keras.layers.Dropout(rate=0.2)(concat)\n",
    "dense = keras.layers.Dense(200,name='FullyConnected')(concat)\n",
    "dropout_1 = keras.layers.Dropout(rate=0.2,name='Dropout')(dense)\n",
    "dense_2 = keras.layers.Dense(100,name='FullyConnected-1')(concat)\n",
    "dropout_2 = keras.layers.Dropout(rate=0.2,name='Dropout')(dense_2)\n",
    "dense_3 = keras.layers.Dense(50,name='FullyConnected-2')(dense_2)\n",
    "dropout_3 = keras.layers.Dropout(rate=0.2,name='Dropout')(dense_3)\n",
    "dense_4 = keras.layers.Dense(20,name='FullyConnected-3', activation='relu')(dense_3)"
   ]
  },
  {
   "cell_type": "code",
   "execution_count": 63,
   "metadata": {},
   "outputs": [],
   "source": [
    "result = keras.layers.Dense(1, activation='relu',name='Activation')(dense_4)\n",
    "adam = Adam(lr=0.005)"
   ]
  },
  {
   "cell_type": "code",
   "execution_count": 64,
   "metadata": {},
   "outputs": [],
   "source": [
    "model = keras.Model([user_input, item_input], result)\n",
    "model.compile(optimizer=adam,loss= 'mean_absolute_error')"
   ]
  },
  {
   "cell_type": "code",
   "execution_count": 65,
   "metadata": {},
   "outputs": [
    {
     "data": {
      "image/svg+xml": [
       "<svg height=\"959pt\" viewBox=\"0.00 0.00 662.00 719.00\" width=\"883pt\" xmlns=\"http://www.w3.org/2000/svg\" xmlns:xlink=\"http://www.w3.org/1999/xlink\">\n",
       "<g class=\"graph\" id=\"graph0\" transform=\"scale(1.3333 1.3333) rotate(0) translate(4 715)\">\n",
       "<title>G</title>\n",
       "<polygon fill=\"#ffffff\" points=\"-4,4 -4,-715 658,-715 658,4 -4,4\" stroke=\"transparent\"/>\n",
       "<!-- 140520462526736 -->\n",
       "<g class=\"node\" id=\"node1\">\n",
       "<title>140520462526736</title>\n",
       "<polygon fill=\"none\" points=\"42,-664.5 42,-710.5 276,-710.5 276,-664.5 42,-664.5\" stroke=\"#000000\"/>\n",
       "<text fill=\"#000000\" font-family=\"Times,serif\" font-size=\"14.00\" text-anchor=\"middle\" x=\"97\" y=\"-683.8\">Item: InputLayer</text>\n",
       "<polyline fill=\"none\" points=\"152,-664.5 152,-710.5 \" stroke=\"#000000\"/>\n",
       "<text fill=\"#000000\" font-family=\"Times,serif\" font-size=\"14.00\" text-anchor=\"middle\" x=\"179.5\" y=\"-695.3\">input:</text>\n",
       "<polyline fill=\"none\" points=\"152,-687.5 207,-687.5 \" stroke=\"#000000\"/>\n",
       "<text fill=\"#000000\" font-family=\"Times,serif\" font-size=\"14.00\" text-anchor=\"middle\" x=\"179.5\" y=\"-672.3\">output:</text>\n",
       "<polyline fill=\"none\" points=\"207,-664.5 207,-710.5 \" stroke=\"#000000\"/>\n",
       "<text fill=\"#000000\" font-family=\"Times,serif\" font-size=\"14.00\" text-anchor=\"middle\" x=\"241.5\" y=\"-695.3\">(None, 1)</text>\n",
       "<polyline fill=\"none\" points=\"207,-687.5 276,-687.5 \" stroke=\"#000000\"/>\n",
       "<text fill=\"#000000\" font-family=\"Times,serif\" font-size=\"14.00\" text-anchor=\"middle\" x=\"241.5\" y=\"-672.3\">(None, 1)</text>\n",
       "</g>\n",
       "<!-- 140520462526928 -->\n",
       "<g class=\"node\" id=\"node3\">\n",
       "<title>140520462526928</title>\n",
       "<polygon fill=\"none\" points=\"0,-581.5 0,-627.5 318,-627.5 318,-581.5 0,-581.5\" stroke=\"#000000\"/>\n",
       "<text fill=\"#000000\" font-family=\"Times,serif\" font-size=\"14.00\" text-anchor=\"middle\" x=\"90\" y=\"-600.8\">Item-Embedding: Embedding</text>\n",
       "<polyline fill=\"none\" points=\"180,-581.5 180,-627.5 \" stroke=\"#000000\"/>\n",
       "<text fill=\"#000000\" font-family=\"Times,serif\" font-size=\"14.00\" text-anchor=\"middle\" x=\"207.5\" y=\"-612.3\">input:</text>\n",
       "<polyline fill=\"none\" points=\"180,-604.5 235,-604.5 \" stroke=\"#000000\"/>\n",
       "<text fill=\"#000000\" font-family=\"Times,serif\" font-size=\"14.00\" text-anchor=\"middle\" x=\"207.5\" y=\"-589.3\">output:</text>\n",
       "<polyline fill=\"none\" points=\"235,-581.5 235,-627.5 \" stroke=\"#000000\"/>\n",
       "<text fill=\"#000000\" font-family=\"Times,serif\" font-size=\"14.00\" text-anchor=\"middle\" x=\"276.5\" y=\"-612.3\">(None, 1)</text>\n",
       "<polyline fill=\"none\" points=\"235,-604.5 318,-604.5 \" stroke=\"#000000\"/>\n",
       "<text fill=\"#000000\" font-family=\"Times,serif\" font-size=\"14.00\" text-anchor=\"middle\" x=\"276.5\" y=\"-589.3\">(None, 1, 5)</text>\n",
       "</g>\n",
       "<!-- 140520462526736&#45;&gt;140520462526928 -->\n",
       "<g class=\"edge\" id=\"edge1\">\n",
       "<title>140520462526736-&gt;140520462526928</title>\n",
       "<path d=\"M159,-664.3799C159,-656.1745 159,-646.7679 159,-637.8786\" fill=\"none\" stroke=\"#000000\"/>\n",
       "<polygon fill=\"#000000\" points=\"162.5001,-637.784 159,-627.784 155.5001,-637.784 162.5001,-637.784\" stroke=\"#000000\"/>\n",
       "</g>\n",
       "<!-- 140520462706896 -->\n",
       "<g class=\"node\" id=\"node2\">\n",
       "<title>140520462706896</title>\n",
       "<polygon fill=\"none\" points=\"378,-664.5 378,-710.5 612,-710.5 612,-664.5 378,-664.5\" stroke=\"#000000\"/>\n",
       "<text fill=\"#000000\" font-family=\"Times,serif\" font-size=\"14.00\" text-anchor=\"middle\" x=\"433\" y=\"-683.8\">User: InputLayer</text>\n",
       "<polyline fill=\"none\" points=\"488,-664.5 488,-710.5 \" stroke=\"#000000\"/>\n",
       "<text fill=\"#000000\" font-family=\"Times,serif\" font-size=\"14.00\" text-anchor=\"middle\" x=\"515.5\" y=\"-695.3\">input:</text>\n",
       "<polyline fill=\"none\" points=\"488,-687.5 543,-687.5 \" stroke=\"#000000\"/>\n",
       "<text fill=\"#000000\" font-family=\"Times,serif\" font-size=\"14.00\" text-anchor=\"middle\" x=\"515.5\" y=\"-672.3\">output:</text>\n",
       "<polyline fill=\"none\" points=\"543,-664.5 543,-710.5 \" stroke=\"#000000\"/>\n",
       "<text fill=\"#000000\" font-family=\"Times,serif\" font-size=\"14.00\" text-anchor=\"middle\" x=\"577.5\" y=\"-695.3\">(None, 1)</text>\n",
       "<polyline fill=\"none\" points=\"543,-687.5 612,-687.5 \" stroke=\"#000000\"/>\n",
       "<text fill=\"#000000\" font-family=\"Times,serif\" font-size=\"14.00\" text-anchor=\"middle\" x=\"577.5\" y=\"-672.3\">(None, 1)</text>\n",
       "</g>\n",
       "<!-- 140520462273360 -->\n",
       "<g class=\"node\" id=\"node4\">\n",
       "<title>140520462273360</title>\n",
       "<polygon fill=\"none\" points=\"336,-581.5 336,-627.5 654,-627.5 654,-581.5 336,-581.5\" stroke=\"#000000\"/>\n",
       "<text fill=\"#000000\" font-family=\"Times,serif\" font-size=\"14.00\" text-anchor=\"middle\" x=\"426\" y=\"-600.8\">User-Embedding: Embedding</text>\n",
       "<polyline fill=\"none\" points=\"516,-581.5 516,-627.5 \" stroke=\"#000000\"/>\n",
       "<text fill=\"#000000\" font-family=\"Times,serif\" font-size=\"14.00\" text-anchor=\"middle\" x=\"543.5\" y=\"-612.3\">input:</text>\n",
       "<polyline fill=\"none\" points=\"516,-604.5 571,-604.5 \" stroke=\"#000000\"/>\n",
       "<text fill=\"#000000\" font-family=\"Times,serif\" font-size=\"14.00\" text-anchor=\"middle\" x=\"543.5\" y=\"-589.3\">output:</text>\n",
       "<polyline fill=\"none\" points=\"571,-581.5 571,-627.5 \" stroke=\"#000000\"/>\n",
       "<text fill=\"#000000\" font-family=\"Times,serif\" font-size=\"14.00\" text-anchor=\"middle\" x=\"612.5\" y=\"-612.3\">(None, 1)</text>\n",
       "<polyline fill=\"none\" points=\"571,-604.5 654,-604.5 \" stroke=\"#000000\"/>\n",
       "<text fill=\"#000000\" font-family=\"Times,serif\" font-size=\"14.00\" text-anchor=\"middle\" x=\"612.5\" y=\"-589.3\">(None, 1, 5)</text>\n",
       "</g>\n",
       "<!-- 140520462706896&#45;&gt;140520462273360 -->\n",
       "<g class=\"edge\" id=\"edge2\">\n",
       "<title>140520462706896-&gt;140520462273360</title>\n",
       "<path d=\"M495,-664.3799C495,-656.1745 495,-646.7679 495,-637.8786\" fill=\"none\" stroke=\"#000000\"/>\n",
       "<polygon fill=\"#000000\" points=\"498.5001,-637.784 495,-627.784 491.5001,-637.784 498.5001,-637.784\" stroke=\"#000000\"/>\n",
       "</g>\n",
       "<!-- 140520462527184 -->\n",
       "<g class=\"node\" id=\"node5\">\n",
       "<title>140520462527184</title>\n",
       "<polygon fill=\"none\" points=\"50,-498.5 50,-544.5 318,-544.5 318,-498.5 50,-498.5\" stroke=\"#000000\"/>\n",
       "<text fill=\"#000000\" font-family=\"Times,serif\" font-size=\"14.00\" text-anchor=\"middle\" x=\"115\" y=\"-517.8\">FlattenItems: Flatten</text>\n",
       "<polyline fill=\"none\" points=\"180,-498.5 180,-544.5 \" stroke=\"#000000\"/>\n",
       "<text fill=\"#000000\" font-family=\"Times,serif\" font-size=\"14.00\" text-anchor=\"middle\" x=\"207.5\" y=\"-529.3\">input:</text>\n",
       "<polyline fill=\"none\" points=\"180,-521.5 235,-521.5 \" stroke=\"#000000\"/>\n",
       "<text fill=\"#000000\" font-family=\"Times,serif\" font-size=\"14.00\" text-anchor=\"middle\" x=\"207.5\" y=\"-506.3\">output:</text>\n",
       "<polyline fill=\"none\" points=\"235,-498.5 235,-544.5 \" stroke=\"#000000\"/>\n",
       "<text fill=\"#000000\" font-family=\"Times,serif\" font-size=\"14.00\" text-anchor=\"middle\" x=\"276.5\" y=\"-529.3\">(None, 1, 5)</text>\n",
       "<polyline fill=\"none\" points=\"235,-521.5 318,-521.5 \" stroke=\"#000000\"/>\n",
       "<text fill=\"#000000\" font-family=\"Times,serif\" font-size=\"14.00\" text-anchor=\"middle\" x=\"276.5\" y=\"-506.3\">(None, 5)</text>\n",
       "</g>\n",
       "<!-- 140520462526928&#45;&gt;140520462527184 -->\n",
       "<g class=\"edge\" id=\"edge3\">\n",
       "<title>140520462526928-&gt;140520462527184</title>\n",
       "<path d=\"M165.9639,-581.3799C168.4622,-573.0854 171.3303,-563.5633 174.0335,-554.5889\" fill=\"none\" stroke=\"#000000\"/>\n",
       "<polygon fill=\"#000000\" points=\"177.4539,-555.3685 176.9867,-544.784 170.7513,-553.3496 177.4539,-555.3685\" stroke=\"#000000\"/>\n",
       "</g>\n",
       "<!-- 140520462707792 -->\n",
       "<g class=\"node\" id=\"node6\">\n",
       "<title>140520462707792</title>\n",
       "<polygon fill=\"none\" points=\"348,-498.5 348,-544.5 616,-544.5 616,-498.5 348,-498.5\" stroke=\"#000000\"/>\n",
       "<text fill=\"#000000\" font-family=\"Times,serif\" font-size=\"14.00\" text-anchor=\"middle\" x=\"413\" y=\"-517.8\">FlattenUsers: Flatten</text>\n",
       "<polyline fill=\"none\" points=\"478,-498.5 478,-544.5 \" stroke=\"#000000\"/>\n",
       "<text fill=\"#000000\" font-family=\"Times,serif\" font-size=\"14.00\" text-anchor=\"middle\" x=\"505.5\" y=\"-529.3\">input:</text>\n",
       "<polyline fill=\"none\" points=\"478,-521.5 533,-521.5 \" stroke=\"#000000\"/>\n",
       "<text fill=\"#000000\" font-family=\"Times,serif\" font-size=\"14.00\" text-anchor=\"middle\" x=\"505.5\" y=\"-506.3\">output:</text>\n",
       "<polyline fill=\"none\" points=\"533,-498.5 533,-544.5 \" stroke=\"#000000\"/>\n",
       "<text fill=\"#000000\" font-family=\"Times,serif\" font-size=\"14.00\" text-anchor=\"middle\" x=\"574.5\" y=\"-529.3\">(None, 1, 5)</text>\n",
       "<polyline fill=\"none\" points=\"533,-521.5 616,-521.5 \" stroke=\"#000000\"/>\n",
       "<text fill=\"#000000\" font-family=\"Times,serif\" font-size=\"14.00\" text-anchor=\"middle\" x=\"574.5\" y=\"-506.3\">(None, 5)</text>\n",
       "</g>\n",
       "<!-- 140520462273360&#45;&gt;140520462707792 -->\n",
       "<g class=\"edge\" id=\"edge4\">\n",
       "<title>140520462273360-&gt;140520462707792</title>\n",
       "<path d=\"M491.3788,-581.3799C490.0936,-573.1745 488.6203,-563.7679 487.228,-554.8786\" fill=\"none\" stroke=\"#000000\"/>\n",
       "<polygon fill=\"#000000\" points=\"490.6522,-554.1219 485.6469,-544.784 483.7365,-555.2052 490.6522,-554.1219\" stroke=\"#000000\"/>\n",
       "</g>\n",
       "<!-- 140520463323216 -->\n",
       "<g class=\"node\" id=\"node7\">\n",
       "<title>140520463323216</title>\n",
       "<polygon fill=\"none\" points=\"68.5,-415.5 68.5,-461.5 317.5,-461.5 317.5,-415.5 68.5,-415.5\" stroke=\"#000000\"/>\n",
       "<text fill=\"#000000\" font-family=\"Times,serif\" font-size=\"14.00\" text-anchor=\"middle\" x=\"131\" y=\"-434.8\">dropout_6: Dropout</text>\n",
       "<polyline fill=\"none\" points=\"193.5,-415.5 193.5,-461.5 \" stroke=\"#000000\"/>\n",
       "<text fill=\"#000000\" font-family=\"Times,serif\" font-size=\"14.00\" text-anchor=\"middle\" x=\"221\" y=\"-446.3\">input:</text>\n",
       "<polyline fill=\"none\" points=\"193.5,-438.5 248.5,-438.5 \" stroke=\"#000000\"/>\n",
       "<text fill=\"#000000\" font-family=\"Times,serif\" font-size=\"14.00\" text-anchor=\"middle\" x=\"221\" y=\"-423.3\">output:</text>\n",
       "<polyline fill=\"none\" points=\"248.5,-415.5 248.5,-461.5 \" stroke=\"#000000\"/>\n",
       "<text fill=\"#000000\" font-family=\"Times,serif\" font-size=\"14.00\" text-anchor=\"middle\" x=\"283\" y=\"-446.3\">(None, 5)</text>\n",
       "<polyline fill=\"none\" points=\"248.5,-438.5 317.5,-438.5 \" stroke=\"#000000\"/>\n",
       "<text fill=\"#000000\" font-family=\"Times,serif\" font-size=\"14.00\" text-anchor=\"middle\" x=\"283\" y=\"-423.3\">(None, 5)</text>\n",
       "</g>\n",
       "<!-- 140520462527184&#45;&gt;140520463323216 -->\n",
       "<g class=\"edge\" id=\"edge5\">\n",
       "<title>140520462527184-&gt;140520463323216</title>\n",
       "<path d=\"M186.507,-498.3799C187.3967,-490.1745 188.4167,-480.7679 189.3806,-471.8786\" fill=\"none\" stroke=\"#000000\"/>\n",
       "<polygon fill=\"#000000\" points=\"192.8767,-472.1031 190.4752,-461.784 185.9175,-471.3484 192.8767,-472.1031\" stroke=\"#000000\"/>\n",
       "</g>\n",
       "<!-- 140520462707408 -->\n",
       "<g class=\"node\" id=\"node8\">\n",
       "<title>140520462707408</title>\n",
       "<polygon fill=\"none\" points=\"346.5,-415.5 346.5,-461.5 595.5,-461.5 595.5,-415.5 346.5,-415.5\" stroke=\"#000000\"/>\n",
       "<text fill=\"#000000\" font-family=\"Times,serif\" font-size=\"14.00\" text-anchor=\"middle\" x=\"409\" y=\"-434.8\">dropout_7: Dropout</text>\n",
       "<polyline fill=\"none\" points=\"471.5,-415.5 471.5,-461.5 \" stroke=\"#000000\"/>\n",
       "<text fill=\"#000000\" font-family=\"Times,serif\" font-size=\"14.00\" text-anchor=\"middle\" x=\"499\" y=\"-446.3\">input:</text>\n",
       "<polyline fill=\"none\" points=\"471.5,-438.5 526.5,-438.5 \" stroke=\"#000000\"/>\n",
       "<text fill=\"#000000\" font-family=\"Times,serif\" font-size=\"14.00\" text-anchor=\"middle\" x=\"499\" y=\"-423.3\">output:</text>\n",
       "<polyline fill=\"none\" points=\"526.5,-415.5 526.5,-461.5 \" stroke=\"#000000\"/>\n",
       "<text fill=\"#000000\" font-family=\"Times,serif\" font-size=\"14.00\" text-anchor=\"middle\" x=\"561\" y=\"-446.3\">(None, 5)</text>\n",
       "<polyline fill=\"none\" points=\"526.5,-438.5 595.5,-438.5 \" stroke=\"#000000\"/>\n",
       "<text fill=\"#000000\" font-family=\"Times,serif\" font-size=\"14.00\" text-anchor=\"middle\" x=\"561\" y=\"-423.3\">(None, 5)</text>\n",
       "</g>\n",
       "<!-- 140520462707792&#45;&gt;140520462707408 -->\n",
       "<g class=\"edge\" id=\"edge6\">\n",
       "<title>140520462707792-&gt;140520462707408</title>\n",
       "<path d=\"M478.9359,-498.3799C477.8484,-490.1745 476.6018,-480.7679 475.4237,-471.8786\" fill=\"none\" stroke=\"#000000\"/>\n",
       "<polygon fill=\"#000000\" points=\"478.8694,-471.2375 474.0858,-461.784 471.9301,-472.1572 478.8694,-471.2375\" stroke=\"#000000\"/>\n",
       "</g>\n",
       "<!-- 140520461922640 -->\n",
       "<g class=\"node\" id=\"node9\">\n",
       "<title>140520461922640</title>\n",
       "<polygon fill=\"none\" points=\"188,-332.5 188,-378.5 464,-378.5 464,-332.5 188,-332.5\" stroke=\"#000000\"/>\n",
       "<text fill=\"#000000\" font-family=\"Times,serif\" font-size=\"14.00\" text-anchor=\"middle\" x=\"229.5\" y=\"-351.8\">Concat: Dot</text>\n",
       "<polyline fill=\"none\" points=\"271,-332.5 271,-378.5 \" stroke=\"#000000\"/>\n",
       "<text fill=\"#000000\" font-family=\"Times,serif\" font-size=\"14.00\" text-anchor=\"middle\" x=\"298.5\" y=\"-363.3\">input:</text>\n",
       "<polyline fill=\"none\" points=\"271,-355.5 326,-355.5 \" stroke=\"#000000\"/>\n",
       "<text fill=\"#000000\" font-family=\"Times,serif\" font-size=\"14.00\" text-anchor=\"middle\" x=\"298.5\" y=\"-340.3\">output:</text>\n",
       "<polyline fill=\"none\" points=\"326,-332.5 326,-378.5 \" stroke=\"#000000\"/>\n",
       "<text fill=\"#000000\" font-family=\"Times,serif\" font-size=\"14.00\" text-anchor=\"middle\" x=\"395\" y=\"-363.3\">[(None, 5), (None, 5)]</text>\n",
       "<polyline fill=\"none\" points=\"326,-355.5 464,-355.5 \" stroke=\"#000000\"/>\n",
       "<text fill=\"#000000\" font-family=\"Times,serif\" font-size=\"14.00\" text-anchor=\"middle\" x=\"395\" y=\"-340.3\">(None, 1)</text>\n",
       "</g>\n",
       "<!-- 140520463323216&#45;&gt;140520461922640 -->\n",
       "<g class=\"edge\" id=\"edge7\">\n",
       "<title>140520463323216-&gt;140520461922640</title>\n",
       "<path d=\"M230.0479,-415.3799C245.4829,-405.7475 263.5706,-394.4597 279.8559,-384.2967\" fill=\"none\" stroke=\"#000000\"/>\n",
       "<polygon fill=\"#000000\" points=\"282.0589,-387.0476 288.6895,-378.784 278.3529,-381.1091 282.0589,-387.0476\" stroke=\"#000000\"/>\n",
       "</g>\n",
       "<!-- 140520462707408&#45;&gt;140520461922640 -->\n",
       "<g class=\"edge\" id=\"edge8\">\n",
       "<title>140520462707408-&gt;140520461922640</title>\n",
       "<path d=\"M430.6094,-415.3799C413.5547,-405.6175 393.5292,-394.1546 375.5896,-383.8857\" fill=\"none\" stroke=\"#000000\"/>\n",
       "<polygon fill=\"#000000\" points=\"376.8427,-380.5703 366.4252,-378.6399 373.3652,-386.6454 376.8427,-380.5703\" stroke=\"#000000\"/>\n",
       "</g>\n",
       "<!-- 140520461922576 -->\n",
       "<g class=\"node\" id=\"node10\">\n",
       "<title>140520461922576</title>\n",
       "<polygon fill=\"none\" points=\"179.5,-249.5 179.5,-295.5 472.5,-295.5 472.5,-249.5 179.5,-249.5\" stroke=\"#000000\"/>\n",
       "<text fill=\"#000000\" font-family=\"Times,serif\" font-size=\"14.00\" text-anchor=\"middle\" x=\"257\" y=\"-268.8\">FullyConnected-1: Dense</text>\n",
       "<polyline fill=\"none\" points=\"334.5,-249.5 334.5,-295.5 \" stroke=\"#000000\"/>\n",
       "<text fill=\"#000000\" font-family=\"Times,serif\" font-size=\"14.00\" text-anchor=\"middle\" x=\"362\" y=\"-280.3\">input:</text>\n",
       "<polyline fill=\"none\" points=\"334.5,-272.5 389.5,-272.5 \" stroke=\"#000000\"/>\n",
       "<text fill=\"#000000\" font-family=\"Times,serif\" font-size=\"14.00\" text-anchor=\"middle\" x=\"362\" y=\"-257.3\">output:</text>\n",
       "<polyline fill=\"none\" points=\"389.5,-249.5 389.5,-295.5 \" stroke=\"#000000\"/>\n",
       "<text fill=\"#000000\" font-family=\"Times,serif\" font-size=\"14.00\" text-anchor=\"middle\" x=\"431\" y=\"-280.3\">(None, 1)</text>\n",
       "<polyline fill=\"none\" points=\"389.5,-272.5 472.5,-272.5 \" stroke=\"#000000\"/>\n",
       "<text fill=\"#000000\" font-family=\"Times,serif\" font-size=\"14.00\" text-anchor=\"middle\" x=\"431\" y=\"-257.3\">(None, 100)</text>\n",
       "</g>\n",
       "<!-- 140520461922640&#45;&gt;140520461922576 -->\n",
       "<g class=\"edge\" id=\"edge9\">\n",
       "<title>140520461922640-&gt;140520461922576</title>\n",
       "<path d=\"M326,-332.3799C326,-324.1745 326,-314.7679 326,-305.8786\" fill=\"none\" stroke=\"#000000\"/>\n",
       "<polygon fill=\"#000000\" points=\"329.5001,-305.784 326,-295.784 322.5001,-305.784 329.5001,-305.784\" stroke=\"#000000\"/>\n",
       "</g>\n",
       "<!-- 140520461553296 -->\n",
       "<g class=\"node\" id=\"node11\">\n",
       "<title>140520461553296</title>\n",
       "<polygon fill=\"none\" points=\"179.5,-166.5 179.5,-212.5 472.5,-212.5 472.5,-166.5 179.5,-166.5\" stroke=\"#000000\"/>\n",
       "<text fill=\"#000000\" font-family=\"Times,serif\" font-size=\"14.00\" text-anchor=\"middle\" x=\"257\" y=\"-185.8\">FullyConnected-2: Dense</text>\n",
       "<polyline fill=\"none\" points=\"334.5,-166.5 334.5,-212.5 \" stroke=\"#000000\"/>\n",
       "<text fill=\"#000000\" font-family=\"Times,serif\" font-size=\"14.00\" text-anchor=\"middle\" x=\"362\" y=\"-197.3\">input:</text>\n",
       "<polyline fill=\"none\" points=\"334.5,-189.5 389.5,-189.5 \" stroke=\"#000000\"/>\n",
       "<text fill=\"#000000\" font-family=\"Times,serif\" font-size=\"14.00\" text-anchor=\"middle\" x=\"362\" y=\"-174.3\">output:</text>\n",
       "<polyline fill=\"none\" points=\"389.5,-166.5 389.5,-212.5 \" stroke=\"#000000\"/>\n",
       "<text fill=\"#000000\" font-family=\"Times,serif\" font-size=\"14.00\" text-anchor=\"middle\" x=\"431\" y=\"-197.3\">(None, 100)</text>\n",
       "<polyline fill=\"none\" points=\"389.5,-189.5 472.5,-189.5 \" stroke=\"#000000\"/>\n",
       "<text fill=\"#000000\" font-family=\"Times,serif\" font-size=\"14.00\" text-anchor=\"middle\" x=\"431\" y=\"-174.3\">(None, 50)</text>\n",
       "</g>\n",
       "<!-- 140520461922576&#45;&gt;140520461553296 -->\n",
       "<g class=\"edge\" id=\"edge10\">\n",
       "<title>140520461922576-&gt;140520461553296</title>\n",
       "<path d=\"M326,-249.3799C326,-241.1745 326,-231.7679 326,-222.8786\" fill=\"none\" stroke=\"#000000\"/>\n",
       "<polygon fill=\"#000000\" points=\"329.5001,-222.784 326,-212.784 322.5001,-222.784 329.5001,-222.784\" stroke=\"#000000\"/>\n",
       "</g>\n",
       "<!-- 140520461091792 -->\n",
       "<g class=\"node\" id=\"node12\">\n",
       "<title>140520461091792</title>\n",
       "<polygon fill=\"none\" points=\"183,-83.5 183,-129.5 469,-129.5 469,-83.5 183,-83.5\" stroke=\"#000000\"/>\n",
       "<text fill=\"#000000\" font-family=\"Times,serif\" font-size=\"14.00\" text-anchor=\"middle\" x=\"260.5\" y=\"-102.8\">FullyConnected-3: Dense</text>\n",
       "<polyline fill=\"none\" points=\"338,-83.5 338,-129.5 \" stroke=\"#000000\"/>\n",
       "<text fill=\"#000000\" font-family=\"Times,serif\" font-size=\"14.00\" text-anchor=\"middle\" x=\"365.5\" y=\"-114.3\">input:</text>\n",
       "<polyline fill=\"none\" points=\"338,-106.5 393,-106.5 \" stroke=\"#000000\"/>\n",
       "<text fill=\"#000000\" font-family=\"Times,serif\" font-size=\"14.00\" text-anchor=\"middle\" x=\"365.5\" y=\"-91.3\">output:</text>\n",
       "<polyline fill=\"none\" points=\"393,-83.5 393,-129.5 \" stroke=\"#000000\"/>\n",
       "<text fill=\"#000000\" font-family=\"Times,serif\" font-size=\"14.00\" text-anchor=\"middle\" x=\"431\" y=\"-114.3\">(None, 50)</text>\n",
       "<polyline fill=\"none\" points=\"393,-106.5 469,-106.5 \" stroke=\"#000000\"/>\n",
       "<text fill=\"#000000\" font-family=\"Times,serif\" font-size=\"14.00\" text-anchor=\"middle\" x=\"431\" y=\"-91.3\">(None, 20)</text>\n",
       "</g>\n",
       "<!-- 140520461553296&#45;&gt;140520461091792 -->\n",
       "<g class=\"edge\" id=\"edge11\">\n",
       "<title>140520461553296-&gt;140520461091792</title>\n",
       "<path d=\"M326,-166.3799C326,-158.1745 326,-148.7679 326,-139.8786\" fill=\"none\" stroke=\"#000000\"/>\n",
       "<polygon fill=\"#000000\" points=\"329.5001,-139.784 326,-129.784 322.5001,-139.784 329.5001,-139.784\" stroke=\"#000000\"/>\n",
       "</g>\n",
       "<!-- 140520462526288 -->\n",
       "<g class=\"node\" id=\"node13\">\n",
       "<title>140520462526288</title>\n",
       "<polygon fill=\"none\" points=\"203,-.5 203,-46.5 449,-46.5 449,-.5 203,-.5\" stroke=\"#000000\"/>\n",
       "<text fill=\"#000000\" font-family=\"Times,serif\" font-size=\"14.00\" text-anchor=\"middle\" x=\"260.5\" y=\"-19.8\">Activation: Dense</text>\n",
       "<polyline fill=\"none\" points=\"318,-.5 318,-46.5 \" stroke=\"#000000\"/>\n",
       "<text fill=\"#000000\" font-family=\"Times,serif\" font-size=\"14.00\" text-anchor=\"middle\" x=\"345.5\" y=\"-31.3\">input:</text>\n",
       "<polyline fill=\"none\" points=\"318,-23.5 373,-23.5 \" stroke=\"#000000\"/>\n",
       "<text fill=\"#000000\" font-family=\"Times,serif\" font-size=\"14.00\" text-anchor=\"middle\" x=\"345.5\" y=\"-8.3\">output:</text>\n",
       "<polyline fill=\"none\" points=\"373,-.5 373,-46.5 \" stroke=\"#000000\"/>\n",
       "<text fill=\"#000000\" font-family=\"Times,serif\" font-size=\"14.00\" text-anchor=\"middle\" x=\"411\" y=\"-31.3\">(None, 20)</text>\n",
       "<polyline fill=\"none\" points=\"373,-23.5 449,-23.5 \" stroke=\"#000000\"/>\n",
       "<text fill=\"#000000\" font-family=\"Times,serif\" font-size=\"14.00\" text-anchor=\"middle\" x=\"411\" y=\"-8.3\">(None, 1)</text>\n",
       "</g>\n",
       "<!-- 140520461091792&#45;&gt;140520462526288 -->\n",
       "<g class=\"edge\" id=\"edge12\">\n",
       "<title>140520461091792-&gt;140520462526288</title>\n",
       "<path d=\"M326,-83.3799C326,-75.1745 326,-65.7679 326,-56.8786\" fill=\"none\" stroke=\"#000000\"/>\n",
       "<polygon fill=\"#000000\" points=\"329.5001,-56.784 326,-46.784 322.5001,-56.784 329.5001,-56.784\" stroke=\"#000000\"/>\n",
       "</g>\n",
       "</g>\n",
       "</svg>"
      ],
      "text/plain": [
       "<IPython.core.display.SVG object>"
      ]
     },
     "execution_count": 65,
     "metadata": {},
     "output_type": "execute_result"
    }
   ],
   "source": [
    "SVG(model_to_dot(model,  show_shapes=True, show_layer_names=True, rankdir='HB').create(prog='dot', format='svg'))"
   ]
  },
  {
   "cell_type": "code",
   "execution_count": 66,
   "metadata": {},
   "outputs": [
    {
     "name": "stdout",
     "output_type": "stream",
     "text": [
      "Model: \"model_4\"\n",
      "__________________________________________________________________________________________________\n",
      "Layer (type)                    Output Shape         Param #     Connected to                     \n",
      "==================================================================================================\n",
      "Item (InputLayer)               (None, 1)            0                                            \n",
      "__________________________________________________________________________________________________\n",
      "User (InputLayer)               (None, 1)            0                                            \n",
      "__________________________________________________________________________________________________\n",
      "Item-Embedding (Embedding)      (None, 1, 5)         25605       Item[0][0]                       \n",
      "__________________________________________________________________________________________________\n",
      "User-Embedding (Embedding)      (None, 1, 5)         210725      User[0][0]                       \n",
      "__________________________________________________________________________________________________\n",
      "FlattenItems (Flatten)          (None, 5)            0           Item-Embedding[0][0]             \n",
      "__________________________________________________________________________________________________\n",
      "FlattenUsers (Flatten)          (None, 5)            0           User-Embedding[0][0]             \n",
      "__________________________________________________________________________________________________\n",
      "dropout_6 (Dropout)             (None, 5)            0           FlattenItems[0][0]               \n",
      "__________________________________________________________________________________________________\n",
      "dropout_7 (Dropout)             (None, 5)            0           FlattenUsers[0][0]               \n",
      "__________________________________________________________________________________________________\n",
      "Concat (Dot)                    (None, 1)            0           dropout_6[0][0]                  \n",
      "                                                                 dropout_7[0][0]                  \n",
      "__________________________________________________________________________________________________\n",
      "FullyConnected-1 (Dense)        (None, 100)          200         Concat[0][0]                     \n",
      "__________________________________________________________________________________________________\n",
      "FullyConnected-2 (Dense)        (None, 50)           5050        FullyConnected-1[0][0]           \n",
      "__________________________________________________________________________________________________\n",
      "FullyConnected-3 (Dense)        (None, 20)           1020        FullyConnected-2[0][0]           \n",
      "__________________________________________________________________________________________________\n",
      "Activation (Dense)              (None, 1)            21          FullyConnected-3[0][0]           \n",
      "==================================================================================================\n",
      "Total params: 242,621\n",
      "Trainable params: 242,621\n",
      "Non-trainable params: 0\n",
      "__________________________________________________________________________________________________\n"
     ]
    }
   ],
   "source": [
    "model.summary()"
   ]
  },
  {
   "cell_type": "code",
   "execution_count": 71,
   "metadata": {},
   "outputs": [
    {
     "name": "stdout",
     "output_type": "stream",
     "text": [
      "Epoch 1/5\n",
      "876967/876967 [==============================] - 62s 71us/step - loss: 0.5352\n",
      "Epoch 2/5\n",
      "876967/876967 [==============================] - 63s 72us/step - loss: 0.5344\n",
      "Epoch 3/5\n",
      "876967/876967 [==============================] - 64s 73us/step - loss: 0.5340\n",
      "Epoch 4/5\n",
      "876967/876967 [==============================] - 62s 70us/step - loss: 0.5339\n",
      "Epoch 5/5\n",
      "876967/876967 [==============================] - 64s 72us/step - loss: 0.5339\n",
      "CPU times: user 15min 40s, sys: 3min 7s, total: 18min 47s\n",
      "Wall time: 5min 14s\n"
     ]
    }
   ],
   "source": [
    "%%time\n",
    "history = model.fit([train.SessionId, train.ItemId], train.ActionScore, epochs=5, verbose=1)"
   ]
  },
  {
   "cell_type": "code",
   "execution_count": 72,
   "metadata": {},
   "outputs": [
    {
     "name": "stdout",
     "output_type": "stream",
     "text": [
      "0.5305392662913336\n"
     ]
    }
   ],
   "source": [
    "y_hat_2 = np.round(model.predict([test.SessionId, test.ItemId]),0)\n",
    "print(mean_absolute_error(y_true, y_hat_2))"
   ]
  },
  {
   "cell_type": "code",
   "execution_count": 73,
   "metadata": {},
   "outputs": [
    {
     "name": "stdout",
     "output_type": "stream",
     "text": [
      "0.5309141199023261\n"
     ]
    }
   ],
   "source": [
    "print(mean_absolute_error(y_true, model.predict([test.SessionId, test.ItemId])))"
   ]
  },
  {
   "cell_type": "code",
   "execution_count": null,
   "metadata": {},
   "outputs": [],
   "source": []
  }
 ],
 "metadata": {
  "kernelspec": {
   "display_name": "Python 3",
   "language": "python",
   "name": "python3"
  },
  "language_info": {
   "codemirror_mode": {
    "name": "ipython",
    "version": 3
   },
   "file_extension": ".py",
   "mimetype": "text/x-python",
   "name": "python",
   "nbconvert_exporter": "python",
   "pygments_lexer": "ipython3",
   "version": "3.7.4"
  }
 },
 "nbformat": 4,
 "nbformat_minor": 2
}
